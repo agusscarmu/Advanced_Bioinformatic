{
 "cells": [
  {
   "cell_type": "code",
   "execution_count": 2,
   "id": "initial_id",
   "metadata": {
    "ExecuteTime": {
     "end_time": "2024-10-26T13:01:20.135997Z",
     "start_time": "2024-10-26T13:01:19.887292Z"
    }
   },
   "outputs": [
    {
     "name": "stderr",
     "output_type": "stream",
     "text": [
      "/Users/agustincarmusciano/Desktop/Bioinformatica/bioinformatics/lib/python3.11/site-packages/Bio/PDB/StructureBuilder.py:100: PDBConstructionWarning: WARNING: Chain A is discontinuous at line 3198.\n",
      "  warnings.warn(\n",
      "/Users/agustincarmusciano/Desktop/Bioinformatica/bioinformatics/lib/python3.11/site-packages/Bio/PDB/StructureBuilder.py:100: PDBConstructionWarning: WARNING: Chain C is discontinuous at line 3213.\n",
      "  warnings.warn(\n"
     ]
    }
   ],
   "source": [
    "from Bio.PDB.MMCIFParser import MMCIFParser\n",
    "\n",
    "parser = MMCIFParser()\n",
    "structure = parser.get_structure('5wgb', 'PROT/5wgb-assembly1.cif')"
   ]
  },
  {
   "cell_type": "markdown",
   "id": "75b408d5b403c1c8",
   "metadata": {},
   "source": []
  },
  {
   "cell_type": "markdown",
   "id": "9894a525fe19b57a",
   "metadata": {},
   "source": [
    "### Proteina"
   ]
  },
  {
   "cell_type": "markdown",
   "id": "34ea3587c0894624",
   "metadata": {},
   "source": [
    "(\"estructura\", Modelo, \"cadena\", (residuo))\n",
    "Estructura es un String con: structure_id\n",
    "Modelo es un entero empezando en 0\n",
    "Cadena, las cadenas A, B, C etc\n"
   ]
  },
  {
   "cell_type": "code",
   "execution_count": 3,
   "id": "7e3ee2593ac96af6",
   "metadata": {
    "ExecuteTime": {
     "end_time": "2024-10-26T13:01:44.446211Z",
     "start_time": "2024-10-26T13:01:44.434952Z"
    }
   },
   "outputs": [],
   "source": [
    "model = structure[0]\n",
    "chain = model['A']\n",
    "residue = chain[100]"
   ]
  },
  {
   "cell_type": "markdown",
   "id": "f3f54c24ba6f77fa",
   "metadata": {},
   "source": [
    "```\n",
    "residue.get_resname()    # returns the residue name, e.g. \"ASN\"\n",
    "residue.is_disordered()  # returns 1 if the residue has disordered atoms\n",
    "residue.get_segid()      # returns the SEGID, e.g. \"CHN1\"\n",
    "```\n"
   ]
  },
  {
   "cell_type": "code",
   "execution_count": 4,
   "id": "da68a3c62535a70",
   "metadata": {
    "ExecuteTime": {
     "end_time": "2024-10-26T13:01:47.703369Z",
     "start_time": "2024-10-26T13:01:47.694770Z"
    }
   },
   "outputs": [
    {
     "data": {
      "text/plain": [
       "'GLU'"
      ]
     },
     "execution_count": 4,
     "metadata": {},
     "output_type": "execute_result"
    }
   ],
   "source": [
    "residue.get_resname()"
   ]
  },
  {
   "cell_type": "markdown",
   "id": "b4ec9166bc7db586",
   "metadata": {},
   "source": [
    "### Atomo\n"
   ]
  },
  {
   "cell_type": "code",
   "execution_count": 5,
   "id": "79ebc3e85f882d2a",
   "metadata": {
    "ExecuteTime": {
     "end_time": "2024-10-26T13:06:53.926901Z",
     "start_time": "2024-10-26T13:06:53.906674Z"
    }
   },
   "outputs": [
    {
     "name": "stdout",
     "output_type": "stream",
     "text": [
      "('5wgb', 0, 'A', (' ', 100, ' '), ('CA', ' '))\n"
     ]
    }
   ],
   "source": [
    "atom = structure[0][\"A\"][100][\"CA\"]\n",
    "print(atom.full_id)"
   ]
  },
  {
   "cell_type": "code",
   "execution_count": 6,
   "id": "addbb4373ee1687f",
   "metadata": {
    "ExecuteTime": {
     "end_time": "2024-10-26T13:11:16.126473Z",
     "start_time": "2024-10-26T13:11:16.076089Z"
    }
   },
   "outputs": [
    {
     "name": "stdout",
     "output_type": "stream",
     "text": [
      "Name:  CA\n",
      "ID:    CA\n",
      "Coordinates:   [ -6.017  35.779 228.681]\n",
      "Coordinates as vector: <Vector -6.02, 35.78, 228.68>\n",
      "Isotropic B Factor:    107.56\n",
      "Occupancy: 1.0\n",
      "Alternative location:   \n",
      "Std deviation of atomic parameters:    None\n",
      "Std deviation of anisotropic B factor: None\n",
      "Anisotropic B factor:  [ 1.6838 -0.0287 -0.221   1.0581  0.0461  1.3447]\n",
      "Atom full name:    CA\n"
     ]
    }
   ],
   "source": [
    "def atom_info(a):\n",
    "     print(f\"Name:  {a.get_name()}\")  # atom name (spaces stripped, e.g. \"CA\")\n",
    "     print(f\"ID:    {a.get_id()}\")  # id (equals atom name)\n",
    "     print(f\"Coordinates:   {a.get_coord()}\")  # atomic coordinates\n",
    "     print(f\"Coordinates as vector: {a.get_vector()}\")  # atomic coordinates as Vector object\n",
    "     print(f\"Isotropic B Factor:    {a.get_bfactor()}\")  # isotropic B factor\n",
    "     print(f\"Occupancy: {a.get_occupancy()}\")  # occupancy\n",
    "     print(f\"Alternative location:  {a.get_altloc()}\")  # alternative location specifier\n",
    "     print(f\"Std deviation of atomic parameters:    {a.get_sigatm()}\")  # standard deviation of atomic parameters\n",
    "     print(f\"Std deviation of anisotropic B factor: {a.get_siguij()}\")  # standard deviation of anisotropic B factor\n",
    "     print(f\"Anisotropic B factor:  {a.get_anisou()}\")  # anisotropic B factor\n",
    "     print(f\"Atom full name:    {a.get_fullname()}\")  # atom name (with spaces, e.g. \".CA.\")\n",
    "     \n",
    "atom_info(atom)"
   ]
  },
  {
   "cell_type": "markdown",
   "id": "a3e88c6d4046ba80",
   "metadata": {},
   "source": [
    "### Recorriendo estructura"
   ]
  },
  {
   "cell_type": "code",
   "execution_count": 11,
   "id": "f71d67fba4f91965",
   "metadata": {
    "ExecuteTime": {
     "end_time": "2024-10-26T13:21:12.372316Z",
     "start_time": "2024-10-26T13:21:12.342267Z"
    }
   },
   "outputs": [
    {
     "data": {
      "text/html": [
       "<div>\n",
       "<style scoped>\n",
       "    .dataframe tbody tr th:only-of-type {\n",
       "        vertical-align: middle;\n",
       "    }\n",
       "\n",
       "    .dataframe tbody tr th {\n",
       "        vertical-align: top;\n",
       "    }\n",
       "\n",
       "    .dataframe thead th {\n",
       "        text-align: right;\n",
       "    }\n",
       "</style>\n",
       "<table border=\"1\" class=\"dataframe\">\n",
       "  <thead>\n",
       "    <tr style=\"text-align: right;\">\n",
       "      <th></th>\n",
       "      <th>chain</th>\n",
       "      <th>residue</th>\n",
       "      <th>atom</th>\n",
       "    </tr>\n",
       "  </thead>\n",
       "  <tbody>\n",
       "    <tr>\n",
       "      <th>0</th>\n",
       "      <td>((&lt;Atom N&gt;, &lt;Atom CA&gt;, &lt;Atom C&gt;, &lt;Atom O&gt;, &lt;At...</td>\n",
       "      <td>(&lt;Atom N&gt;, &lt;Atom CA&gt;, &lt;Atom C&gt;, &lt;Atom O&gt;, &lt;Ato...</td>\n",
       "      <td>&lt;Atom N&gt;</td>\n",
       "    </tr>\n",
       "    <tr>\n",
       "      <th>1</th>\n",
       "      <td>((&lt;Atom N&gt;, &lt;Atom CA&gt;, &lt;Atom C&gt;, &lt;Atom O&gt;, &lt;At...</td>\n",
       "      <td>(&lt;Atom N&gt;, &lt;Atom CA&gt;, &lt;Atom C&gt;, &lt;Atom O&gt;, &lt;Ato...</td>\n",
       "      <td>&lt;Atom CA&gt;</td>\n",
       "    </tr>\n",
       "    <tr>\n",
       "      <th>2</th>\n",
       "      <td>((&lt;Atom N&gt;, &lt;Atom CA&gt;, &lt;Atom C&gt;, &lt;Atom O&gt;, &lt;At...</td>\n",
       "      <td>(&lt;Atom N&gt;, &lt;Atom CA&gt;, &lt;Atom C&gt;, &lt;Atom O&gt;, &lt;Ato...</td>\n",
       "      <td>&lt;Atom C&gt;</td>\n",
       "    </tr>\n",
       "    <tr>\n",
       "      <th>3</th>\n",
       "      <td>((&lt;Atom N&gt;, &lt;Atom CA&gt;, &lt;Atom C&gt;, &lt;Atom O&gt;, &lt;At...</td>\n",
       "      <td>(&lt;Atom N&gt;, &lt;Atom CA&gt;, &lt;Atom C&gt;, &lt;Atom O&gt;, &lt;Ato...</td>\n",
       "      <td>&lt;Atom O&gt;</td>\n",
       "    </tr>\n",
       "    <tr>\n",
       "      <th>4</th>\n",
       "      <td>((&lt;Atom N&gt;, &lt;Atom CA&gt;, &lt;Atom C&gt;, &lt;Atom O&gt;, &lt;At...</td>\n",
       "      <td>(&lt;Atom N&gt;, &lt;Atom CA&gt;, &lt;Atom C&gt;, &lt;Atom O&gt;, &lt;Ato...</td>\n",
       "      <td>&lt;Atom CB&gt;</td>\n",
       "    </tr>\n",
       "  </tbody>\n",
       "</table>\n",
       "</div>"
      ],
      "text/plain": [
       "                                               chain  \\\n",
       "0  ((<Atom N>, <Atom CA>, <Atom C>, <Atom O>, <At...   \n",
       "1  ((<Atom N>, <Atom CA>, <Atom C>, <Atom O>, <At...   \n",
       "2  ((<Atom N>, <Atom CA>, <Atom C>, <Atom O>, <At...   \n",
       "3  ((<Atom N>, <Atom CA>, <Atom C>, <Atom O>, <At...   \n",
       "4  ((<Atom N>, <Atom CA>, <Atom C>, <Atom O>, <At...   \n",
       "\n",
       "                                             residue       atom  \n",
       "0  (<Atom N>, <Atom CA>, <Atom C>, <Atom O>, <Ato...   <Atom N>  \n",
       "1  (<Atom N>, <Atom CA>, <Atom C>, <Atom O>, <Ato...  <Atom CA>  \n",
       "2  (<Atom N>, <Atom CA>, <Atom C>, <Atom O>, <Ato...   <Atom C>  \n",
       "3  (<Atom N>, <Atom CA>, <Atom C>, <Atom O>, <Ato...   <Atom O>  \n",
       "4  (<Atom N>, <Atom CA>, <Atom C>, <Atom O>, <Ato...  <Atom CB>  "
      ]
     },
     "execution_count": 11,
     "metadata": {},
     "output_type": "execute_result"
    }
   ],
   "source": [
    "import pandas as pd\n",
    "\n",
    "complete_structure = []\n",
    "\n",
    "chains = structure.get_chains()\n",
    "for chain in chains:\n",
    "    residues = chain.get_residues()\n",
    "    for residue in residues:\n",
    "        atoms = residue.get_atoms()\n",
    "        for atom in atoms:\n",
    "            complete_structure.append([chain, residue, atom])\n",
    "columns = [\"chain\", \"residue\", \"atom\"]\n",
    "df_structure = pd.DataFrame(complete_structure, columns=columns)\n",
    "\n",
    "df_structure.head()\n"
   ]
  },
  {
   "cell_type": "markdown",
   "id": "237e82c3276e84cf",
   "metadata": {},
   "source": [
    "### Visualización"
   ]
  },
  {
   "cell_type": "code",
   "execution_count": 12,
   "id": "750603649c0869ee",
   "metadata": {
    "ExecuteTime": {
     "end_time": "2024-10-26T13:37:26.930160Z",
     "start_time": "2024-10-26T13:37:26.921568Z"
    }
   },
   "outputs": [],
   "source": [
    "import py3Dmol"
   ]
  },
  {
   "cell_type": "code",
   "execution_count": 37,
   "id": "a70aba8efb46b6d5",
   "metadata": {
    "ExecuteTime": {
     "end_time": "2024-10-26T13:37:28.566833Z",
     "start_time": "2024-10-26T13:37:28.552952Z"
    }
   },
   "outputs": [
    {
     "data": {
      "application/3dmoljs_load.v0": "<div id=\"3dmolviewer_1729952778871698\"  style=\"position: relative; width: 640px; height: 480px;\">\n        <p id=\"3dmolwarning_1729952778871698\" style=\"background-color:#ffcccc;color:black\">3Dmol.js failed to load for some reason.  Please check your browser console for error messages.<br></p>\n        </div>\n<script>\n\nvar loadScriptAsync = function(uri){\n  return new Promise((resolve, reject) => {\n    //this is to ignore the existence of requirejs amd\n    var savedexports, savedmodule;\n    if (typeof exports !== 'undefined') savedexports = exports;\n    else exports = {}\n    if (typeof module !== 'undefined') savedmodule = module;\n    else module = {}\n\n    var tag = document.createElement('script');\n    tag.src = uri;\n    tag.async = true;\n    tag.onload = () => {\n        exports = savedexports;\n        module = savedmodule;\n        resolve();\n    };\n  var firstScriptTag = document.getElementsByTagName('script')[0];\n  firstScriptTag.parentNode.insertBefore(tag, firstScriptTag);\n});\n};\n\nif(typeof $3Dmolpromise === 'undefined') {\n$3Dmolpromise = null;\n  $3Dmolpromise = loadScriptAsync('https://cdnjs.cloudflare.com/ajax/libs/3Dmol/2.4.0/3Dmol-min.js');\n}\n\nvar viewer_1729952778871698 = null;\nvar warn = document.getElementById(\"3dmolwarning_1729952778871698\");\nif(warn) {\n    warn.parentNode.removeChild(warn);\n}\n$3Dmolpromise.then(function() {\nviewer_1729952778871698 = $3Dmol.createViewer(document.getElementById(\"3dmolviewer_1729952778871698\"),{backgroundColor:\"white\"});\n$3Dmol.download(\"pdb:5wgb\", viewer_1729952778871698, {}, function() {\nviewer_1729952778871698.zoomTo();\n\tviewer_1729952778871698.zoomTo();\n\tviewer_1729952778871698.setBackgroundColor(\"white\");\n\tviewer_1729952778871698.setStyle({\"chain\": \"A\"},{\"cartoon\": {\"color\": \"purple\"}});\n\tviewer_1729952778871698.setStyle({\"chain\": \"B\"},{\"stick\": {\"color\": \"yellow\"}});\n\tviewer_1729952778871698.setStyle({\"chain\": \"C\"},{\"cartoon\": {\"color\": \"blue\"}});\nviewer_1729952778871698.render();\n})\n});\n</script>",
      "text/html": [
       "<div id=\"3dmolviewer_1729952778871698\"  style=\"position: relative; width: 640px; height: 480px;\">\n",
       "        <p id=\"3dmolwarning_1729952778871698\" style=\"background-color:#ffcccc;color:black\">3Dmol.js failed to load for some reason.  Please check your browser console for error messages.<br></p>\n",
       "        </div>\n",
       "<script>\n",
       "\n",
       "var loadScriptAsync = function(uri){\n",
       "  return new Promise((resolve, reject) => {\n",
       "    //this is to ignore the existence of requirejs amd\n",
       "    var savedexports, savedmodule;\n",
       "    if (typeof exports !== 'undefined') savedexports = exports;\n",
       "    else exports = {}\n",
       "    if (typeof module !== 'undefined') savedmodule = module;\n",
       "    else module = {}\n",
       "\n",
       "    var tag = document.createElement('script');\n",
       "    tag.src = uri;\n",
       "    tag.async = true;\n",
       "    tag.onload = () => {\n",
       "        exports = savedexports;\n",
       "        module = savedmodule;\n",
       "        resolve();\n",
       "    };\n",
       "  var firstScriptTag = document.getElementsByTagName('script')[0];\n",
       "  firstScriptTag.parentNode.insertBefore(tag, firstScriptTag);\n",
       "});\n",
       "};\n",
       "\n",
       "if(typeof $3Dmolpromise === 'undefined') {\n",
       "$3Dmolpromise = null;\n",
       "  $3Dmolpromise = loadScriptAsync('https://cdnjs.cloudflare.com/ajax/libs/3Dmol/2.4.0/3Dmol-min.js');\n",
       "}\n",
       "\n",
       "var viewer_1729952778871698 = null;\n",
       "var warn = document.getElementById(\"3dmolwarning_1729952778871698\");\n",
       "if(warn) {\n",
       "    warn.parentNode.removeChild(warn);\n",
       "}\n",
       "$3Dmolpromise.then(function() {\n",
       "viewer_1729952778871698 = $3Dmol.createViewer(document.getElementById(\"3dmolviewer_1729952778871698\"),{backgroundColor:\"white\"});\n",
       "$3Dmol.download(\"pdb:5wgb\", viewer_1729952778871698, {}, function() {\n",
       "viewer_1729952778871698.zoomTo();\n",
       "\tviewer_1729952778871698.zoomTo();\n",
       "\tviewer_1729952778871698.setBackgroundColor(\"white\");\n",
       "\tviewer_1729952778871698.setStyle({\"chain\": \"A\"},{\"cartoon\": {\"color\": \"purple\"}});\n",
       "\tviewer_1729952778871698.setStyle({\"chain\": \"B\"},{\"stick\": {\"color\": \"yellow\"}});\n",
       "\tviewer_1729952778871698.setStyle({\"chain\": \"C\"},{\"cartoon\": {\"color\": \"blue\"}});\n",
       "viewer_1729952778871698.render();\n",
       "})\n",
       "});\n",
       "</script>"
      ]
     },
     "metadata": {},
     "output_type": "display_data"
    }
   ],
   "source": [
    "#Codigo de PDB que queremos visualizar\n",
    "pdb='5wgb'\n",
    "view=py3Dmol.view(query=f'pdb:{pdb}')\n",
    "#Zoom a la estructura\n",
    "view.zoomTo()\n",
    "#Color de fondo\n",
    "view.setBackgroundColor('white')\n",
    "#Visualizamos la cadena A con el stylo de Cartoon en un color determinado\n",
    "view.setStyle({'chain':'A'},{'cartoon': {'color':'purple'}})\n",
    "view.setStyle({'chain':'B'},{'stick': {'color':'yellow'}})\n",
    "view.setStyle({'chain':'C'},{'cartoon': {'color':'blue'}})\n",
    "#Inicializamos el visualizador\n",
    "view.show()"
   ]
  },
  {
   "cell_type": "markdown",
   "id": "51fc8de8-e5c7-4e2a-8250-fa993a04ee62",
   "metadata": {},
   "source": [
    "### Visualización específica"
   ]
  },
  {
   "cell_type": "code",
   "execution_count": 38,
   "id": "1e58d7c5-4f3e-497a-83ae-d01d5774e679",
   "metadata": {},
   "outputs": [
    {
     "data": {
      "application/3dmoljs_load.v0": "<div id=\"3dmolviewer_1729952780420009\"  style=\"position: relative; width: 640px; height: 480px;\">\n        <p id=\"3dmolwarning_1729952780420009\" style=\"background-color:#ffcccc;color:black\">3Dmol.js failed to load for some reason.  Please check your browser console for error messages.<br></p>\n        </div>\n<script>\n\nvar loadScriptAsync = function(uri){\n  return new Promise((resolve, reject) => {\n    //this is to ignore the existence of requirejs amd\n    var savedexports, savedmodule;\n    if (typeof exports !== 'undefined') savedexports = exports;\n    else exports = {}\n    if (typeof module !== 'undefined') savedmodule = module;\n    else module = {}\n\n    var tag = document.createElement('script');\n    tag.src = uri;\n    tag.async = true;\n    tag.onload = () => {\n        exports = savedexports;\n        module = savedmodule;\n        resolve();\n    };\n  var firstScriptTag = document.getElementsByTagName('script')[0];\n  firstScriptTag.parentNode.insertBefore(tag, firstScriptTag);\n});\n};\n\nif(typeof $3Dmolpromise === 'undefined') {\n$3Dmolpromise = null;\n  $3Dmolpromise = loadScriptAsync('https://cdnjs.cloudflare.com/ajax/libs/3Dmol/2.4.0/3Dmol-min.js');\n}\n\nvar viewer_1729952780420009 = null;\nvar warn = document.getElementById(\"3dmolwarning_1729952780420009\");\nif(warn) {\n    warn.parentNode.removeChild(warn);\n}\n$3Dmolpromise.then(function() {\nviewer_1729952780420009 = $3Dmol.createViewer(document.getElementById(\"3dmolviewer_1729952780420009\"),{backgroundColor:\"white\"});\n$3Dmol.download(\"pdb:5wgb\", viewer_1729952780420009, {}, function() {\nviewer_1729952780420009.zoomTo();\n\tviewer_1729952780420009.zoomTo();\n\tviewer_1729952780420009.setBackgroundColor(\"white\");\n\tviewer_1729952780420009.addStyle({\"chain\": \"A\", \"resi\": \"1\"},{\"stick\": {\"colorscheme\": \"purple\"}});\n\tviewer_1729952780420009.addStyle({\"chain\": \"B\", \"resn\": \"ALA\"},{\"sphere\": {\"colorscheme\": \"greenCarbon\"}});\n\tviewer_1729952780420009.setStyle({\"elem\": \"Fe\"},{\"sphere\": {\"radius\": 1, \"color\": \"yellow\"}});\nviewer_1729952780420009.render();\n})\n});\n</script>",
      "text/html": [
       "<div id=\"3dmolviewer_1729952780420009\"  style=\"position: relative; width: 640px; height: 480px;\">\n",
       "        <p id=\"3dmolwarning_1729952780420009\" style=\"background-color:#ffcccc;color:black\">3Dmol.js failed to load for some reason.  Please check your browser console for error messages.<br></p>\n",
       "        </div>\n",
       "<script>\n",
       "\n",
       "var loadScriptAsync = function(uri){\n",
       "  return new Promise((resolve, reject) => {\n",
       "    //this is to ignore the existence of requirejs amd\n",
       "    var savedexports, savedmodule;\n",
       "    if (typeof exports !== 'undefined') savedexports = exports;\n",
       "    else exports = {}\n",
       "    if (typeof module !== 'undefined') savedmodule = module;\n",
       "    else module = {}\n",
       "\n",
       "    var tag = document.createElement('script');\n",
       "    tag.src = uri;\n",
       "    tag.async = true;\n",
       "    tag.onload = () => {\n",
       "        exports = savedexports;\n",
       "        module = savedmodule;\n",
       "        resolve();\n",
       "    };\n",
       "  var firstScriptTag = document.getElementsByTagName('script')[0];\n",
       "  firstScriptTag.parentNode.insertBefore(tag, firstScriptTag);\n",
       "});\n",
       "};\n",
       "\n",
       "if(typeof $3Dmolpromise === 'undefined') {\n",
       "$3Dmolpromise = null;\n",
       "  $3Dmolpromise = loadScriptAsync('https://cdnjs.cloudflare.com/ajax/libs/3Dmol/2.4.0/3Dmol-min.js');\n",
       "}\n",
       "\n",
       "var viewer_1729952780420009 = null;\n",
       "var warn = document.getElementById(\"3dmolwarning_1729952780420009\");\n",
       "if(warn) {\n",
       "    warn.parentNode.removeChild(warn);\n",
       "}\n",
       "$3Dmolpromise.then(function() {\n",
       "viewer_1729952780420009 = $3Dmol.createViewer(document.getElementById(\"3dmolviewer_1729952780420009\"),{backgroundColor:\"white\"});\n",
       "$3Dmol.download(\"pdb:5wgb\", viewer_1729952780420009, {}, function() {\n",
       "viewer_1729952780420009.zoomTo();\n",
       "\tviewer_1729952780420009.zoomTo();\n",
       "\tviewer_1729952780420009.setBackgroundColor(\"white\");\n",
       "\tviewer_1729952780420009.addStyle({\"chain\": \"A\", \"resi\": \"1\"},{\"stick\": {\"colorscheme\": \"purple\"}});\n",
       "\tviewer_1729952780420009.addStyle({\"chain\": \"B\", \"resn\": \"ALA\"},{\"sphere\": {\"colorscheme\": \"greenCarbon\"}});\n",
       "\tviewer_1729952780420009.setStyle({\"elem\": \"Fe\"},{\"sphere\": {\"radius\": 1, \"color\": \"yellow\"}});\n",
       "viewer_1729952780420009.render();\n",
       "})\n",
       "});\n",
       "</script>"
      ]
     },
     "metadata": {},
     "output_type": "display_data"
    },
    {
     "data": {
      "text/plain": [
       "<py3Dmol.view at 0x10b55d910>"
      ]
     },
     "execution_count": 38,
     "metadata": {},
     "output_type": "execute_result"
    }
   ],
   "source": [
    "residuo = 1\n",
    "aminoacido = 'ALA'\n",
    "elem = 'Fe'\n",
    "\n",
    "view.clear()\n",
    "view=py3Dmol.view(query=f'pdb:{pdb}')\n",
    "#Zoom a la estructura\n",
    "view.zoomTo()\n",
    "#Color de fondo\n",
    "view.setBackgroundColor('white')\n",
    "# Para ver una posicion especifica vamos con el comando RESI\n",
    "view.addStyle({'chain':'A','resi':f\"{residuo}\"},{'stick':{'colorscheme':'purple'}})\n",
    "\n",
    "# Para ver todos los aminoacidos Alanina  vamos con el comando RESN\n",
    "view.addStyle({'chain':'B','resn':aminoacido},{'sphere':{'colorscheme':'greenCarbon'}})\n",
    "\n",
    "# Para ver un Atomo especifico\n",
    "view.setStyle({'elem': elem}, {'sphere': {'radius': 1, 'color': 'yellow'}})"
   ]
  },
  {
   "cell_type": "markdown",
   "id": "5aeb990e-e83c-4c02-ad6b-db7ed03b5721",
   "metadata": {},
   "source": [
    "### Visualizacion estructura con labels"
   ]
  },
  {
   "cell_type": "code",
   "execution_count": 39,
   "id": "9f840093-f0d8-450c-832d-361d2bfa8ac4",
   "metadata": {},
   "outputs": [
    {
     "data": {
      "application/3dmoljs_load.v0": "<div id=\"3dmolviewer_1729952781796373\"  style=\"position: relative; width: 640px; height: 480px;\">\n        <p id=\"3dmolwarning_1729952781796373\" style=\"background-color:#ffcccc;color:black\">3Dmol.js failed to load for some reason.  Please check your browser console for error messages.<br></p>\n        </div>\n<script>\n\nvar loadScriptAsync = function(uri){\n  return new Promise((resolve, reject) => {\n    //this is to ignore the existence of requirejs amd\n    var savedexports, savedmodule;\n    if (typeof exports !== 'undefined') savedexports = exports;\n    else exports = {}\n    if (typeof module !== 'undefined') savedmodule = module;\n    else module = {}\n\n    var tag = document.createElement('script');\n    tag.src = uri;\n    tag.async = true;\n    tag.onload = () => {\n        exports = savedexports;\n        module = savedmodule;\n        resolve();\n    };\n  var firstScriptTag = document.getElementsByTagName('script')[0];\n  firstScriptTag.parentNode.insertBefore(tag, firstScriptTag);\n});\n};\n\nif(typeof $3Dmolpromise === 'undefined') {\n$3Dmolpromise = null;\n  $3Dmolpromise = loadScriptAsync('https://cdnjs.cloudflare.com/ajax/libs/3Dmol/2.4.0/3Dmol-min.js');\n}\n\nvar viewer_1729952781796373 = null;\nvar warn = document.getElementById(\"3dmolwarning_1729952781796373\");\nif(warn) {\n    warn.parentNode.removeChild(warn);\n}\n$3Dmolpromise.then(function() {\nviewer_1729952781796373 = $3Dmol.createViewer(document.getElementById(\"3dmolviewer_1729952781796373\"),{backgroundColor:\"white\"});\n$3Dmol.download(\"pdb:5wgb\", viewer_1729952781796373, {}, function() {\nviewer_1729952781796373.zoomTo();\n\tviewer_1729952781796373.addLabel(\"alpha subunits\",{\"fontColor\": \"orange\", \"backgroundColor\": \"lightgray\"},{\"chain\": [\"A\", \"B\"]});\n\tviewer_1729952781796373.setStyle({\"chain\": [\"A\", \"B\"]},{\"cartoon\": {\"color\": \"red\"}});\n\tviewer_1729952781796373.addLabel(\"beta subunits\",{\"fontColor\": \"blue\", \"backgroundColor\": \"lightgray\"},{\"chain\": [\"C\", \"D\"]});\n\tviewer_1729952781796373.setStyle({\"chain\": [\"C\", \"D\"]},{\"cartoon\": {\"color\": \"blue\"}});\n\tviewer_1729952781796373.setStyle({\"resn\": \"HEM\"},{\"sphere\": {\"colorscheme\": \"greenCarbon\"}});\nviewer_1729952781796373.render();\n})\n});\n</script>",
      "text/html": [
       "<div id=\"3dmolviewer_1729952781796373\"  style=\"position: relative; width: 640px; height: 480px;\">\n",
       "        <p id=\"3dmolwarning_1729952781796373\" style=\"background-color:#ffcccc;color:black\">3Dmol.js failed to load for some reason.  Please check your browser console for error messages.<br></p>\n",
       "        </div>\n",
       "<script>\n",
       "\n",
       "var loadScriptAsync = function(uri){\n",
       "  return new Promise((resolve, reject) => {\n",
       "    //this is to ignore the existence of requirejs amd\n",
       "    var savedexports, savedmodule;\n",
       "    if (typeof exports !== 'undefined') savedexports = exports;\n",
       "    else exports = {}\n",
       "    if (typeof module !== 'undefined') savedmodule = module;\n",
       "    else module = {}\n",
       "\n",
       "    var tag = document.createElement('script');\n",
       "    tag.src = uri;\n",
       "    tag.async = true;\n",
       "    tag.onload = () => {\n",
       "        exports = savedexports;\n",
       "        module = savedmodule;\n",
       "        resolve();\n",
       "    };\n",
       "  var firstScriptTag = document.getElementsByTagName('script')[0];\n",
       "  firstScriptTag.parentNode.insertBefore(tag, firstScriptTag);\n",
       "});\n",
       "};\n",
       "\n",
       "if(typeof $3Dmolpromise === 'undefined') {\n",
       "$3Dmolpromise = null;\n",
       "  $3Dmolpromise = loadScriptAsync('https://cdnjs.cloudflare.com/ajax/libs/3Dmol/2.4.0/3Dmol-min.js');\n",
       "}\n",
       "\n",
       "var viewer_1729952781796373 = null;\n",
       "var warn = document.getElementById(\"3dmolwarning_1729952781796373\");\n",
       "if(warn) {\n",
       "    warn.parentNode.removeChild(warn);\n",
       "}\n",
       "$3Dmolpromise.then(function() {\n",
       "viewer_1729952781796373 = $3Dmol.createViewer(document.getElementById(\"3dmolviewer_1729952781796373\"),{backgroundColor:\"white\"});\n",
       "$3Dmol.download(\"pdb:5wgb\", viewer_1729952781796373, {}, function() {\n",
       "viewer_1729952781796373.zoomTo();\n",
       "\tviewer_1729952781796373.addLabel(\"alpha subunits\",{\"fontColor\": \"orange\", \"backgroundColor\": \"lightgray\"},{\"chain\": [\"A\", \"B\"]});\n",
       "\tviewer_1729952781796373.setStyle({\"chain\": [\"A\", \"B\"]},{\"cartoon\": {\"color\": \"red\"}});\n",
       "\tviewer_1729952781796373.addLabel(\"beta subunits\",{\"fontColor\": \"blue\", \"backgroundColor\": \"lightgray\"},{\"chain\": [\"C\", \"D\"]});\n",
       "\tviewer_1729952781796373.setStyle({\"chain\": [\"C\", \"D\"]},{\"cartoon\": {\"color\": \"blue\"}});\n",
       "\tviewer_1729952781796373.setStyle({\"resn\": \"HEM\"},{\"sphere\": {\"colorscheme\": \"greenCarbon\"}});\n",
       "viewer_1729952781796373.render();\n",
       "})\n",
       "});\n",
       "</script>"
      ]
     },
     "metadata": {},
     "output_type": "display_data"
    }
   ],
   "source": [
    "view.clear()\n",
    "\n",
    "view=py3Dmol.view(query=f'pdb:{pdb}')\n",
    "\n",
    "view.addLabel('alpha subunits', {'fontColor':'orange', 'backgroundColor':'lightgray'},\n",
    "                {'chain': ['A','B']})\n",
    "view.setStyle({'chain':['A','B']},{'cartoon': {'color': 'red'}}) # alpha subunits of hemoglobin\n",
    "\n",
    "\n",
    "view.addLabel('beta subunits', {'fontColor':'blue', 'backgroundColor':'lightgray'},\n",
    "                {'chain': ['C','D']})\n",
    "view.setStyle({'chain':['C','D']},{'cartoon': {'color': 'blue'}}) # beta subunits of hemoglobin\n",
    "\n",
    "view.setStyle({'resn': 'HEM'},{'sphere': {'colorscheme': 'greenCarbon'}})\n",
    "view.show()"
   ]
  },
  {
   "cell_type": "markdown",
   "id": "c2b11fd4-c321-4468-91d3-5b74869506d1",
   "metadata": {},
   "source": [
    "### Visualización con lineas"
   ]
  },
  {
   "cell_type": "code",
   "execution_count": 51,
   "id": "f274daa4-dd36-40c3-b84b-67029816e99c",
   "metadata": {},
   "outputs": [
    {
     "data": {
      "application/3dmoljs_load.v0": "<div id=\"3dmolviewer_1729953254491507\"  style=\"position: relative; width: 640px; height: 480px;\">\n        <p id=\"3dmolwarning_1729953254491507\" style=\"background-color:#ffcccc;color:black\">3Dmol.js failed to load for some reason.  Please check your browser console for error messages.<br></p>\n        </div>\n<script>\n\nvar loadScriptAsync = function(uri){\n  return new Promise((resolve, reject) => {\n    //this is to ignore the existence of requirejs amd\n    var savedexports, savedmodule;\n    if (typeof exports !== 'undefined') savedexports = exports;\n    else exports = {}\n    if (typeof module !== 'undefined') savedmodule = module;\n    else module = {}\n\n    var tag = document.createElement('script');\n    tag.src = uri;\n    tag.async = true;\n    tag.onload = () => {\n        exports = savedexports;\n        module = savedmodule;\n        resolve();\n    };\n  var firstScriptTag = document.getElementsByTagName('script')[0];\n  firstScriptTag.parentNode.insertBefore(tag, firstScriptTag);\n});\n};\n\nif(typeof $3Dmolpromise === 'undefined') {\n$3Dmolpromise = null;\n  $3Dmolpromise = loadScriptAsync('https://cdnjs.cloudflare.com/ajax/libs/3Dmol/2.4.0/3Dmol-min.js');\n}\n\nvar viewer_1729953254491507 = null;\nvar warn = document.getElementById(\"3dmolwarning_1729953254491507\");\nif(warn) {\n    warn.parentNode.removeChild(warn);\n}\n$3Dmolpromise.then(function() {\nviewer_1729953254491507 = $3Dmol.createViewer(document.getElementById(\"3dmolviewer_1729953254491507\"),{backgroundColor:\"white\"});\n$3Dmol.download(\"pdb:5wgb\", viewer_1729953254491507, {}, function() {\nviewer_1729953254491507.zoomTo();\n\tviewer_1729953254491507.setStyle({\"chain\": [\"A\"]},{\"cartoon\": {\"color\": \"purple\"}});\n\tviewer_1729953254491507.addLine({\"color\": \"red\", \"linewidth\": 500, \"start\": {\"chain\": \"A\", \"resi\": 58, \"atom\": \"CA\"}, \"end\": {\"chain\": \"A\", \"resi\": 68, \"atom\": \"CA\"}});\nviewer_1729953254491507.render();\n})\n});\n</script>",
      "text/html": [
       "<div id=\"3dmolviewer_1729953254491507\"  style=\"position: relative; width: 640px; height: 480px;\">\n",
       "        <p id=\"3dmolwarning_1729953254491507\" style=\"background-color:#ffcccc;color:black\">3Dmol.js failed to load for some reason.  Please check your browser console for error messages.<br></p>\n",
       "        </div>\n",
       "<script>\n",
       "\n",
       "var loadScriptAsync = function(uri){\n",
       "  return new Promise((resolve, reject) => {\n",
       "    //this is to ignore the existence of requirejs amd\n",
       "    var savedexports, savedmodule;\n",
       "    if (typeof exports !== 'undefined') savedexports = exports;\n",
       "    else exports = {}\n",
       "    if (typeof module !== 'undefined') savedmodule = module;\n",
       "    else module = {}\n",
       "\n",
       "    var tag = document.createElement('script');\n",
       "    tag.src = uri;\n",
       "    tag.async = true;\n",
       "    tag.onload = () => {\n",
       "        exports = savedexports;\n",
       "        module = savedmodule;\n",
       "        resolve();\n",
       "    };\n",
       "  var firstScriptTag = document.getElementsByTagName('script')[0];\n",
       "  firstScriptTag.parentNode.insertBefore(tag, firstScriptTag);\n",
       "});\n",
       "};\n",
       "\n",
       "if(typeof $3Dmolpromise === 'undefined') {\n",
       "$3Dmolpromise = null;\n",
       "  $3Dmolpromise = loadScriptAsync('https://cdnjs.cloudflare.com/ajax/libs/3Dmol/2.4.0/3Dmol-min.js');\n",
       "}\n",
       "\n",
       "var viewer_1729953254491507 = null;\n",
       "var warn = document.getElementById(\"3dmolwarning_1729953254491507\");\n",
       "if(warn) {\n",
       "    warn.parentNode.removeChild(warn);\n",
       "}\n",
       "$3Dmolpromise.then(function() {\n",
       "viewer_1729953254491507 = $3Dmol.createViewer(document.getElementById(\"3dmolviewer_1729953254491507\"),{backgroundColor:\"white\"});\n",
       "$3Dmol.download(\"pdb:5wgb\", viewer_1729953254491507, {}, function() {\n",
       "viewer_1729953254491507.zoomTo();\n",
       "\tviewer_1729953254491507.setStyle({\"chain\": [\"A\"]},{\"cartoon\": {\"color\": \"purple\"}});\n",
       "\tviewer_1729953254491507.addLine({\"color\": \"red\", \"linewidth\": 500, \"start\": {\"chain\": \"A\", \"resi\": 58, \"atom\": \"CA\"}, \"end\": {\"chain\": \"A\", \"resi\": 68, \"atom\": \"CA\"}});\n",
       "viewer_1729953254491507.render();\n",
       "})\n",
       "});\n",
       "</script>"
      ]
     },
     "metadata": {},
     "output_type": "display_data"
    }
   ],
   "source": [
    "view.clear()\n",
    "\n",
    "view=py3Dmol.view(query=f'pdb:{pdb}')\n",
    "\n",
    "# Estilo general de la estructura (por ejemplo, un estilo cartoon)\n",
    "view.setStyle({'chain':['A']},{'cartoon': {'color':'purple'}})\n",
    "\n",
    "# Seleccionar dos átomos específicos (por ejemplo, atomos de residuo 50 y 100)\n",
    "# Ajusta 'resi' y 'atom' según tu estructura\n",
    "atom1 = {'chain':'A','resi': 58, 'atom': 'CA'}\n",
    "atom2 = {'chain':'A','resi': 68, 'atom': 'CA'}\n",
    "\n",
    "# Añadir una línea entre los átomos para visualizar la distancia\n",
    "view.addLine({'color':'red','linewidth': 500,'start':atom1,'end':atom2})\n",
    "\n",
    "view.show()"
   ]
  },
  {
   "cell_type": "markdown",
   "id": "c51e8637-c937-4061-b338-dd1d26e40af1",
   "metadata": {},
   "source": [
    "### Visualización de superficie"
   ]
  },
  {
   "cell_type": "code",
   "execution_count": 54,
   "id": "8eb297d5-8222-4999-9342-b163ea94c8ab",
   "metadata": {},
   "outputs": [
    {
     "data": {
      "application/3dmoljs_load.v0": "<div id=\"3dmolviewer_1729953353930488\"  style=\"position: relative; width: 640px; height: 480px;\">\n        <p id=\"3dmolwarning_1729953353930488\" style=\"background-color:#ffcccc;color:black\">3Dmol.js failed to load for some reason.  Please check your browser console for error messages.<br></p>\n        </div>\n<script>\n\nvar loadScriptAsync = function(uri){\n  return new Promise((resolve, reject) => {\n    //this is to ignore the existence of requirejs amd\n    var savedexports, savedmodule;\n    if (typeof exports !== 'undefined') savedexports = exports;\n    else exports = {}\n    if (typeof module !== 'undefined') savedmodule = module;\n    else module = {}\n\n    var tag = document.createElement('script');\n    tag.src = uri;\n    tag.async = true;\n    tag.onload = () => {\n        exports = savedexports;\n        module = savedmodule;\n        resolve();\n    };\n  var firstScriptTag = document.getElementsByTagName('script')[0];\n  firstScriptTag.parentNode.insertBefore(tag, firstScriptTag);\n});\n};\n\nif(typeof $3Dmolpromise === 'undefined') {\n$3Dmolpromise = null;\n  $3Dmolpromise = loadScriptAsync('https://cdnjs.cloudflare.com/ajax/libs/3Dmol/2.4.0/3Dmol-min.js');\n}\n\nvar viewer_1729953353930488 = null;\nvar warn = document.getElementById(\"3dmolwarning_1729953353930488\");\nif(warn) {\n    warn.parentNode.removeChild(warn);\n}\n$3Dmolpromise.then(function() {\nviewer_1729953353930488 = $3Dmol.createViewer(document.getElementById(\"3dmolviewer_1729953353930488\"),{backgroundColor:\"white\"});\n$3Dmol.download(\"pdb:5wgb\", viewer_1729953353930488, {}, function() {\nviewer_1729953353930488.zoomTo();\n\tviewer_1729953353930488.setStyle({\"chain\": \"A\"},{\"cartoon\": {\"color\": \"blue\"}});\n\tviewer_1729953353930488.setStyle({\"chain\": \"B\"},{\"cartoon\": {\"color\": \"red\"}});\n\tviewer_1729953353930488.setStyle({\"chain\": \"C\"},{\"sphere\": {\"colorscheme\": \"orangeCarbon\"}});\n\tviewer_1729953353930488.addSurface(4,{\"opacity\": 0.9, \"color\": \"lightblue\"},{\"chain\": \"A\"});\nviewer_1729953353930488.render();\n})\n});\n</script>",
      "text/html": [
       "<div id=\"3dmolviewer_1729953353930488\"  style=\"position: relative; width: 640px; height: 480px;\">\n",
       "        <p id=\"3dmolwarning_1729953353930488\" style=\"background-color:#ffcccc;color:black\">3Dmol.js failed to load for some reason.  Please check your browser console for error messages.<br></p>\n",
       "        </div>\n",
       "<script>\n",
       "\n",
       "var loadScriptAsync = function(uri){\n",
       "  return new Promise((resolve, reject) => {\n",
       "    //this is to ignore the existence of requirejs amd\n",
       "    var savedexports, savedmodule;\n",
       "    if (typeof exports !== 'undefined') savedexports = exports;\n",
       "    else exports = {}\n",
       "    if (typeof module !== 'undefined') savedmodule = module;\n",
       "    else module = {}\n",
       "\n",
       "    var tag = document.createElement('script');\n",
       "    tag.src = uri;\n",
       "    tag.async = true;\n",
       "    tag.onload = () => {\n",
       "        exports = savedexports;\n",
       "        module = savedmodule;\n",
       "        resolve();\n",
       "    };\n",
       "  var firstScriptTag = document.getElementsByTagName('script')[0];\n",
       "  firstScriptTag.parentNode.insertBefore(tag, firstScriptTag);\n",
       "});\n",
       "};\n",
       "\n",
       "if(typeof $3Dmolpromise === 'undefined') {\n",
       "$3Dmolpromise = null;\n",
       "  $3Dmolpromise = loadScriptAsync('https://cdnjs.cloudflare.com/ajax/libs/3Dmol/2.4.0/3Dmol-min.js');\n",
       "}\n",
       "\n",
       "var viewer_1729953353930488 = null;\n",
       "var warn = document.getElementById(\"3dmolwarning_1729953353930488\");\n",
       "if(warn) {\n",
       "    warn.parentNode.removeChild(warn);\n",
       "}\n",
       "$3Dmolpromise.then(function() {\n",
       "viewer_1729953353930488 = $3Dmol.createViewer(document.getElementById(\"3dmolviewer_1729953353930488\"),{backgroundColor:\"white\"});\n",
       "$3Dmol.download(\"pdb:5wgb\", viewer_1729953353930488, {}, function() {\n",
       "viewer_1729953353930488.zoomTo();\n",
       "\tviewer_1729953353930488.setStyle({\"chain\": \"A\"},{\"cartoon\": {\"color\": \"blue\"}});\n",
       "\tviewer_1729953353930488.setStyle({\"chain\": \"B\"},{\"cartoon\": {\"color\": \"red\"}});\n",
       "\tviewer_1729953353930488.setStyle({\"chain\": \"C\"},{\"sphere\": {\"colorscheme\": \"orangeCarbon\"}});\n",
       "\tviewer_1729953353930488.addSurface(4,{\"opacity\": 0.9, \"color\": \"lightblue\"},{\"chain\": \"A\"});\n",
       "viewer_1729953353930488.render();\n",
       "})\n",
       "});\n",
       "</script>"
      ]
     },
     "metadata": {},
     "output_type": "display_data"
    }
   ],
   "source": [
    "view.clear()\n",
    "\n",
    "view=py3Dmol.view(query=f'pdb:{pdb}')\n",
    "\n",
    "heavychain = {'chain':'A'}\n",
    "lightchain = {'chain':'B'}\n",
    "antigen = {'chain':'C'}\n",
    "\n",
    "view.setStyle(heavychain,{'cartoon':{'color':'blue'}})\n",
    "view.setStyle(lightchain,{'cartoon':{'color':'red'}})\n",
    "view.setStyle(antigen,{'sphere':{'colorscheme':'orangeCarbon'}})\n",
    "\n",
    "view.addSurface(py3Dmol.SES,{'opacity':0.9,'color':'lightblue'}, heavychain) #Agrega la superficie a la cadena pesada\n",
    "view.show()"
   ]
  },
  {
   "cell_type": "code",
   "execution_count": null,
   "id": "2947fc77-2887-4c60-ba62-6f9bb13392af",
   "metadata": {},
   "outputs": [],
   "source": []
  }
 ],
 "metadata": {
  "kernelspec": {
   "display_name": "Python 3 (ipykernel)",
   "language": "python",
   "name": "python3"
  },
  "language_info": {
   "codemirror_mode": {
    "name": "ipython",
    "version": 3
   },
   "file_extension": ".py",
   "mimetype": "text/x-python",
   "name": "python",
   "nbconvert_exporter": "python",
   "pygments_lexer": "ipython3",
   "version": "3.11.5"
  }
 },
 "nbformat": 4,
 "nbformat_minor": 5
}

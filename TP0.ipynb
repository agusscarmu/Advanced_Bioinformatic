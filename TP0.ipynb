{
 "cells": [
  {
   "metadata": {},
   "cell_type": "markdown",
   "source": [
    "# Ejercicio 1:\n",
    "Obtenga usando loops, condicionales etc. todos los primos del 1 al 20, e imprimalos en pantalla.\n",
    "Luego extienda su código para que sea capaz de determinar todo los números primeros hasta un\n",
    "número limite definido por el usuario.\n",
    "Algunos consejos:\n",
    "Trate primero de entender en términos computacionales que significa que un numero sea primo.\n",
    "Existe una cosa llamada función/operación modulo (o resto, investiguela...)\n",
    "Recuerde que para recorrer elementos en orden se usan listas.\n",
    "Una vez tenga alguna primer versión del programa funcionando, analice un poco la performance\n",
    "en tiempo (cuanto tarda su programa?) y piense si es posible optimizarlo"
   ],
   "id": "f42737afabbfc74a"
  },
  {
   "metadata": {
    "ExecuteTime": {
     "end_time": "2024-09-20T23:57:28.762945Z",
     "start_time": "2024-09-20T23:57:28.753634Z"
    }
   },
   "cell_type": "code",
   "source": [
    "def esPrimo(n):\n",
    "    if n==1:\n",
    "        return False\n",
    "    for i in range(2, int(n**0.5)+1):\n",
    "        if n % i== 0:\n",
    "            return False\n",
    "    return True \n",
    "for num in range(1,21):\n",
    "    if esPrimo(num):\n",
    "        print(num)  "
   ],
   "id": "6212a3a4a1cb06aa",
   "outputs": [
    {
     "name": "stdout",
     "output_type": "stream",
     "text": [
      "2\n",
      "3\n",
      "5\n",
      "7\n",
      "11\n",
      "13\n",
      "17\n",
      "19\n"
     ]
    }
   ],
   "execution_count": 1
  },
  {
   "metadata": {},
   "cell_type": "markdown",
   "source": [
    "# Ejercicio 2:\n",
    "Haga un programa que pregunte: Nombre, fecha de nacimiento y DNI y los combine de manera\n",
    "elegante para obtener posibles passwords de HomeBanking u otras aplicaciones. (recuerde que\n",
    "usualmente la clave debe ser de 8 caracteres, al menos 2 letras, al menos 2 números, y no puede\n",
    "contener fragmentos de la fecha de nacimiento, nombre o DNI).\n",
    "Consejo: use el orden del alfabeto y/o el pad númerico de celulares viejos para interconvertir\n",
    "números-letras (piense que un string no es otra cosa que una cadena (lista?) de caracteres\n",
    "individuales."
   ],
   "id": "bdba616997bf4e4e"
  },
  {
   "metadata": {
    "ExecuteTime": {
     "end_time": "2024-08-16T20:10:17.416242Z",
     "start_time": "2024-08-16T20:10:09.749144Z"
    }
   },
   "cell_type": "code",
   "source": [
    "number_to_letters = {1:\"ABC\", 2:\"DEF\", 3:\"GHI\", 4:\"JKL\", 5:\"MNÑ\", 6:\"OPQ\", 7:\"RST\", 8:\"UVW\", 9:\"XYZ\", 0:\"AKZ\"}\n",
    "encrypt = {\n",
    "    \"A\": \"C\", \"B\": \"D\", \"C\": \"E\", \"D\": \"F\", \"E\": \"G\", \"F\": \"H\", \"G\": \"I\",\n",
    "    \"H\": \"J\", \"I\": \"K\", \"J\": \"L\", \"K\": \"M\", \"L\": \"N\", \"M\": \"O\", \"N\": \"P\",\n",
    "    \"O\": \"Q\", \"P\": \"R\", \"Q\": \"S\", \"R\": \"T\", \"S\": \"U\", \"T\": \"V\", \"U\": \"W\",\n",
    "    \"V\": \"X\", \"W\": \"Y\", \"X\": \"Z\", \"Y\": \"A\", \"Z\": \"B\"\n",
    "}\n",
    "encrypt_number = {1:2, 2:3, 3:4, 4:5, 5:6, 6:7, 7:8, 8:9, 9:0, 0:1}\n",
    "\n",
    "\n",
    "def convert(data, type):\n",
    "    r=\"\"\n",
    "    if type==\"number_to_string\":\n",
    "        for i in data:\n",
    "            r+=number_to_letters[int(i)]\n",
    "    if type==\"string\":\n",
    "        for char in data:\n",
    "            r+=encrypt[char]\n",
    "    if type==\"number\":\n",
    "        for i in data:\n",
    "            r+=str(encrypt_number[int(i)])\n",
    "    return r\n",
    "\n",
    "def create_password(data):\n",
    "    combinations = []\n",
    "    name = convert(data[0].upper(), type=\"string\")\n",
    "    date = convert(data[1],type=\"number\")\n",
    "    dni = convert(data[2],type=\"number_to_string\")\n",
    "    while len(combinations) < 5:\n",
    "        password = name[:2] + date[:4] + dni[i:i+2]\n",
    "        combinations.append(password)\n",
    "        name = convert(name, type=\"string\")\n",
    "        date = convert(date, type=\"number\")\n",
    "        dni = convert(dni, type=\"string\")\n",
    "\n",
    "    return combinations\n",
    "        \n",
    "    \n",
    "    \n",
    "    \n",
    "data = []\n",
    "r = {0:\"nombre\", 1:\"fecha de nacimiento (ddmmaa)\", 2:\"DNI\"}\n",
    "for i in range(3):\n",
    "    print(f\"ingrese su {r[i]}\")\n",
    "    data.append(input())\n",
    "    \n",
    "\n",
    "print(create_password(data))\n",
    "        "
   ],
   "id": "2eb44389ed0cce86",
   "outputs": [
    {
     "name": "stdout",
     "output_type": "stream",
     "text": [
      "ingrese su nombre\n",
      "ingrese su fecha de nacimiento (ddmmaa)\n",
      "ingrese su DNI\n",
      "['CI1912LA', 'EK2023NC', 'GM3134PE', 'IO4245RG', 'KQ5356TI']\n"
     ]
    }
   ],
   "execution_count": 11
  },
  {
   "metadata": {},
   "cell_type": "markdown",
   "source": [
    "# Ejercicio 3:\n",
    "Elija (o cree) un archivo de texto (puede ser una hoja de su plan de tesis, de un paper o lo que\n",
    "sea), realice un programa que: i) lea el archivo, y ii) Luego extraiga el numero de veces que\n",
    "aparece una dada palabra (elegida por el usuario) e imprímala en pantalla"
   ],
   "id": "1e7a20d2094abc52"
  },
  {
   "metadata": {
    "ExecuteTime": {
     "end_time": "2024-08-16T20:28:55.640405Z",
     "start_time": "2024-08-16T20:28:55.627316Z"
    }
   },
   "cell_type": "code",
   "source": [
    "def read_text(file, word):\n",
    "    try:\n",
    "        with open(file, \"r\", encoding=\"utf-8\") as f:\n",
    "            text = f.read()\n",
    "        text = text.lower()\n",
    "        search = word.lower()\n",
    "        \n",
    "        times = 0\n",
    "        \n",
    "        for i in range(len(text)-len(search)):\n",
    "            w = text[i:i+len(search)]\n",
    "            if w == search:\n",
    "                times += 1\n",
    "        return times\n",
    "    except FileNotFoundError:\n",
    "        return False\n",
    "    \n",
    "            \n",
    "\n",
    "\n",
    "file = \"./documents/paperBCI.txt\"\n",
    "print(read_text(file, \"molecule\"))"
   ],
   "id": "ffcd942b9b57df46",
   "outputs": [
    {
     "name": "stdout",
     "output_type": "stream",
     "text": [
      "3\n"
     ]
    }
   ],
   "execution_count": 21
  },
  {
   "metadata": {},
   "cell_type": "code",
   "outputs": [],
   "execution_count": null,
   "source": "",
   "id": "125345239d3ecdb1"
  }
 ],
 "metadata": {
  "kernelspec": {
   "display_name": "Python 3",
   "language": "python",
   "name": "python3"
  },
  "language_info": {
   "codemirror_mode": {
    "name": "ipython",
    "version": 2
   },
   "file_extension": ".py",
   "mimetype": "text/x-python",
   "name": "python",
   "nbconvert_exporter": "python",
   "pygments_lexer": "ipython2",
   "version": "2.7.6"
  }
 },
 "nbformat": 4,
 "nbformat_minor": 5
}

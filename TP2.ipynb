{
 "cells": [
  {
   "cell_type": "markdown",
   "id": "5164934a1b836891",
   "metadata": {},
   "source": [
    "# Alineamientos"
   ]
  },
  {
   "cell_type": "markdown",
   "id": "4260fc51c9eecdc8",
   "metadata": {},
   "source": [
    "Funcion para crear el dotplot.\n",
    "(DUDA: EN EL GRAFICO DE LA CLASE SE VEÍA DIFERENTE CON UN EJEMPLO... CONSULTAR)"
   ]
  },
  {
   "cell_type": "code",
   "id": "1c42274f83f618fa",
   "metadata": {
    "ExecuteTime": {
     "end_time": "2024-10-12T19:08:59.510627Z",
     "start_time": "2024-10-12T19:08:59.160680Z"
    }
   },
   "source": [
    "import numpy as np\n",
    "from Bio import SeqIO\n",
    "import matplotlib.pyplot as plt\n",
    "from Bio.Align import substitution_matrices"
   ],
   "outputs": [],
   "execution_count": 1
  },
  {
   "cell_type": "code",
   "id": "c4213a98c48d170c",
   "metadata": {
    "ExecuteTime": {
     "end_time": "2024-10-12T19:09:00.551905Z",
     "start_time": "2024-10-12T19:09:00.547214Z"
    }
   },
   "source": [
    "def read_fasta(filename):\n",
    "    with open(filename,'r') as handle:\n",
    "        r_seq = list(SeqIO.parse(handle, 'fasta'))\n",
    "        return r_seq[0].seq, r_seq[1].seq"
   ],
   "outputs": [],
   "execution_count": 2
  },
  {
   "metadata": {
    "ExecuteTime": {
     "end_time": "2024-10-12T19:09:01.937970Z",
     "start_time": "2024-10-12T19:09:01.934444Z"
    }
   },
   "cell_type": "code",
   "source": [
    "def read_fasta_to_list(file_path):\n",
    "    sequences = []\n",
    "    with open(file_path, 'r') as file:\n",
    "        seq_name = None\n",
    "        seq_data = []\n",
    "\n",
    "        for line in file:\n",
    "            line = line.strip()\n",
    "            if line.startswith('>'):\n",
    "                if seq_name:\n",
    "                    sequences.append([ ''.join(seq_data), seq_name ])\n",
    "                seq_name = line[1:]\n",
    "                seq_data = []\n",
    "            else:\n",
    "                seq_data.append(line)\n",
    "\n",
    "                # Guardar la última secuencia después de terminar el bucle\n",
    "        if seq_name:\n",
    "            sequences.append([ ''.join(seq_data), seq_name ])\n",
    "\n",
    "    return sequences"
   ],
   "id": "b2711605188a16f5",
   "outputs": [],
   "execution_count": 3
  },
  {
   "cell_type": "code",
   "id": "e1e50197bbe1fd89",
   "metadata": {
    "ExecuteTime": {
     "end_time": "2024-10-12T19:09:06.905814Z",
     "start_time": "2024-10-12T19:09:06.878868Z"
    }
   },
   "source": [
    "class Alignment: \n",
    "    def __init__(self, seq1, seq2, k, type_of_sequences, threshold=0):\n",
    "        \"\"\"\n",
    "        Genera la mejor alineación entre dos secuencias utilizando un dotplot filtrado.\n",
    "        \n",
    "        Args:\n",
    "            seq1 (str): Primera secuencia a alinear.\n",
    "            seq2 (str): Segunda secuencia a alinear.\n",
    "            k (int): Tamaño de las submatrices cuadradas utilizadas en el filtrado del dotplot.\n",
    "            t (str): Tipo de secuencia ('PROTEIN' o 'DNA').\n",
    "        \n",
    "        Returns:\n",
    "            tuple: Una tupla que contiene la alineación traducida, el dotplot original, y el dotplot filtrado.\n",
    "        \n",
    "        Raises:\n",
    "            ValueError: Si el tamaño `k` es mayor que las dimensiones de la matriz `dotplot`.\n",
    "        \"\"\"\n",
    "        if len(seq1[0])<2 and len(seq2[0])<2:\n",
    "            raise ValueError(f\"El formato de la secuencia debe ser: [[sequence],'name of sequence']\")\n",
    "        if len(seq1[0]) <= len(seq2[0]):\n",
    "            self.seq1 = seq1[0]\n",
    "            self.seq2 = seq2[0]\n",
    "        else:\n",
    "            self.seq1 = seq2[0]\n",
    "            self.seq2 = seq1[0]\n",
    "        self.type_of_sequences = type_of_sequences.upper()\n",
    "        self.seq1_label = seq1[1]\n",
    "        self.seq2_label = seq2[1]\n",
    "        if self.type_of_sequences == 'DNA':\n",
    "            self.threshold = (k/2)\n",
    "        elif threshold==0:\n",
    "            self.threshold = self.__obtain_threshold()          \n",
    "        if k > len(seq1[0]) or k > len(seq2[0]):\n",
    "            raise ValueError(f\"El tamaño de {k} debe ser menor al tamaño de la secuencia.\")\n",
    "        self.k = k\n",
    "\n",
    "        self.dotplot = self.__make_dotplot(self.seq1, self.seq2)\n",
    "        self.f_dotplot = self.__filtered_dotplot(k)\n",
    "        self.best_alignment = self.__obtain_best_alignment()\n",
    "        self.__traduced_alignment = self.__traduce_alignment()\n",
    "        self.score = self.__get_score()\n",
    "\n",
    "    def __get_score(self):\n",
    "        score = 0.0\n",
    "        for coord in self.best_alignment:\n",
    "            score += self.dotplot[coord[0]][coord[1]]\n",
    "        return score\n",
    "    \n",
    "    def __obtain_threshold(self):\n",
    "        t_dotplot1, t_dotplot2 = self.__make_dotplot(self.seq1, self.seq1), self.__make_dotplot(self.seq2, self.seq2)\n",
    "        i=0\n",
    "        j=0\n",
    "        threshold1, threshold2 = 0, 0\n",
    "    \n",
    "        while i < len(t_dotplot1) and j < len(t_dotplot1[0]):\n",
    "            threshold1 += t_dotplot1[i, j]\n",
    "            i+=1\n",
    "            j+=1\n",
    "        i=0\n",
    "        j=0\n",
    "        while i < len(t_dotplot2) and j < len(t_dotplot2[0]):\n",
    "            threshold2 += t_dotplot2[i, j]\n",
    "            i+=1\n",
    "            j+=1\n",
    "        threshold = ((threshold1/len(self.seq1)) + (threshold2/len(self.seq2))/2)\n",
    "    \n",
    "        return threshold\n",
    "\n",
    "    def __traduce_alignment(self):\n",
    "        traduced_seq = ''\n",
    "        for i in range(len(self.best_alignment)):\n",
    "            if self.seq1[self.best_alignment[i][0]] == self.seq2[self.best_alignment[i][1]]:\n",
    "                traduced_seq += f\"{self.seq1[self.best_alignment[i][0]]}{i}\"\n",
    "            else:\n",
    "                # traduced_seq += f\"{seq1[alignment_list[i-1][0]]}\"\n",
    "                # Si se prefiere un guion en vez de repetir la ultima base:\n",
    "                traduced_seq += \"-\"\n",
    "        return traduced_seq\n",
    "\n",
    "    def __obtain_best_alignment(self):\n",
    "        complete = False\n",
    "        alignment_list = []\n",
    "        i = 0\n",
    "        j = 0\n",
    "    \n",
    "        while not complete:\n",
    "            # Verificar si hemos llegado al final de alguna secuencia\n",
    "            if i >= len(self.f_dotplot) or j >= len(self.f_dotplot[0]):\n",
    "                complete = True\n",
    "            else:\n",
    "                alignment_list.append([i, j])  # Agregar la posición actual al alineamiento\n",
    "    \n",
    "                # Verificar si podemos movernos en diagonal\n",
    "                if i + 1 < len(self.f_dotplot) and j + 1 < len(self.f_dotplot[0]) and self.f_dotplot[i + 1, j + 1] == 1:\n",
    "                    i += 1\n",
    "                    j += 1\n",
    "                # Verificar si podemos movernos horizontalmente (gap en seq1)\n",
    "                elif j + 1 < len(self.f_dotplot[0]) and self.f_dotplot[i, j + 1] == 1:\n",
    "                    j += 1\n",
    "                # Verificar si podemos movernos verticalmente (gap en seq2)\n",
    "                elif i + 1 < len(self.f_dotplot) and self.f_dotplot[i + 1, j] == 1:\n",
    "                    i += 1\n",
    "                else:\n",
    "                    if i<len(self.f_dotplot) and j<len(self.f_dotplot[0]):\n",
    "                        j+=1\n",
    "                    else:\n",
    "                        complete = True\n",
    "    \n",
    "        return alignment_list\n",
    "\n",
    "\n",
    "\n",
    "    def __has_potential(self, subdotplot):\n",
    "        score = 0\n",
    "        for i in range(len(subdotplot)):\n",
    "            score += subdotplot[i,i]\n",
    "    \n",
    "        if score > self.threshold:\n",
    "            return True\n",
    "        return False\n",
    "    \n",
    "    def __filtered_dotplot(self,k):\n",
    "        \"\"\"\n",
    "        Filtra una matriz de dotplot resaltando las regiones diagonales de tamaño k con mayor puntuación.\n",
    "        \n",
    "        La función evalúa las submatrices de tamaño `k x k` dentro de la matriz `dotplot`, buscando aquellas que tienen un número mayoritario de unos en su diagonal principal. Si la submatriz cumple con el criterio, se añade al dotplot filtrado.\n",
    "        \n",
    "        Returns:\n",
    "            numpy.ndarray: Una nueva matriz del mismo tamaño que `dotplot`, donde las regiones que cumplen con \n",
    "            el criterio están resaltadas con unos en la diagonal.\n",
    "        \n",
    "        \"\"\"\n",
    "        rows, cols = len(self.dotplot), len(self.dotplot[0])\n",
    "        f_dotplot = np.zeros((rows, cols))\n",
    "    \n",
    "        for i in range(rows-k+1):\n",
    "            for j in range(cols-k+1):\n",
    "                sub_dotplot = self.dotplot[i:i+k, j:j+k]\n",
    "                if self.__has_potential(sub_dotplot):\n",
    "                    if self.type_of_sequences == 'DNA':\n",
    "                        f_dotplot[i:i+k, j:j+k] = sub_dotplot * np.eye(k)\n",
    "                    elif self.type_of_sequences == 'PROTEIN':\n",
    "                        f_dotplot[i,j]=1\n",
    "    \n",
    "        return f_dotplot\n",
    "\n",
    "    def show_dotplot(self, filtered=False, show_values=False, show_alignment=False):\n",
    "        \n",
    "        if filtered:\n",
    "            dtplt = self.f_dotplot\n",
    "        else:\n",
    "            dtplt = self.dotplot\n",
    "            \n",
    "        plt.imshow(dtplt, cmap=\"gray_r\", interpolation='nearest')\n",
    "        if not filtered:\n",
    "            k_message = \"SIN FILTRAR\"     \n",
    "        else:\n",
    "            k_message = f\"k={k}\"\n",
    "    \n",
    "        if show_values:\n",
    "            for i in range(len(dtplt)):\n",
    "                for j in range(len(dtplt[0])):\n",
    "                    value = dtplt[i][j]\n",
    "                    plt.text(j, i, f'{value:.1f}', ha='center', va='center', color='red', fontsize=8)\n",
    "\n",
    "        num_rows = len(dtplt)\n",
    "        num_cols = len(dtplt[0])\n",
    "        if num_rows > num_cols:\n",
    "            point_size = num_rows/num_cols\n",
    "        else: \n",
    "            point_size = num_cols/num_rows\n",
    "        # Mostrar el alineamiento en rojo (opcional)\n",
    "        if show_alignment and hasattr(self, 'best_alignment'):\n",
    "            for alg in self.best_alignment:\n",
    "                # Limitar los puntos a las dimensiones del dotplot\n",
    "                if 0 <= alg[0] < num_rows and 0 <= alg[1] < num_cols:\n",
    "                    plt.scatter(alg[1], alg[0], color='red', s=point_size)  # Trazar los puntos del alineamiento\n",
    "                \n",
    "        plt.title(f'Dotplot: {len(dtplt)} elementos vs {len(dtplt[0])} elementos | {k_message}')\n",
    "        plt.xlabel(self.seq2_label)\n",
    "        plt.ylabel(self.seq1_label)\n",
    "        plt.show()\n",
    "    \n",
    "    def __prepare_seq_to_show_alignment(self, seq, position, len_of_seq2, len_score):\n",
    "        prepared_seq = \"\"\n",
    "        i=0\n",
    "        while i < len_of_seq2:\n",
    "            if i == position:\n",
    "                j=0\n",
    "                while j < len_score:\n",
    "                    prepared_seq += seq[j]\n",
    "                    j+=1\n",
    "                i=i+j\n",
    "            else:\n",
    "                prepared_seq += \"-\"\n",
    "            i+=1\n",
    "        return prepared_seq\n",
    "    \n",
    "    def seq_string_equals(self, seq1, seq2):\n",
    "        if self.seq1_label == seq1 and self.seq2_label == seq2:\n",
    "            return True\n",
    "        elif self.seq1_label == seq2 and self.seq2_label == seq1:\n",
    "            return True\n",
    "        else:\n",
    "            return False\n",
    "        \n",
    "    def show_alignment(self):\n",
    "        return self.__traduced_alignment\n",
    "    \n",
    "    def __make_dotplot(self, s1, s2):\n",
    "        dotplot = np.zeros((len(s1),len(s2)))\n",
    "    \n",
    "        for i in range(len(s1)):\n",
    "            for j in range(len(s2)):\n",
    "                if self.type_of_sequences=='DNA':\n",
    "                    if s1[i]==s2[j]:\n",
    "                        dotplot[i,j] = 1\n",
    "                else:\n",
    "                    dotplot[i,j] = substitution_matrices.load('BLOSUM62')[s1[i],s2[j]]\n",
    "    \n",
    "        return dotplot\n"
   ],
   "outputs": [],
   "execution_count": 4
  },
  {
   "cell_type": "code",
   "id": "initial_id",
   "metadata": {
    "collapsed": true,
    "jupyter": {
     "outputs_hidden": true
    },
    "ExecuteTime": {
     "end_time": "2024-10-12T19:09:12.872727Z",
     "start_time": "2024-10-12T19:09:07.595104Z"
    }
   },
   "source": [
    "file = \"./documents/TP53.fna\"\n",
    "seq1, seq2 = read_fasta(file)\n",
    "seq1, seq2 = [seq1[:1000],'seq1'], [seq2[:1000],'seq2']\n",
    "\n",
    "# Ventana de filtrado de alineamientos:\n",
    "k = 30\n",
    "\n",
    "alignment = Alignment(seq1, seq2, k, \"dna\")\n",
    "\n",
    "# seq1 = 'TACG'\n",
    "# seq2 = 'TATCG'\n",
    "# k = 3\n",
    "# threshold = (k/2)\n",
    "# align, dotplot, f_dotplot = alignment(seq1, seq2, k, \"ADN\", threshold)"
   ],
   "outputs": [],
   "execution_count": 5
  },
  {
   "cell_type": "markdown",
   "id": "d62def780d032a4f",
   "metadata": {},
   "source": [
    "# RESULTADOS"
   ]
  },
  {
   "cell_type": "markdown",
   "id": "c3470a12e76d5bd5",
   "metadata": {},
   "source": [
    "#### Dotplot sin filtrar"
   ]
  },
  {
   "cell_type": "code",
   "id": "c9d7f80523d5f574",
   "metadata": {
    "ExecuteTime": {
     "end_time": "2024-10-12T19:09:15.502386Z",
     "start_time": "2024-10-12T19:09:15.325848Z"
    }
   },
   "source": "alignment.show_dotplot()",
   "outputs": [
    {
     "data": {
      "text/plain": [
       "<Figure size 640x480 with 1 Axes>"
      ],
      "image/png": "[encoded data removed]"
     },
     "metadata": {},
     "output_type": "display_data"
    }
   ],
   "execution_count": 6
  },
  {
   "cell_type": "markdown",
   "id": "1bd68caea5445090",
   "metadata": {},
   "source": [
    "#### Dotplot filtrado"
   ]
  },
  {
   "cell_type": "code",
   "id": "daebb605a7d6a0e6",
   "metadata": {
    "ExecuteTime": {
     "end_time": "2024-10-12T19:09:23.242918Z",
     "start_time": "2024-10-12T19:09:16.446903Z"
    }
   },
   "source": "alignment.show_dotplot(filtered=True, show_alignment=True)",
   "outputs": [
    {
     "data": {
      "text/plain": [
       "<Figure size 640x480 with 1 Axes>"
      ],
      "image/png": "[encoded data removed]"
     },
     "metadata": {},
     "output_type": "display_data"
    }
   ],
   "execution_count": 7
  },
  {
   "cell_type": "markdown",
   "id": "948a0892d2acf45e",
   "metadata": {},
   "source": [
    "#### Mejor alineamiento"
   ]
  },
  {
   "cell_type": "code",
   "id": "fd50bf7b884903f6",
   "metadata": {
    "ExecuteTime": {
     "end_time": "2024-10-12T19:09:24.358909Z",
     "start_time": "2024-10-12T19:09:24.355406Z"
    }
   },
   "source": "alignment.show_alignment()",
   "outputs": [
    {
     "data": {
      "text/plain": [
       "'C0T1C2A3A4A5A6G7T8C9T10A11G12A13G14C15C16A17C18C19G20T21C22C23A24G25G26G27A28G29C30A31G32G33T34A35G36C37T38G39C40T41G42G43G44C45T46C47C48G49G50G51G52A53C54A55C56T57T58T59G60C61G62T63T64C65G66G67G68C69T70G71G72G73A74G75C76G77T78G79C80T81T82T83C84C85A86C87G88A89C90G91G92T93G94A95C96A97C98G99C100T101T102C103C104C105T106G107G108A109T110T111G112G113G114T115A116A117G118C119T120C121C122T123G124A125C126T127G128A129A130C131T132T133G134A135T136G137A138G139T140C141C142T143C144T145C146T147G148A149G150T151C152A153C154G155G156G157C158T159C160T161C162G163G164C165T166C167C168G169T170G171T172A173T174T175T176T177C178A179G180C181T182C183G184G185G186A187A188A189A190T191C192G193C194T195G196G197G198G199C200T201G202G203G204G205G206T207G208G209G210G211C212A213G214T215G216G217G218G219A220C221T222T223A224G225C226G227A228G229T230T231T232G233G234G235G236G237T238G239A240G241T242G243G244G245A246T247G248G249A250A251G252C253T254T255G256G257C258T259A260G261A262G263G264G265A266T267C268A269T270C271A272T273A274G275G276A277G278T279T280G281C282A283T284T285G286T287T288G289G290G291A292G293A294C295C296T297G298G299G300T301G302T303A304G305A306T307G308A309T310G311G312G313G314A315T316G317T318T319A320G321G322A323C324C325A326T327C328C329G330A331A332C333T334C335A336A337A338G339T340T341G342A343A344C345G346C347C348T349A350G351G352C353A354G355A356G357G358A359G360T361G362G363A364G365C366T367T368T369G370G371G372G373A374A375C376C377T378T379G380A381G382C383C384G385G386C387C388T389A390A391A392G393C394G395T396A397C398T399T400C401T402T403T404G405C406A407C408A409T410C411C412A413C414C415C416G417G418T419G420C421T422G423G424G425C426G427T428A429G430G431G432A433A434T435C436C437C438T439G440A441A442A443T444A445A446A447A448G449A450T451G452C453A454C455A456A457A458G459C460A461T462T463G464A465G466G467T468C469T470G471A472G473A474C475T476T477T478T479G480G481A482T483C484T485C486G487A488A489A490C491A492T493T494G495A496G497A498A499C500T501C502A503T504A505G506C507T508G509T510A511T512A513T514T515T516T517A518G519A520G521C522C523C524A525T526G527G528C529A530T531C532C533T534A535G536T537G538A539A540A541A542C543T544G545G546G547G548C549T550C551C552A553T554T555C556C557G558A559A560A561T562G563A564T565C566A567T568T569T570G571G572G573G574G575T576G577A578T579C580C581G582G583G584G585A586G587C588C589C590A591A592G593C594T595G596C597T598A599A600G601G602T603C604C605C606A607C608A609A610C611T612T613C614C615G616G617A618C619C620T621T622T623G624T625C626C627T628T629C630C631T632G633G634A635G636C637G638A639T640C641T642T643T644C645C646A647G648G649C650A651G652C653C654C655C656C657G658G659C660T661C662C663G664C665T666A667G668A669T670G671G672A673G674A675A676A677A678T679C680C681A682A683T684T685G686A687A688G689G690C691T692G693T694C695A696G697T698C699G700T701G702G703A704A705G706T707G708A709G710A711A712G713T714G715C716T717A718A719A720C721C722A723G724G725G726G727T728T729T730G731C732C733C734G735C736C737A738G739G740C741C742G743A744G745G746A747G748G749A750C751C752G753T754C755G756C757A758A759T760C761T762G763A764G765A766G767G768C769C770C771G772G773C774A775G776C777C778C779T780G781T782T783A784T785T786G787T788T789T790G791G792C793T794C795C796A797C798A799T800T801T802A803C804A805T806T807T808C809T810G811C812C813T814C815T816T817G818C819A820G821C822A823G824C825A826T827T828T829C830C831G832G833T834T835T836C837T838T839T840T841T842G843C844C845G846G847A848G849C850A851G852C853T854C855A856C857T858A859T860T861C862A863C864C865C866G867A868T869G870A871G872A873G874G875G876G877A878G879G880A881G882A883G884A885G886A887G888A889G890A891A892A893A894T895G896T897C898C899T900T901T902A903G904G905C906C907G908G909T910T911C912C913T914C915T916T917A918C919T920T921G922G923C924A925G926A927G928G929G930A931G932G933C934T935G936C937T938A939T940T941C942T943C944C945G946C947C948T949G950C951A952T953T954T955C956T957T958T959T960T961C962T963G964G965A966T967T968A969C970T971T972A973G974T975T976A977T978G979G980C981C982T983T984T985G986C987A988A989A990G991G992C993A994G995G996G997G998T999'"
      ]
     },
     "execution_count": 8,
     "metadata": {},
     "output_type": "execute_result"
    }
   ],
   "execution_count": 8
  },
  {
   "cell_type": "markdown",
   "id": "d9544cb73002d92f",
   "metadata": {},
   "source": [
    "### Comparación con Biopython"
   ]
  },
  {
   "cell_type": "markdown",
   "id": "afae144035c2c6e1",
   "metadata": {},
   "source": [
    "Función de alineamiento de biopython"
   ]
  },
  {
   "cell_type": "code",
   "id": "1c42401d88b67adc",
   "metadata": {
    "ExecuteTime": {
     "end_time": "2024-10-05T21:24:28.415458Z",
     "start_time": "2024-10-05T21:24:28.250647Z"
    }
   },
   "source": [
    "from Bio import pairwise2\n",
    "\n",
    "# Realizar el alineamiento\n",
    "al = pairwise2.align.globalxx(seq1[0], seq2[0])\n",
    "\n",
    "# Imprimir los alineamientos\n",
    "for a in al:\n",
    "    print(pairwise2.format_alignment(*a))"
   ],
   "outputs": [
    {
     "name": "stdout",
     "output_type": "stream",
     "text": [
      "CTCAAAAGTCTAGAGCCACCGTCCAGGGAGCAGGTAGCTGCTGGGCTCCGGGGACACTTTGCGTTCGGGCTGGGAGCGTGCTTTCCACGACGGTGACACGCTTCCCTGGATTGGGTAAGCTCCTGACTGAACTTGATGAGTCCTCTCTGAGTCACGGGCTCTCGGCTCCGTGTATTTTCAGCTCGGGAAAATCGCTGGGGCTGGGGGTGGGGCAGTGGGGACTTAGCGAGTTTGGGGGTGAGTGGGATGGAAGCTTGGCTAGAGGGATCATCATAGGAGTTGCATTGTTGGGAGACCTGGGTGTAGATGATGGGGATGTTAGGACCATCCGAACTCAAAGTTGAACGCCTAGGCAGAGGAGTGGAGCTTTGGGGAACCTTGAGCCGGCCTAAAGCGTACTTCTTTGCACATCCACCCGGTGCTGGGCGTAGGGAATCCCTGAAATAAAAGATGCACAAAGCATTGAGGTCTGAGACTTTTGGATCTCGAAACATTGAGAACTCATAGCTGTATATTTTAGAGCCCATGGCATCCTAGTGAAAACTGGGGCTCCATTCCGAAATGATCATTTGGGGGTGATCCGGGGAGCCCAAGCTGCTAAGGTCCCACAACTTCCGGACCTTTGTCCTTCCTGGAGCGATCTTTCCAGGCAGCCCCCGGCTCCGCTAGATGGAGAAAATCCAATTGAAGGCTGTCAGTCGTGGAAGTGAGAAGTGCTAAACCAGGGGTTTGCCCGCCAGGCCGAGGAGGACCGTCGCAATCTGAGAGGCCCGGCAGCCCTGTTATTGTTTGGCTCCACATTTACATTTCTGCCTCTTGCAGCAGCATTTCCGGTTTCTTTTTGCCGGAGCAGCTCACTATTCACCCGATGAGAGGGGAGGAGAGAGAGAGAAAATGTCCTTTAGGCCGGTTCCTCTTACTTGGCAGAGGGAGGCTGCTATTCTCCGCCTGCATTTCTTTTTCTGGATTACTTAGTTATGGCCTTTGCAAAGGCAGGGGT\n",
      "||||||||||||||||||||||||||||||||||||||||||||||||||||||||||||||||||||||||||||||||||||||||||||||||||||||||||||||||||||||||||||||||||||||||||||||||||||||||||||||||||||||||||||||||||||||||||||||||||||||||||||||||||||||||||||||||||||||||||||||||||||||||||||||||||||||||||||||||||||||||||||||||||||||||||||||||||||||||||||||||||||||||||||||||||||||||||||||||||||||||||||||||||||||||||||||||||||||||||||||||||||||||||||||||||||||||||||||||||||||||||||||||||||||||||||||||||||||||||||||||||||||||||||||||||||||||||||||||||||||||||||||||||||||||||||||||||||||||||||||||||||||||||||||||||||||||||||||||||||||||||||||||||||||||||||||||||||||||||||||||||||||||||||||||||||||||||||||||||||||||||||||||||||||||||||||||||||||||||||||||||||||||||||||||||||||||||||||||||||||||||||||||||||||||||||||||||||||||||||||||||||||||||||||||||||||||||||||||||||||||||||||||||||||||||||||||||||||||||||||||||||||||||||||||||||||||||||||||||||||||||||||||||||||||||||||||||||||||||||||||||||||||||||||||||||||||||||||||||||||||\n",
      "CTCAAAAGTCTAGAGCCACCGTCCAGGGAGCAGGTAGCTGCTGGGCTCCGGGGACACTTTGCGTTCGGGCTGGGAGCGTGCTTTCCACGACGGTGACACGCTTCCCTGGATTGGGTAAGCTCCTGACTGAACTTGATGAGTCCTCTCTGAGTCACGGGCTCTCGGCTCCGTGTATTTTCAGCTCGGGAAAATCGCTGGGGCTGGGGGTGGGGCAGTGGGGACTTAGCGAGTTTGGGGGTGAGTGGGATGGAAGCTTGGCTAGAGGGATCATCATAGGAGTTGCATTGTTGGGAGACCTGGGTGTAGATGATGGGGATGTTAGGACCATCCGAACTCAAAGTTGAACGCCTAGGCAGAGGAGTGGAGCTTTGGGGAACCTTGAGCCGGCCTAAAGCGTACTTCTTTGCACATCCACCCGGTGCTGGGCGTAGGGAATCCCTGAAATAAAAGATGCACAAAGCATTGAGGTCTGAGACTTTTGGATCTCGAAACATTGAGAACTCATAGCTGTATATTTTAGAGCCCATGGCATCCTAGTGAAAACTGGGGCTCCATTCCGAAATGATCATTTGGGGGTGATCCGGGGAGCCCAAGCTGCTAAGGTCCCACAACTTCCGGACCTTTGTCCTTCCTGGAGCGATCTTTCCAGGCAGCCCCCGGCTCCGCTAGATGGAGAAAATCCAATTGAAGGCTGTCAGTCGTGGAAGTGAGAAGTGCTAAACCAGGGGTTTGCCCGCCAGGCCGAGGAGGACCGTCGCAATCTGAGAGGCCCGGCAGCCCTGTTATTGTTTGGCTCCACATTTACATTTCTGCCTCTTGCAGCAGCATTTCCGGTTTCTTTTTGCCGGAGCAGCTCACTATTCACCCGATGAGAGGGGAGGAGAGAGAGAGAAAATGTCCTTTAGGCCGGTTCCTCTTACTTGGCAGAGGGAGGCTGCTATTCTCCGCCTGCATTTCTTTTTCTGGATTACTTAGTTATGGCCTTTGCAAAGGCAGGGGT\n",
      "  Score=1000\n",
      "\n"
     ]
    },
    {
     "name": "stderr",
     "output_type": "stream",
     "text": [
      "/Users/agustincarmusciano/Desktop/Bioinformatica/bioinformatics/lib/python3.11/site-packages/Bio/pairwise2.py:278: BiopythonDeprecationWarning: Bio.pairwise2 has been deprecated, and we intend to remove it in a future release of Biopython. As an alternative, please consider using Bio.Align.PairwiseAligner as a replacement, and contact the Biopython developers if you still need the Bio.pairwise2 module.\n",
      "  warnings.warn(\n"
     ]
    }
   ],
   "execution_count": 10
  },
  {
   "cell_type": "markdown",
   "id": "ac1885b10a548238",
   "metadata": {},
   "source": [
    "# ALINEAMIENTO DE PROTEINAS"
   ]
  },
  {
   "cell_type": "markdown",
   "id": "d757890abcd8327c",
   "metadata": {},
   "source": [
    "Utilizamos la misma funcion pero enviando 'PROTEIN' en el parametro t (tipo).\n",
    "\n",
    "Y cargamos una proteina existente, tomando como primer secuencia los primeros 100 aminoacidos y en la segunda secuencia los primeros 150... para corroborar que haya match en los primeros 100."
   ]
  },
  {
   "cell_type": "code",
   "id": "9c58926e1c5e56d",
   "metadata": {
    "ExecuteTime": {
     "end_time": "2024-10-05T21:24:34.904634Z",
     "start_time": "2024-10-05T21:24:30.208532Z"
    }
   },
   "source": [
    "prot = SeqIO.read(\"./documents/my_prot.txt\",\"swiss\")\n",
    "prot_seq2 = [prot.seq[20:40],'seq2']\n",
    "prot_seq1 = [prot.seq[:60],'seq1']\n",
    "prot_k=3\n",
    "\n",
    "# Threshold es opcional. Si no se le envia nada en ese parametro, la funcion calculara el umbral en base a la media del score de la diagonal principal de la primer secuencia\n",
    "alignment_protein = Alignment(prot_seq1, prot_seq2, prot_k, \"PROTEIN\")"
   ],
   "outputs": [],
   "execution_count": 11
  },
  {
   "cell_type": "markdown",
   "id": "8e6ab08e9e8b7309",
   "metadata": {},
   "source": [
    "Grafico Sin filtrar"
   ]
  },
  {
   "cell_type": "code",
   "id": "f9525864bccd11d9",
   "metadata": {
    "ExecuteTime": {
     "end_time": "2024-10-05T21:24:35.015934Z",
     "start_time": "2024-10-05T21:24:34.923170Z"
    }
   },
   "source": "alignment_protein.show_dotplot()",
   "outputs": [
    {
     "data": {
      "text/plain": [
       "<Figure size 640x480 with 1 Axes>"
      ],
      "image/png": "[encoded data removed]"
     },
     "metadata": {},
     "output_type": "display_data"
    }
   ],
   "execution_count": 12
  },
  {
   "cell_type": "markdown",
   "id": "af85c2497c0b014b",
   "metadata": {},
   "source": [
    "Grafico filtrado"
   ]
  },
  {
   "metadata": {
    "ExecuteTime": {
     "end_time": "2024-10-05T21:24:35.045905Z",
     "start_time": "2024-10-05T21:24:35.040582Z"
    }
   },
   "cell_type": "code",
   "source": "alignment_protein.type_of_sequences",
   "id": "7109532551a9a77c",
   "outputs": [
    {
     "data": {
      "text/plain": [
       "'PROTEIN'"
      ]
     },
     "execution_count": 13,
     "metadata": {},
     "output_type": "execute_result"
    }
   ],
   "execution_count": 13
  },
  {
   "cell_type": "code",
   "id": "ca97a065268b0bd9",
   "metadata": {
    "ExecuteTime": {
     "end_time": "2024-10-05T21:24:35.486987Z",
     "start_time": "2024-10-05T21:24:35.162056Z"
    }
   },
   "source": "alignment_protein.show_dotplot(filtered=True, show_alignment=True)",
   "outputs": [
    {
     "data": {
      "text/plain": [
       "<Figure size 640x480 with 1 Axes>"
      ],
      "image/png": "[encoded data removed]"
     },
     "metadata": {},
     "output_type": "display_data"
    }
   ],
   "execution_count": 14
  },
  {
   "cell_type": "markdown",
   "id": "951dae27f6b07da4",
   "metadata": {},
   "source": [
    "Mejor alineamiento"
   ]
  },
  {
   "cell_type": "code",
   "id": "f9322ae069e2fcf8",
   "metadata": {
    "ExecuteTime": {
     "end_time": "2024-10-05T21:24:45.829298Z",
     "start_time": "2024-10-05T21:24:45.819156Z"
    }
   },
   "source": "alignment_protein.show_alignment()",
   "outputs": [
    {
     "data": {
      "text/plain": [
       "'------D6-------------D20L21W22K23L24L25P26E27N28N29V30L31S32P33L34P35S36Q37-------------Q51--------'"
      ]
     },
     "execution_count": 17,
     "metadata": {},
     "output_type": "execute_result"
    }
   ],
   "execution_count": 17
  },
  {
   "cell_type": "markdown",
   "id": "78fa1329d2d4c6c1",
   "metadata": {},
   "source": [
    "# ALINEAMIENTO MULTIPLE"
   ]
  },
  {
   "metadata": {},
   "cell_type": "markdown",
   "source": "Obtenemos secuencias de proteinas con una funcion simple",
   "id": "182f46d8f6d940ab"
  },
  {
   "cell_type": "code",
   "id": "cba8d7cabc53845c",
   "metadata": {
    "ExecuteTime": {
     "end_time": "2024-10-05T21:24:51.898610Z",
     "start_time": "2024-10-05T21:24:51.890033Z"
    }
   },
   "source": [
    "def obtain_protein_sequence(prot,k):\n",
    "    sequences = []\n",
    "    i = 0\n",
    "    num_of_seq = 1\n",
    "    while i<=(len(prot)-k):\n",
    "        sequences.append([prot.seq[i:i+k], f\"seq{num_of_seq}\"])\n",
    "        num_of_seq += 1\n",
    "        i+=k\n",
    "    return sequences"
   ],
   "outputs": [],
   "execution_count": 18
  },
  {
   "cell_type": "code",
   "id": "e2a164c0113e0878",
   "metadata": {
    "ExecuteTime": {
     "end_time": "2024-10-05T21:24:52.183503Z",
     "start_time": "2024-10-05T21:24:52.179912Z"
    }
   },
   "source": [
    "# sequences = obtain_protein_sequence(prot,30)\n",
    "sequences = read_fasta_to_list(\"./documents/sequences.fasta\")\n",
    "print(sequences)"
   ],
   "outputs": [
    {
     "name": "stdout",
     "output_type": "stream",
     "text": [
      "[['MVLSPADKTNVKAAWGKVGAHAGA', 'Protein1'], ['MVLSPADKTNVKAAWGKVGAHAGE', 'Protein2'], ['MSSVTATGLILAHFRGRHSAEHAA', 'Protein3'], ['MALWMRLLLAHFRLALWGPLGAPG', 'Protein4'], ['MALWMRLLPLLALLALWGPLGAPG', 'Protein5'], ['MSSVTATGLILAHFRGRHSAEHAA', 'Protein6'], ['MAGKSPKNLAEELAGGVSLRAAIK', 'Protein7'], ['MAGKSPKNLAEELAGGVSLRAAIK', 'Protein8'], ['MTPIIPHGVMDRTPVALFRGAAYG', 'Protein9'], ['MAGKSPKNLAEELAGGPVALFRAA', 'Protein10']]\n"
     ]
    }
   ],
   "execution_count": 19
  },
  {
   "metadata": {
    "ExecuteTime": {
     "end_time": "2024-10-07T13:42:50.493050Z",
     "start_time": "2024-10-07T13:42:50.415493Z"
    }
   },
   "cell_type": "code",
   "source": [
    "class AlignmentNode:\n",
    "\n",
    "    def __init__(self, seq1, seq2, inner):\n",
    "        self.inner = inner\n",
    "        self.seq1 = seq1\n",
    "        self.seq2 = seq2\n",
    "        self.__list_of_traduced_alignments = []\n",
    "\n",
    "    def __obtain_list_seqs(self, seq, label):\n",
    "        k = len(label)\n",
    "        if isinstance(seq, str):\n",
    "            l = []\n",
    "            i = 0\n",
    "            while i < len(seq):\n",
    "                if seq[i:i+k] == label:  # Encuentra 'seq'\n",
    "                    j = i + k\n",
    "                    # Encuentra el número después de 'seq'\n",
    "                    while j < len(seq) and seq[j].isdigit():\n",
    "                        j += 1\n",
    "                    l.append(seq[i:j])  # Captura 'seq' seguido del número\n",
    "                    i = j \n",
    "                else:\n",
    "                    i += 1  # Avanza si no es 'seq'\n",
    "            return l\n",
    "        elif isinstance(seq, AlignmentNode):\n",
    "            return seq.__obtain_list_seqs(seq.seq1,label)+(seq.__obtain_list_seqs(seq.seq2,label))\n",
    "    \n",
    "    # Función recursiva para traer los alineamientos\n",
    "    def __recursive_alignment(self, seq, d_matrix, alignment):\n",
    "        # Primero recorre de manera recursiva (excepto si la rama es str) trayendo la lista de mejores secuencias\n",
    "        if isinstance(seq.seq1, str):\n",
    "            seq_to_align_1 = [seq.seq1]\n",
    "        else:\n",
    "            seq_to_align_1 = self.__recursive_alignment(seq.seq1, d_matrix, alignment)\n",
    "        if isinstance(seq.seq2, str):\n",
    "            seq_to_align_2 = [seq.seq2]\n",
    "        else:\n",
    "            seq_to_align_2 = self.__recursive_alignment(seq.seq2, d_matrix, alignment)\n",
    "        \n",
    "        # Controla las secuencias traidas (todas contra todas) y se fija cual es la de menor distancia (mejor score)\n",
    "        best_score = -np.inf\n",
    "        best_seqs = []\n",
    "        for i in range(len(seq_to_align_1)):\n",
    "            for j in range(len(seq_to_align_2)):\n",
    "                if d_matrix.loc[seq_to_align_1[i]][seq_to_align_2[j]] > best_score:\n",
    "                    best_score = d_matrix.loc[seq_to_align_1[i]][seq_to_align_2[j]]\n",
    "                    best_seqs = [seq_to_align_1[i], seq_to_align_2[j]]\n",
    "        \n",
    "        # Recorre la lista de alineamientos y busca el alineamiento que coincide con el mejor score obtenido previamente\n",
    "        for algn in alignment:\n",
    "            if algn.seq_string_equals(best_seqs[0], best_seqs[1]):\n",
    "                self.__list_of_traduced_alignments.append([algn.show_alignment(), best_seqs])\n",
    "                break\n",
    "                \n",
    "        return best_seqs\n",
    "            \n",
    "    def alignment(self, d_matrix, alignments):\n",
    "        self.__recursive_alignment(self, d_matrix, alignments)\n",
    "        return self.__list_of_traduced_alignments.copy()\n",
    "    \n",
    "    def contains_seq(self, seq, label):\n",
    "        list = self.__obtain_list_seqs(self, label)\n",
    "        list2 = self.__obtain_list_seqs(seq, label)\n",
    "        for seq1 in list: \n",
    "            for seq2 in list2:\n",
    "                if seq1 == seq2:\n",
    "                    return True\n",
    "        return False\n",
    "            \n",
    "    \n",
    "    def __str__(self):\n",
    "        return f\"({self.seq1}, {self.seq2})\"\n",
    "\n"
   ],
   "id": "7a99bab1a382dd78",
   "outputs": [],
   "execution_count": 207
  },
  {
   "metadata": {
    "ExecuteTime": {
     "end_time": "2024-10-07T14:36:49.795526Z",
     "start_time": "2024-10-07T14:36:49.776177Z"
    }
   },
   "cell_type": "code",
   "source": [
    "class Tree:\n",
    "    \n",
    "    def __init__(self):\n",
    "        self.__inners = {}\n",
    "        self.__tree_inners = {}\n",
    "        self.__elements = []\n",
    "        self.__tree_alignments = []\n",
    "        self.__inner = 1\n",
    "        self.__inner_tree = 1\n",
    "        self.__waiting = None\n",
    "        self.__newick = \"\"\n",
    "        \n",
    "    def __increment_inner(self, tree=False):\n",
    "        if tree:\n",
    "            self.__inner_tree += 1\n",
    "        else:\n",
    "            self.__inner += 1\n",
    "    \n",
    "    def __search_element(self, elem, tree=False):\n",
    "        if tree:\n",
    "            if elem in self.__tree_inners:\n",
    "                return self.__tree_inners[elem]\n",
    "            else:\n",
    "                return None\n",
    "        else:\n",
    "            if elem in self.__inners:\n",
    "                return self.__inners[elem]\n",
    "            else:\n",
    "                return None\n",
    "    \n",
    "    def __obtain_element(self, inner, tree=False):\n",
    "        if tree:\n",
    "            for elem in self.__tree_inners:\n",
    "                if elem.inner == inner:\n",
    "                    return elem\n",
    "        else:\n",
    "            for elem in self.__elements:\n",
    "                if elem.inner == inner:\n",
    "                    return elem\n",
    "            \n",
    "    def __create_branch(self, elem):\n",
    "        inner1 = self.__search_element(self.__waiting, tree=True)\n",
    "        inner2 = self.__search_element(elem, tree=True)\n",
    "    \n",
    "        elem1 = self.__obtain_element(inner1, tree=True) if inner1 else self.__waiting\n",
    "        elem2 = self.__obtain_element(inner2, tree=True) if inner2 else elem\n",
    "    \n",
    "        align = AlignmentNode(elem1, elem2, self.__inner)\n",
    "    \n",
    "        self.__inners[str(align)] = self.__inner\n",
    "    \n",
    "        self.__increment_inner()  \n",
    "        self.__tree_alignments.insert(0,align)\n",
    "        self.__newick = str(align)\n",
    "        self.__waiting = None\n",
    "        \n",
    "    def set_node(self, elem1, elem2):\n",
    "        inner1 = self.__search_element(elem1)\n",
    "        inner2 = self.__search_element(elem2)\n",
    "    \n",
    "        elem1 = self.__obtain_element(inner1) if inner1 else elem1\n",
    "        elem2 = self.__obtain_element(inner2) if inner2 else elem2\n",
    "    \n",
    "        align = AlignmentNode(elem1, elem2, self.__inner)\n",
    "\n",
    "        self.__inners[str(align)] = self.__inner\n",
    "\n",
    "        self.__increment_inner()\n",
    "    \n",
    "        if self.__waiting is None:\n",
    "            self.__waiting = align\n",
    "        else:\n",
    "            self.__create_branch(align)\n",
    "\n",
    "        self.__elements.insert(0, align)\n",
    "\n",
    "    def show_alignments(self, d_matrix, alignments, elements):\n",
    "        if elements:\n",
    "            iterable = self.__elements[0]\n",
    "        else:\n",
    "            iterable = self.__tree_alignments[0]\n",
    "            \n",
    "        for align in iterable.alignment(d_matrix, alignments):\n",
    "            print(f\"Secuencias: {align[1][0], align[1][1]}\\n\"\n",
    "                  f\"Alineamiento: {align[0]}\\n\"\n",
    "                  f\"{'_'*30}\")\n",
    "\n",
    "    def get_last_alignment(self):\n",
    "        return self.__elements[0]\n",
    "    \n",
    "    def get_newick(self, elements):\n",
    "        if elements:\n",
    "            return str(self.__elements[0])\n",
    "        return self.__newick\n",
    "        \n",
    "        \n",
    "    "
   ],
   "id": "935a61d6d99e3eb3",
   "outputs": [],
   "execution_count": 265
  },
  {
   "metadata": {},
   "cell_type": "markdown",
   "source": [
    "### Como calcular la matriz de distancia para el alineamiento multiple\n",
    "\n",
    "1. **Buscar el par con menor distancia**\n",
    "\n",
    "2. **Formar un nodo con esos elementos**\n",
    "\n",
    "3. **Recalcula la matriz**: $$d(e1e2-j) = \\frac{d(e1-j) + d(e2-j)}{2}$$\n",
    "\n",
    "4. **Repetir el proceso**\n"
   ],
   "id": "2e0596d3ddd8ecc4"
  },
  {
   "metadata": {
    "ExecuteTime": {
     "end_time": "2024-10-12T19:15:04.646577Z",
     "start_time": "2024-10-12T19:15:04.335069Z"
    }
   },
   "cell_type": "code",
   "source": [
    "from Bio import Phylo\n",
    "from io import StringIO\n",
    "import pandas as pd\n",
    "from scipy.cluster.hierarchy import dendrogram, linkage\n",
    "\n",
    "class MultipleAlignment:   \n",
    "    def __init__(self, sequences, type_of_sequences=\"DNA\"):\n",
    "        # Lista de nodos de alineamiento\n",
    "        self.list_of_nodes = []\n",
    "        \n",
    "        self.__tree = Tree()\n",
    "        # Alineamientos totales (util para graficar el arbol)\n",
    "        self.alignments = None\n",
    "        # Historial de matriz de distancia, permite controlar la iteracion completa\n",
    "        self.matrix_history = []\n",
    "        # Nombre de las secuencias\n",
    "        self.label_of_sequences = \"\"\n",
    "        # Matriz de distancia inicial\n",
    "        self.distance_matrix = None\n",
    "        # Alineamientos iniciales\n",
    "        self.sequences_alignments = []\n",
    "        # Secuencias a alinear\n",
    "        self.sequences = sequences\n",
    "        type_of_sequences = type_of_sequences.upper()\n",
    "        if type_of_sequences == \"DNA\" or type_of_sequences == \"PROTEIN\":     \n",
    "                self.type_of_sequences = type_of_sequences\n",
    "        else:\n",
    "            raise ValueError(\"type_of_sequences debe ser DNA o PROTEIN\")\n",
    "        if self.__check_sequences():        \n",
    "            self.matrix = self.__obtain_matrix()\n",
    "        else:\n",
    "            raise ValueError(\"El formato de la secuencia tiene que ser:  [[sequence],'name of sequence']\")\n",
    "\n",
    "    def __check_sequences(self):\n",
    "        # Verificar que la lista contenga tuplas o listas con dos elementos\n",
    "        if not isinstance(self.sequences, list):\n",
    "            return False\n",
    "    \n",
    "        for item in self.sequences:\n",
    "            if not isinstance(item, (tuple, list)) or len(item) != 2:\n",
    "                return False\n",
    "    \n",
    "            sequence, name = item\n",
    "            \n",
    "            if self.type_of_sequences == \"DNA\":\n",
    "                # Verificar que la secuencia sea una cadena que solo contenga A, T, C, G\n",
    "                if not isinstance(sequence, str) or not all(base in 'ATCG' for base in sequence.upper()):\n",
    "                    raise ValueError(f\"La secuencia es: '{self.type_of_sequences}' pero no contiene 'ATCG'\")\n",
    "                \n",
    "            # Verificar que el nombre sea una cadena\n",
    "            if not isinstance(name, str):\n",
    "                raise ValueError(f\"El nombre de la secuencia tiene que ser un String\")\n",
    "    \n",
    "        return True\n",
    "\n",
    "    \n",
    "    # Dibuja el dendograma\n",
    "    def draw_tree(self, elements=False):  \n",
    "        tree = Phylo.read(StringIO(f\"{self.__tree.get_newick(elements)}\"), \"newick\")\n",
    "        tree.ladderize()\n",
    "        Phylo.draw(tree)\n",
    "\n",
    "    \n",
    "    # Muestra todos los alineamientos respetando el dendograma\n",
    "    def show_alignment(self, elements):\n",
    "        self.__tree.show_alignments(self.distance_matrix, self.sequences_alignments, elements)\n",
    "    \n",
    "    def obtain_alignment(self, seq1, seq2):\n",
    "        for alignment in self.sequences_alignments:\n",
    "            if alignment.seq_string_equals(seq1, seq2):\n",
    "                return alignment\n",
    "    \n",
    "    # Encuentra las secuencias con score mas cercano\n",
    "    def __closest_neighbor(self,matrix):\n",
    "        pair = []\n",
    "        best_distance = -np.inf\n",
    "        for i in range(len(matrix.index)):\n",
    "            for j in range(i+1,len(matrix.columns)):\n",
    "                distance = matrix.loc[matrix.index[i], matrix.columns[j]]\n",
    "                if distance >= best_distance:\n",
    "                    pair=[matrix.index[i], matrix.columns[j]]\n",
    "                    best_distance = matrix.loc[matrix.index[i], matrix.columns[j]]\n",
    "        return pair[0], pair[1]\n",
    "    \n",
    "    # Revisa si existe el nodo, de ser asi lo devuelve\n",
    "    def __check_if_exists_node(self, seq):\n",
    "        r = None\n",
    "        for node in self.list_of_nodes:\n",
    "            if node.contains_seq(seq, self.label_of_sequences):\n",
    "                r = node\n",
    "            \n",
    "        if r is None:\n",
    "            return seq\n",
    "        else:\n",
    "            self.list_of_nodes.remove(r)\n",
    "            return r\n",
    "    \n",
    "    # Se edita la matriz eliminando las columnas y las filas de los nodos conectados, y creando una nueva con el nodo nuevo.\n",
    "    def __edit_matrix(self,matrix, row, column):\n",
    "        seq1 = row\n",
    "        seq2 = column\n",
    "        \n",
    "        df_copy = matrix.copy()\n",
    "        matrix = matrix.drop(index=seq1, columns=seq2)\n",
    "        matrix = matrix.drop(index=seq2, columns=seq1)\n",
    "        \n",
    "        self.__tree.set_node(seq1, seq2)\n",
    "        align_node = self.__tree.get_last_alignment()\n",
    "        self.list_of_nodes.append(align_node)\n",
    "        # Insertar una columna llena de ceros en la posición dinámica\n",
    "        \n",
    "        matrix.insert(0, f'{align_node}', [0] * len(matrix))\n",
    "        \n",
    "        # Crear una fila llena de ceros para insertar con un nombre específico\n",
    "        new_row = pd.DataFrame([[0] * len(matrix.columns)], columns=matrix.columns, index=[f'{align_node}'])\n",
    "        \n",
    "        # Insertar la fila en la posición dinámica\n",
    "        matrix = pd.concat([new_row, matrix.iloc[0:]])\n",
    "\n",
    "        matrix = matrix.astype(float)\n",
    "        \n",
    "        node1_str = str(align_node.seq1) \n",
    "        node2_str = str(align_node.seq2)\n",
    "        \n",
    "        # Reasigna valores a la matriz (en las filas y columnas nuevas hace la formula mencionada en el markdown de arriba)\n",
    "        for i in range(len(matrix.index)):\n",
    "            for j in range(i+1,len(matrix.columns)): \n",
    "                if matrix.index[i] == f\"{align_node}\": \n",
    "                    matrix.loc[matrix.index[i],matrix.columns[j]] = (df_copy.loc[matrix.columns[j], node1_str]  + df_copy.loc[matrix.columns[j],node2_str])/2\n",
    "                elif matrix.columns[j] == f\"{align_node}\":\n",
    "                    matrix.loc[matrix.index[i],matrix.columns[j]] = (df_copy.loc[node1_str,matrix.index[i]]  + df_copy.loc[node2_str,matrix.index[i]])/2\n",
    "                else:\n",
    "                    matrix.loc[matrix.index[i],matrix.columns[j]] = df_copy.loc[matrix.index[i],matrix.columns[j]]       \n",
    "        return matrix, align_node\n",
    "    \n",
    "    # Alinea las secuencias\n",
    "    def __align_seq(self, seq1, seq2):\n",
    "        align = pairwise2.align.globalxx(seq1, seq2)\n",
    "        return align[0].score\n",
    "    \n",
    "    # Obtiene la matriz de distancia\n",
    "    def __d_matrix(self):\n",
    "        n = len(self.sequences)\n",
    "        matrix = np.zeros((n, n))\n",
    "        for i in range(n):\n",
    "            for j in range(i+1, n):\n",
    "                new_align = Alignment(self.sequences[i], self.sequences[j], 3, self.type_of_sequences)\n",
    "                self.sequences_alignments.append(new_align)\n",
    "                matrix[i, j] = new_align.score\n",
    "        df_distance_matrix = pd.DataFrame(matrix)\n",
    "        self.label_of_sequences = self.sequences[0][1][:-1]\n",
    "        df_distance_matrix.columns = [x[1] for x in self.sequences]\n",
    "        df_distance_matrix.index = [x[1] for x in self.sequences]\n",
    "\n",
    "        return df_distance_matrix\n",
    "    \n",
    "    # Función principal de la clase, mediante esta va obteniendo la matriz y generando los nodos\n",
    "    def __obtain_matrix(self):\n",
    "        # Obtiene la matriz de distancia de las secuencias (compara todas con todas)\n",
    "        matrix = self.__d_matrix()\n",
    "        # Convertir las secuencias en objetos SeqRecord\n",
    "        self.distance_matrix = matrix\n",
    "        while len(matrix)>1:\n",
    "            self.matrix_history.append(matrix)\n",
    "            row, column = self.__closest_neighbor(matrix)\n",
    "            matrix, align_node = self.__edit_matrix(matrix, row, column)\n",
    "            self.alignments = align_node\n",
    "\n",
    "    \n",
    "        \n",
    "        "
   ],
   "id": "e7dbf6308d9e288c",
   "outputs": [
    {
     "ename": "ModuleNotFoundError",
     "evalue": "No module named 'pandas'",
     "output_type": "error",
     "traceback": [
      "\u001B[0;31m---------------------------------------------------------------------------\u001B[0m",
      "\u001B[0;31mModuleNotFoundError\u001B[0m                       Traceback (most recent call last)",
      "Cell \u001B[0;32mIn[1], line 3\u001B[0m\n\u001B[1;32m      1\u001B[0m \u001B[38;5;28;01mfrom\u001B[39;00m \u001B[38;5;21;01mBio\u001B[39;00m \u001B[38;5;28;01mimport\u001B[39;00m Phylo\n\u001B[1;32m      2\u001B[0m \u001B[38;5;28;01mfrom\u001B[39;00m \u001B[38;5;21;01mio\u001B[39;00m \u001B[38;5;28;01mimport\u001B[39;00m StringIO\n\u001B[0;32m----> 3\u001B[0m \u001B[38;5;28;01mimport\u001B[39;00m \u001B[38;5;21;01mpandas\u001B[39;00m \u001B[38;5;28;01mas\u001B[39;00m \u001B[38;5;21;01mpd\u001B[39;00m\n\u001B[1;32m      4\u001B[0m \u001B[38;5;28;01mfrom\u001B[39;00m \u001B[38;5;21;01mscipy\u001B[39;00m\u001B[38;5;21;01m.\u001B[39;00m\u001B[38;5;21;01mcluster\u001B[39;00m\u001B[38;5;21;01m.\u001B[39;00m\u001B[38;5;21;01mhierarchy\u001B[39;00m \u001B[38;5;28;01mimport\u001B[39;00m dendrogram, linkage\n\u001B[1;32m      6\u001B[0m \u001B[38;5;28;01mclass\u001B[39;00m \u001B[38;5;21;01mMultipleAlignment\u001B[39;00m:   \n",
      "\u001B[0;31mModuleNotFoundError\u001B[0m: No module named 'pandas'"
     ]
    }
   ],
   "execution_count": 1
  },
  {
   "metadata": {
    "ExecuteTime": {
     "end_time": "2024-10-07T14:55:51.222590Z",
     "start_time": "2024-10-07T14:55:00.578154Z"
    }
   },
   "cell_type": "code",
   "source": "ma = MultipleAlignment(sequences,\"protein\")",
   "id": "b402dfccea09c6cc",
   "outputs": [],
   "execution_count": 286
  },
  {
   "metadata": {
    "ExecuteTime": {
     "end_time": "2024-10-07T14:55:51.354212Z",
     "start_time": "2024-10-07T14:55:51.346758Z"
    }
   },
   "cell_type": "code",
   "source": "print(ma.alignments)",
   "id": "b6ae1f82a79ee67f",
   "outputs": [
    {
     "name": "stdout",
     "output_type": "stream",
     "text": [
      "((((Protein1, Protein2), Protein10), ((Protein5, Protein9), Protein4)), ((Protein7, Protein8), (Protein3, Protein6)))\n"
     ]
    }
   ],
   "execution_count": 287
  },
  {
   "metadata": {
    "ExecuteTime": {
     "end_time": "2024-10-07T14:55:51.532229Z",
     "start_time": "2024-10-07T14:55:51.502068Z"
    }
   },
   "cell_type": "code",
   "source": "ma.matrix_history",
   "id": "45fa9532f1190e1c",
   "outputs": [
    {
     "data": {
      "text/plain": [
       "[           Protein1  Protein2  Protein3  Protein4  Protein5  Protein6  \\\n",
       " Protein1        0.0     114.0     -19.0       1.0       6.0     -19.0   \n",
       " Protein2        0.0       0.0     -19.0       1.0       6.0     -19.0   \n",
       " Protein3        0.0       0.0       0.0       1.0       6.0     108.0   \n",
       " Protein4        0.0       0.0       0.0       0.0       0.0     -15.0   \n",
       " Protein5        0.0       0.0       0.0       0.0       0.0     -15.0   \n",
       " Protein6        0.0       0.0       0.0       0.0       0.0       0.0   \n",
       " Protein7        0.0       0.0       0.0       0.0       0.0       0.0   \n",
       " Protein8        0.0       0.0       0.0       0.0       0.0       0.0   \n",
       " Protein9        0.0       0.0       0.0       0.0       0.0       0.0   \n",
       " Protein10       0.0       0.0       0.0       0.0       0.0       0.0   \n",
       " \n",
       "            Protein7  Protein8  Protein9  Protein10  \n",
       " Protein1      -15.0     -15.0     -12.0      -17.0  \n",
       " Protein2      -15.0     -15.0     -12.0      -17.0  \n",
       " Protein3      -15.0     -15.0     -12.0      -17.0  \n",
       " Protein4      -15.0     -15.0       3.0       -7.0  \n",
       " Protein5      -15.0     -15.0       3.0       -7.0  \n",
       " Protein6      -15.0     -15.0     -12.0      -17.0  \n",
       " Protein7        0.0     103.0     -12.0       66.0  \n",
       " Protein8        0.0       0.0     -12.0       66.0  \n",
       " Protein9        0.0       0.0       0.0      -20.0  \n",
       " Protein10       0.0       0.0       0.0        0.0  ,\n",
       "                       (Protein1, Protein2)  Protein3  Protein4  Protein5  \\\n",
       " (Protein1, Protein2)                   0.0       0.0       0.0       0.0   \n",
       " Protein3                               0.0       0.0       1.0       6.0   \n",
       " Protein4                               0.0       0.0       0.0       0.0   \n",
       " Protein5                               0.0       0.0       0.0       0.0   \n",
       " Protein6                               0.0       0.0       0.0       0.0   \n",
       " Protein7                               0.0       0.0       0.0       0.0   \n",
       " Protein8                               0.0       0.0       0.0       0.0   \n",
       " Protein9                               0.0       0.0       0.0       0.0   \n",
       " Protein10                              0.0       0.0       0.0       0.0   \n",
       " \n",
       "                       Protein6  Protein7  Protein8  Protein9  Protein10  \n",
       " (Protein1, Protein2)       0.0       0.0       0.0       0.0        0.0  \n",
       " Protein3                 108.0     -15.0     -15.0     -12.0      -17.0  \n",
       " Protein4                 -15.0     -15.0     -15.0       3.0       -7.0  \n",
       " Protein5                 -15.0     -15.0     -15.0       3.0       -7.0  \n",
       " Protein6                   0.0     -15.0     -15.0     -12.0      -17.0  \n",
       " Protein7                   0.0       0.0     103.0     -12.0       66.0  \n",
       " Protein8                   0.0       0.0       0.0     -12.0       66.0  \n",
       " Protein9                   0.0       0.0       0.0       0.0      -20.0  \n",
       " Protein10                  0.0       0.0       0.0       0.0        0.0  ,\n",
       "                       (Protein3, Protein6)  (Protein1, Protein2)  Protein4  \\\n",
       " (Protein3, Protein6)                   0.0                   0.0      -7.5   \n",
       " (Protein1, Protein2)                   0.0                   0.0       0.0   \n",
       " Protein4                               0.0                   0.0       0.0   \n",
       " Protein5                               0.0                   0.0       0.0   \n",
       " Protein7                               0.0                   0.0       0.0   \n",
       " Protein8                               0.0                   0.0       0.0   \n",
       " Protein9                               0.0                   0.0       0.0   \n",
       " Protein10                              0.0                   0.0       0.0   \n",
       " \n",
       "                       Protein5  Protein7  Protein8  Protein9  Protein10  \n",
       " (Protein3, Protein6)      -7.5       0.0       0.0       0.0        0.0  \n",
       " (Protein1, Protein2)       0.0       0.0       0.0       0.0        0.0  \n",
       " Protein4                   0.0     -15.0     -15.0       3.0       -7.0  \n",
       " Protein5                   0.0     -15.0     -15.0       3.0       -7.0  \n",
       " Protein7                   0.0       0.0     103.0     -12.0       66.0  \n",
       " Protein8                   0.0       0.0       0.0     -12.0       66.0  \n",
       " Protein9                   0.0       0.0       0.0       0.0      -20.0  \n",
       " Protein10                  0.0       0.0       0.0       0.0        0.0  ,\n",
       "                       (Protein7, Protein8)  (Protein3, Protein6)  \\\n",
       " (Protein7, Protein8)                   0.0                   0.0   \n",
       " (Protein3, Protein6)                   0.0                   0.0   \n",
       " (Protein1, Protein2)                   0.0                   0.0   \n",
       " Protein4                               0.0                   0.0   \n",
       " Protein5                               0.0                   0.0   \n",
       " Protein9                               0.0                   0.0   \n",
       " Protein10                              0.0                   0.0   \n",
       " \n",
       "                       (Protein1, Protein2)  Protein4  Protein5  Protein9  \\\n",
       " (Protein7, Protein8)                   0.0     -15.0     -15.0       0.0   \n",
       " (Protein3, Protein6)                   0.0      -7.5      -7.5       0.0   \n",
       " (Protein1, Protein2)                   0.0       0.0       0.0       0.0   \n",
       " Protein4                               0.0       0.0       0.0       3.0   \n",
       " Protein5                               0.0       0.0       0.0       3.0   \n",
       " Protein9                               0.0       0.0       0.0       0.0   \n",
       " Protein10                              0.0       0.0       0.0       0.0   \n",
       " \n",
       "                       Protein10  \n",
       " (Protein7, Protein8)        0.0  \n",
       " (Protein3, Protein6)        0.0  \n",
       " (Protein1, Protein2)        0.0  \n",
       " Protein4                   -7.0  \n",
       " Protein5                   -7.0  \n",
       " Protein9                  -20.0  \n",
       " Protein10                   0.0  ,\n",
       "                       (Protein5, Protein9)  (Protein7, Protein8)  \\\n",
       " (Protein5, Protein9)                   0.0                  -7.5   \n",
       " (Protein7, Protein8)                   0.0                   0.0   \n",
       " (Protein3, Protein6)                   0.0                   0.0   \n",
       " (Protein1, Protein2)                   0.0                   0.0   \n",
       " Protein4                               0.0                   0.0   \n",
       " Protein10                              0.0                   0.0   \n",
       " \n",
       "                       (Protein3, Protein6)  (Protein1, Protein2)  Protein4  \\\n",
       " (Protein5, Protein9)                 -3.75                   0.0       1.5   \n",
       " (Protein7, Protein8)                  0.00                   0.0     -15.0   \n",
       " (Protein3, Protein6)                  0.00                   0.0      -7.5   \n",
       " (Protein1, Protein2)                  0.00                   0.0       0.0   \n",
       " Protein4                              0.00                   0.0       0.0   \n",
       " Protein10                             0.00                   0.0       0.0   \n",
       " \n",
       "                       Protein10  \n",
       " (Protein5, Protein9)        0.0  \n",
       " (Protein7, Protein8)        0.0  \n",
       " (Protein3, Protein6)        0.0  \n",
       " (Protein1, Protein2)        0.0  \n",
       " Protein4                   -7.0  \n",
       " Protein10                   0.0  ,\n",
       "                                   ((Protein5, Protein9), Protein4)  \\\n",
       " ((Protein5, Protein9), Protein4)                               0.0   \n",
       " (Protein7, Protein8)                                           0.0   \n",
       " (Protein3, Protein6)                                           0.0   \n",
       " (Protein1, Protein2)                                           0.0   \n",
       " Protein10                                                      0.0   \n",
       " \n",
       "                                   (Protein7, Protein8)  (Protein3, Protein6)  \\\n",
       " ((Protein5, Protein9), Protein4)                  -7.5                 -3.75   \n",
       " (Protein7, Protein8)                               0.0                  0.00   \n",
       " (Protein3, Protein6)                               0.0                  0.00   \n",
       " (Protein1, Protein2)                               0.0                  0.00   \n",
       " Protein10                                          0.0                  0.00   \n",
       " \n",
       "                                   (Protein1, Protein2)  Protein10  \n",
       " ((Protein5, Protein9), Protein4)                   0.0        0.0  \n",
       " (Protein7, Protein8)                               0.0        0.0  \n",
       " (Protein3, Protein6)                               0.0        0.0  \n",
       " (Protein1, Protein2)                               0.0        0.0  \n",
       " Protein10                                          0.0        0.0  ,\n",
       "                                    ((Protein1, Protein2), Protein10)  \\\n",
       " ((Protein1, Protein2), Protein10)                                0.0   \n",
       " ((Protein5, Protein9), Protein4)                                 0.0   \n",
       " (Protein7, Protein8)                                             0.0   \n",
       " (Protein3, Protein6)                                             0.0   \n",
       " \n",
       "                                    ((Protein5, Protein9), Protein4)  \\\n",
       " ((Protein1, Protein2), Protein10)                               0.0   \n",
       " ((Protein5, Protein9), Protein4)                                0.0   \n",
       " (Protein7, Protein8)                                            0.0   \n",
       " (Protein3, Protein6)                                            0.0   \n",
       " \n",
       "                                    (Protein7, Protein8)  (Protein3, Protein6)  \n",
       " ((Protein1, Protein2), Protein10)                   0.0                  0.00  \n",
       " ((Protein5, Protein9), Protein4)                   -7.5                 -3.75  \n",
       " (Protein7, Protein8)                                0.0                  0.00  \n",
       " (Protein3, Protein6)                                0.0                  0.00  ,\n",
       "                                               ((Protein7, Protein8), (Protein3, Protein6))  \\\n",
       " ((Protein7, Protein8), (Protein3, Protein6))                                           0.0   \n",
       " ((Protein1, Protein2), Protein10)                                                      0.0   \n",
       " ((Protein5, Protein9), Protein4)                                                       0.0   \n",
       " \n",
       "                                               ((Protein1, Protein2), Protein10)  \\\n",
       " ((Protein7, Protein8), (Protein3, Protein6))                                0.0   \n",
       " ((Protein1, Protein2), Protein10)                                           0.0   \n",
       " ((Protein5, Protein9), Protein4)                                            0.0   \n",
       " \n",
       "                                               ((Protein5, Protein9), Protein4)  \n",
       " ((Protein7, Protein8), (Protein3, Protein6))                            -5.625  \n",
       " ((Protein1, Protein2), Protein10)                                        0.000  \n",
       " ((Protein5, Protein9), Protein4)                                         0.000  ,\n",
       "                                                     (((Protein1, Protein2), Protein10), ((Protein5, Protein9), Protein4))  \\\n",
       " (((Protein1, Protein2), Protein10), ((Protein5,...                                                0.0                       \n",
       " ((Protein7, Protein8), (Protein3, Protein6))                                                      0.0                       \n",
       " \n",
       "                                                     ((Protein7, Protein8), (Protein3, Protein6))  \n",
       " (((Protein1, Protein2), Protein10), ((Protein5,...                                       -2.8125  \n",
       " ((Protein7, Protein8), (Protein3, Protein6))                                              0.0000  ]"
      ]
     },
     "execution_count": 288,
     "metadata": {},
     "output_type": "execute_result"
    }
   ],
   "execution_count": 288
  },
  {
   "metadata": {
    "ExecuteTime": {
     "end_time": "2024-10-07T14:55:51.719997Z",
     "start_time": "2024-10-07T14:55:51.702230Z"
    }
   },
   "cell_type": "code",
   "source": "ma.distance_matrix",
   "id": "33105a84e08165fc",
   "outputs": [
    {
     "data": {
      "text/plain": [
       "           Protein1  Protein2  Protein3  Protein4  Protein5  Protein6  \\\n",
       "Protein1        0.0     114.0     -19.0       1.0       6.0     -19.0   \n",
       "Protein2        0.0       0.0     -19.0       1.0       6.0     -19.0   \n",
       "Protein3        0.0       0.0       0.0       1.0       6.0     108.0   \n",
       "Protein4        0.0       0.0       0.0       0.0       0.0     -15.0   \n",
       "Protein5        0.0       0.0       0.0       0.0       0.0     -15.0   \n",
       "Protein6        0.0       0.0       0.0       0.0       0.0       0.0   \n",
       "Protein7        0.0       0.0       0.0       0.0       0.0       0.0   \n",
       "Protein8        0.0       0.0       0.0       0.0       0.0       0.0   \n",
       "Protein9        0.0       0.0       0.0       0.0       0.0       0.0   \n",
       "Protein10       0.0       0.0       0.0       0.0       0.0       0.0   \n",
       "\n",
       "           Protein7  Protein8  Protein9  Protein10  \n",
       "Protein1      -15.0     -15.0     -12.0      -17.0  \n",
       "Protein2      -15.0     -15.0     -12.0      -17.0  \n",
       "Protein3      -15.0     -15.0     -12.0      -17.0  \n",
       "Protein4      -15.0     -15.0       3.0       -7.0  \n",
       "Protein5      -15.0     -15.0       3.0       -7.0  \n",
       "Protein6      -15.0     -15.0     -12.0      -17.0  \n",
       "Protein7        0.0     103.0     -12.0       66.0  \n",
       "Protein8        0.0       0.0     -12.0       66.0  \n",
       "Protein9        0.0       0.0       0.0      -20.0  \n",
       "Protein10       0.0       0.0       0.0        0.0  "
      ],
      "text/html": [
       "<div>\n",
       "<style scoped>\n",
       "    .dataframe tbody tr th:only-of-type {\n",
       "        vertical-align: middle;\n",
       "    }\n",
       "\n",
       "    .dataframe tbody tr th {\n",
       "        vertical-align: top;\n",
       "    }\n",
       "\n",
       "    .dataframe thead th {\n",
       "        text-align: right;\n",
       "    }\n",
       "</style>\n",
       "<table border=\"1\" class=\"dataframe\">\n",
       "  <thead>\n",
       "    <tr style=\"text-align: right;\">\n",
       "      <th></th>\n",
       "      <th>Protein1</th>\n",
       "      <th>Protein2</th>\n",
       "      <th>Protein3</th>\n",
       "      <th>Protein4</th>\n",
       "      <th>Protein5</th>\n",
       "      <th>Protein6</th>\n",
       "      <th>Protein7</th>\n",
       "      <th>Protein8</th>\n",
       "      <th>Protein9</th>\n",
       "      <th>Protein10</th>\n",
       "    </tr>\n",
       "  </thead>\n",
       "  <tbody>\n",
       "    <tr>\n",
       "      <th>Protein1</th>\n",
       "      <td>0.0</td>\n",
       "      <td>114.0</td>\n",
       "      <td>-19.0</td>\n",
       "      <td>1.0</td>\n",
       "      <td>6.0</td>\n",
       "      <td>-19.0</td>\n",
       "      <td>-15.0</td>\n",
       "      <td>-15.0</td>\n",
       "      <td>-12.0</td>\n",
       "      <td>-17.0</td>\n",
       "    </tr>\n",
       "    <tr>\n",
       "      <th>Protein2</th>\n",
       "      <td>0.0</td>\n",
       "      <td>0.0</td>\n",
       "      <td>-19.0</td>\n",
       "      <td>1.0</td>\n",
       "      <td>6.0</td>\n",
       "      <td>-19.0</td>\n",
       "      <td>-15.0</td>\n",
       "      <td>-15.0</td>\n",
       "      <td>-12.0</td>\n",
       "      <td>-17.0</td>\n",
       "    </tr>\n",
       "    <tr>\n",
       "      <th>Protein3</th>\n",
       "      <td>0.0</td>\n",
       "      <td>0.0</td>\n",
       "      <td>0.0</td>\n",
       "      <td>1.0</td>\n",
       "      <td>6.0</td>\n",
       "      <td>108.0</td>\n",
       "      <td>-15.0</td>\n",
       "      <td>-15.0</td>\n",
       "      <td>-12.0</td>\n",
       "      <td>-17.0</td>\n",
       "    </tr>\n",
       "    <tr>\n",
       "      <th>Protein4</th>\n",
       "      <td>0.0</td>\n",
       "      <td>0.0</td>\n",
       "      <td>0.0</td>\n",
       "      <td>0.0</td>\n",
       "      <td>0.0</td>\n",
       "      <td>-15.0</td>\n",
       "      <td>-15.0</td>\n",
       "      <td>-15.0</td>\n",
       "      <td>3.0</td>\n",
       "      <td>-7.0</td>\n",
       "    </tr>\n",
       "    <tr>\n",
       "      <th>Protein5</th>\n",
       "      <td>0.0</td>\n",
       "      <td>0.0</td>\n",
       "      <td>0.0</td>\n",
       "      <td>0.0</td>\n",
       "      <td>0.0</td>\n",
       "      <td>-15.0</td>\n",
       "      <td>-15.0</td>\n",
       "      <td>-15.0</td>\n",
       "      <td>3.0</td>\n",
       "      <td>-7.0</td>\n",
       "    </tr>\n",
       "    <tr>\n",
       "      <th>Protein6</th>\n",
       "      <td>0.0</td>\n",
       "      <td>0.0</td>\n",
       "      <td>0.0</td>\n",
       "      <td>0.0</td>\n",
       "      <td>0.0</td>\n",
       "      <td>0.0</td>\n",
       "      <td>-15.0</td>\n",
       "      <td>-15.0</td>\n",
       "      <td>-12.0</td>\n",
       "      <td>-17.0</td>\n",
       "    </tr>\n",
       "    <tr>\n",
       "      <th>Protein7</th>\n",
       "      <td>0.0</td>\n",
       "      <td>0.0</td>\n",
       "      <td>0.0</td>\n",
       "      <td>0.0</td>\n",
       "      <td>0.0</td>\n",
       "      <td>0.0</td>\n",
       "      <td>0.0</td>\n",
       "      <td>103.0</td>\n",
       "      <td>-12.0</td>\n",
       "      <td>66.0</td>\n",
       "    </tr>\n",
       "    <tr>\n",
       "      <th>Protein8</th>\n",
       "      <td>0.0</td>\n",
       "      <td>0.0</td>\n",
       "      <td>0.0</td>\n",
       "      <td>0.0</td>\n",
       "      <td>0.0</td>\n",
       "      <td>0.0</td>\n",
       "      <td>0.0</td>\n",
       "      <td>0.0</td>\n",
       "      <td>-12.0</td>\n",
       "      <td>66.0</td>\n",
       "    </tr>\n",
       "    <tr>\n",
       "      <th>Protein9</th>\n",
       "      <td>0.0</td>\n",
       "      <td>0.0</td>\n",
       "      <td>0.0</td>\n",
       "      <td>0.0</td>\n",
       "      <td>0.0</td>\n",
       "      <td>0.0</td>\n",
       "      <td>0.0</td>\n",
       "      <td>0.0</td>\n",
       "      <td>0.0</td>\n",
       "      <td>-20.0</td>\n",
       "    </tr>\n",
       "    <tr>\n",
       "      <th>Protein10</th>\n",
       "      <td>0.0</td>\n",
       "      <td>0.0</td>\n",
       "      <td>0.0</td>\n",
       "      <td>0.0</td>\n",
       "      <td>0.0</td>\n",
       "      <td>0.0</td>\n",
       "      <td>0.0</td>\n",
       "      <td>0.0</td>\n",
       "      <td>0.0</td>\n",
       "      <td>0.0</td>\n",
       "    </tr>\n",
       "  </tbody>\n",
       "</table>\n",
       "</div>"
      ]
     },
     "execution_count": 289,
     "metadata": {},
     "output_type": "execute_result"
    }
   ],
   "execution_count": 289
  },
  {
   "metadata": {
    "ExecuteTime": {
     "end_time": "2024-10-07T14:55:51.828789Z",
     "start_time": "2024-10-07T14:55:51.826002Z"
    }
   },
   "cell_type": "code",
   "source": "ma.show_alignment(elements=False)",
   "id": "dd7a1baf22f2cdef",
   "outputs": [
    {
     "name": "stdout",
     "output_type": "stream",
     "text": [
      "Secuencias: ('Protein7', 'Protein8')\n",
      "Alineamiento: M0A1G2K3S4P5K6N7L8A9E10E11L12A13G14G15V16S17L18R19A20A21--\n",
      "______________________________\n",
      "Secuencias: ('Protein3', 'Protein6')\n",
      "Alineamiento: M0S1S2V3T4A5T6G7L8I9L10A11H12F13R14G15R16H17S18A19E20H21--\n",
      "______________________________\n",
      "Secuencias: ('Protein7', 'Protein3')\n",
      "Alineamiento: M0-----------------------\n",
      "______________________________\n",
      "Secuencias: ('Protein1', 'Protein2')\n",
      "Alineamiento: M0V1L2S3P4A5D6K7T8N9V10K11A12A13W14G15K16V17G18A19H20A21--\n",
      "______________________________\n",
      "Secuencias: ('Protein1', 'Protein10')\n",
      "Alineamiento: M0-----------------------\n",
      "______________________________\n",
      "Secuencias: ('Protein5', 'Protein9')\n",
      "Alineamiento: M0--------M9-----A15----A20A21--\n",
      "______________________________\n",
      "Secuencias: ('Protein5', 'Protein4')\n",
      "Alineamiento: M0A1L2W3M4R5------------------\n",
      "______________________________\n",
      "Secuencias: ('Protein1', 'Protein5')\n",
      "Alineamiento: M0---M4-------------------\n",
      "______________________________\n",
      "Secuencias: ('Protein3', 'Protein5')\n",
      "Alineamiento: M0---M4-------------------\n",
      "______________________________\n"
     ]
    }
   ],
   "execution_count": 290
  },
  {
   "metadata": {
    "ExecuteTime": {
     "end_time": "2024-10-07T14:55:52.344526Z",
     "start_time": "2024-10-07T14:55:52.234117Z"
    }
   },
   "cell_type": "code",
   "source": "ma.draw_tree()",
   "id": "7e1c903ec9fabe0b",
   "outputs": [
    {
     "data": {
      "text/plain": [
       "<Figure size 640x480 with 1 Axes>"
      ],
      "image/png": "[encoded data removed]"
     },
     "metadata": {},
     "output_type": "display_data"
    }
   ],
   "execution_count": 291
  },
  {
   "metadata": {
    "ExecuteTime": {
     "end_time": "2024-10-05T21:28:16.014897Z",
     "start_time": "2024-10-05T21:28:15.551367Z"
    }
   },
   "cell_type": "code",
   "source": "ma.obtain_alignment('Protein6', 'Protein3').show_dotplot(filtered=True,show_alignment=True)",
   "id": "29888528f479a6df",
   "outputs": [
    {
     "data": {
      "text/plain": [
       "<Figure size 640x480 with 1 Axes>"
      ],
      "image/png": "[encoded data removed]"
     },
     "metadata": {},
     "output_type": "display_data"
    }
   ],
   "execution_count": 35
  },
  {
   "metadata": {},
   "cell_type": "markdown",
   "source": "Ejemplo de como funciona con otras secuencias mas chicas",
   "id": "15e2861c28753560"
  },
  {
   "metadata": {
    "ExecuteTime": {
     "end_time": "2024-10-05T21:28:16.148896Z",
     "start_time": "2024-10-05T21:28:16.074280Z"
    }
   },
   "cell_type": "code",
   "source": [
    "sqs_prot = [('NWKRKCYVWISACSYNEWIC', 'protein_1'),\n",
    "            ('NWKRKCYVWISACSYNEWIC', 'protein_2'),\n",
    "            ('NWKRKCYVWISACSYNEWIC', 'protein_3'),\n",
    "            ('ACGYCYVWISACSYNEWIC', 'protein_4'),\n",
    "            ('ACGIKCYVWISACSYNEWIC', 'protein_5')]\n",
    "sqs_adn = [('TACCCTTCGCGCCTGCGTATTAGATGGCTTGCTGGAGGGGCAGGCTGAGA','seq1'),\n",
    "           ('GTCGCGTTACTTTGTTTAGGGAGTTATACCATTGTTATGTTCTTAACCTT','seq2'),\n",
    "           ('TACCCTTCGCGCCTGCGTATTAGATGGCTTGAGGGAGGGGCAGGCTGAGA','seq3'),\n",
    "           ('GTCGCGTTACTTTGTTTAGGGAGTTATACCATTGTTATGTTCTTAACCTT','seq4'),\n",
    "           ('AAATGCTTTTCGAACCGAAACGCGAAAAACATAGTATCACATTCGTCTGA','seq5')]\n",
    "\n",
    "ma2 = MultipleAlignment(sqs_adn,\"DNA\")"
   ],
   "id": "c758ba9bbc70d2f4",
   "outputs": [],
   "execution_count": 36
  },
  {
   "metadata": {
    "ExecuteTime": {
     "end_time": "2024-10-05T21:28:16.260438Z",
     "start_time": "2024-10-05T21:28:16.156573Z"
    }
   },
   "cell_type": "code",
   "source": "ma2.draw_tree()",
   "id": "ebcd7ab5da88db63",
   "outputs": [
    {
     "data": {
      "text/plain": [
       "<Figure size 640x480 with 1 Axes>"
      ],
      "image/png": "[encoded data removed]"
     },
     "metadata": {},
     "output_type": "display_data"
    }
   ],
   "execution_count": 37
  },
  {
   "metadata": {
    "ExecuteTime": {
     "end_time": "2024-10-05T21:28:16.337278Z",
     "start_time": "2024-10-05T21:28:16.333948Z"
    }
   },
   "cell_type": "code",
   "source": "ma2.show_alignment()",
   "id": "bf60f4b3af9d64c0",
   "outputs": [
    {
     "name": "stdout",
     "output_type": "stream",
     "text": [
      "Secuencias: ('seq1', 'seq3')\n",
      "Alineamiento: T0A1C2C3C4T5T6C7G8C9G10C11C12T13G14C15G16T17A18T19T20A21G22A23T24G25G26C27T28T29G30-G32G33G34-G36G37G38G39C40---C44T45----\n",
      "______________________________\n",
      "Secuencias: ('seq2', 'seq4')\n",
      "Alineamiento: G0T1C2G3C4G5T6T7A8C9T10T11T12G13T14T15T16A17G18G19G20A21G22T23T24A25T26A27C28C29A30T31T32G33T34T35A36T37G38T39T40C41T42T43A44A45C46C47T48T49\n",
      "______________________________\n",
      "Secuencias: ('seq1', 'seq2')\n",
      "Alineamiento: -T1----T6T7A8C9C10C11T12T13T14-T16T17T18------T25T26-T28-C30C31---G35----G40-----------\n",
      "______________________________\n",
      "Secuencias: ('seq1', 'seq5')\n",
      "Alineamiento: ---T3--T6T7T8T9--A12A13C14C15C16----C21-C23------C30-------C38-C40-T42T43C44--C47---\n",
      "______________________________\n"
     ]
    }
   ],
   "execution_count": 38
  },
  {
   "metadata": {
    "ExecuteTime": {
     "end_time": "2024-10-05T21:28:16.734946Z",
     "start_time": "2024-10-05T21:28:16.417169Z"
    }
   },
   "cell_type": "code",
   "source": "ma2.obtain_alignment('seq1', 'seq3').show_dotplot(show_alignment=True, filtered=True)",
   "id": "6b9d5ffa0a00cb85",
   "outputs": [
    {
     "data": {
      "text/plain": [
       "<Figure size 640x480 with 1 Axes>"
      ],
      "image/png": "[encoded data removed]"
     },
     "metadata": {},
     "output_type": "display_data"
    }
   ],
   "execution_count": 39
  },
  {
   "metadata": {},
   "cell_type": "markdown",
   "source": "### Comparación con alineamiento BLAST",
   "id": "f4404b0f745d6703"
  },
  {
   "metadata": {
    "ExecuteTime": {
     "end_time": "2024-10-05T21:28:16.813257Z",
     "start_time": "2024-10-05T21:28:16.755128Z"
    }
   },
   "cell_type": "code",
   "source": [
    "from Bio.Seq import Seq\n",
    "from Bio.SeqRecord import SeqRecord\n",
    "from Bio.Align import MultipleSeqAlignment\n",
    "from Bio.Phylo.TreeConstruction import DistanceCalculator\n",
    "from Bio.Phylo.TreeConstruction import DistanceTreeConstructor\n",
    "\n",
    "# Convertir las secuencias en objetos SeqRecord\n",
    "seq_records = [SeqRecord(seq[0], id=seq[1]) for seq in sequences]\n",
    "\n",
    "# Crear un objeto MultipleSeqAlignment con las secuencias\n",
    "alignment = MultipleSeqAlignment(seq_records)\n",
    "\n",
    "# Calcular la matriz de distancias con el calculador de identidad\n",
    "calculator = DistanceCalculator('identity')\n",
    "distMatrix = calculator.get_distance(alignment)\n"
   ],
   "id": "ed0fe92795d33c07",
   "outputs": [
    {
     "name": "stderr",
     "output_type": "stream",
     "text": [
      "/Users/agustincarmusciano/Desktop/Bioinformatica/bioinformatics/lib/python3.11/site-packages/Bio/SeqRecord.py:228: BiopythonDeprecationWarning: Using a string as the sequence is deprecated and will raise a TypeError in future. It has been converted to a Seq object.\n",
      "  warnings.warn(\n"
     ]
    }
   ],
   "execution_count": 40
  },
  {
   "metadata": {
    "ExecuteTime": {
     "end_time": "2024-10-05T21:28:16.862722Z",
     "start_time": "2024-10-05T21:28:16.858332Z"
    }
   },
   "cell_type": "code",
   "source": "print(distMatrix)",
   "id": "100fa15d7405d99b",
   "outputs": [
    {
     "name": "stdout",
     "output_type": "stream",
     "text": [
      "Protein1    0.000000\n",
      "Protein2    0.041667    0.000000\n",
      "Protein3    0.791667    0.833333    0.000000\n",
      "Protein4    0.875000    0.875000    0.916667    0.000000\n",
      "Protein5    0.875000    0.875000    0.875000    0.208333    0.000000\n",
      "Protein6    0.791667    0.833333    0.000000    0.916667    0.875000    0.000000\n",
      "Protein7    0.833333    0.833333    0.875000    0.791667    0.833333    0.875000    0.000000\n",
      "Protein8    0.833333    0.833333    0.875000    0.791667    0.833333    0.875000    0.000000    0.000000\n",
      "Protein9    0.916667    0.916667    0.916667    0.875000    0.875000    0.916667    0.833333    0.833333    0.000000\n",
      "Protein10   0.791667    0.833333    0.791667    0.791667    0.833333    0.791667    0.333333    0.333333    0.916667    0.000000\n",
      "    Protein1    Protein2    Protein3    Protein4    Protein5    Protein6    Protein7    Protein8    Protein9    Protein10\n"
     ]
    }
   ],
   "execution_count": 41
  },
  {
   "metadata": {
    "ExecuteTime": {
     "end_time": "2024-10-05T21:28:16.945105Z",
     "start_time": "2024-10-05T21:28:16.940560Z"
    }
   },
   "cell_type": "code",
   "source": [
    "constructor = DistanceTreeConstructor()\n",
    "UPGMATree = constructor.upgma(distMatrix)"
   ],
   "id": "f92b5d307901ab5",
   "outputs": [],
   "execution_count": 42
  },
  {
   "metadata": {
    "ExecuteTime": {
     "end_time": "2024-10-05T21:28:17.038410Z",
     "start_time": "2024-10-05T21:28:17.035448Z"
    }
   },
   "cell_type": "code",
   "source": "print(UPGMATree)",
   "id": "b87a5e8644fa7bd5",
   "outputs": [
    {
     "name": "stdout",
     "output_type": "stream",
     "text": [
      "Tree(rooted=True)\n",
      "    Clade(branch_length=0, name='Inner9')\n",
      "        Clade(branch_length=0.44791666666666663, name='Protein9')\n",
      "        Clade(branch_length=0.28124999999999994, name='Inner8')\n",
      "            Clade(branch_length=0.26171874999999994, name='Inner6')\n",
      "                Clade(branch_length=0.23958333333333331, name='Inner5')\n",
      "                    Clade(branch_length=0.16666666666666669, name='Protein10')\n",
      "                    Clade(branch_length=0.16666666666666669, name='Inner1')\n",
      "                        Clade(branch_length=0.0, name='Protein8')\n",
      "                        Clade(branch_length=0.0, name='Protein7')\n",
      "                Clade(branch_length=0.3020833333333333, name='Inner4')\n",
      "                    Clade(branch_length=0.10416666666666669, name='Protein5')\n",
      "                    Clade(branch_length=0.10416666666666669, name='Protein4')\n",
      "            Clade(branch_length=0.4075520833333333, name='Inner7')\n",
      "                Clade(branch_length=0.40625, name='Inner2')\n",
      "                    Clade(branch_length=0.0, name='Protein6')\n",
      "                    Clade(branch_length=0.0, name='Protein3')\n",
      "                Clade(branch_length=0.3854166666666667, name='Inner3')\n",
      "                    Clade(branch_length=0.020833333333333315, name='Protein2')\n",
      "                    Clade(branch_length=0.020833333333333315, name='Protein1')\n"
     ]
    }
   ],
   "execution_count": 43
  },
  {
   "metadata": {
    "ExecuteTime": {
     "end_time": "2024-10-05T21:28:17.367954Z",
     "start_time": "2024-10-05T21:28:17.098238Z"
    }
   },
   "cell_type": "code",
   "source": "Phylo.draw(UPGMATree)",
   "id": "e9109b98570a2b2",
   "outputs": [
    {
     "data": {
      "text/plain": [
       "<Figure size 640x480 with 1 Axes>"
      ],
      "image/png": "[encoded data removed]"
     },
     "metadata": {},
     "output_type": "display_data"
    }
   ],
   "execution_count": 44
  }
 ],
 "metadata": {
  "kernelspec": {
   "display_name": "Python 3 (ipykernel)",
   "language": "python",
   "name": "python3"
  },
  "language_info": {
   "codemirror_mode": {
    "name": "ipython",
    "version": 3
   },
   "file_extension": ".py",
   "mimetype": "text/x-python",
   "name": "python",
   "nbconvert_exporter": "python",
   "pygments_lexer": "ipython3",
   "version": "3.11.5"
  }
 },
 "nbformat": 4,
 "nbformat_minor": 5
}

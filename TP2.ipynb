{
 "cells": [
  {
   "metadata": {},
   "cell_type": "markdown",
   "source": "# Alineamientos",
   "id": "5164934a1b836891"
  },
  {
   "metadata": {},
   "cell_type": "markdown",
   "source": [
    "Funcion para crear el dotplot.\n",
    "(DUDA: EN EL GRAFICO DE LA CLASE SE VEÍA DIFERENTE CON UN EJEMPLO... CONSULTAR)"
   ],
   "id": "4260fc51c9eecdc8"
  },
  {
   "metadata": {
    "ExecuteTime": {
     "end_time": "2024-09-05T17:26:11.539573Z",
     "start_time": "2024-09-05T17:26:11.423303Z"
    }
   },
   "cell_type": "code",
   "source": [
    "import numpy as np\n",
    "\n",
    "def make_dotplot(seq1,seq2):\n",
    "    dotplot = np.zeros((len(seq1),len(seq2)))\n",
    "    for i in range(len(seq1)):\n",
    "        for j in range(len(seq2)):\n",
    "            if seq1[i]==seq2[j]:\n",
    "                dotplot[i,j]=1\n",
    "    return dotplot"
   ],
   "id": "1c42274f83f618fa",
   "outputs": [],
   "execution_count": 1
  },
  {
   "metadata": {},
   "cell_type": "markdown",
   "source": "Funcion para encontrar el mejor alineamiento posible... (una especie de greedy, hecho rapido, tiene muchos 'huecos')",
   "id": "30caf7ccce3b6c76"
  },
  {
   "metadata": {
    "ExecuteTime": {
     "end_time": "2024-09-05T17:26:11.544815Z",
     "start_time": "2024-09-05T17:26:11.540976Z"
    }
   },
   "cell_type": "code",
   "source": [
    "def obtain_best_alignment(dotplot):\n",
    "    complete = False\n",
    "    alignment_list = []\n",
    "    i = 0\n",
    "    j = 0\n",
    "    while not complete:\n",
    "        if i >= len(dotplot) or j >= len(dotplot[0]):\n",
    "            complete = True\n",
    "        else:\n",
    "            alignment_list.append([i, j])\n",
    "            if i + 1 < len(dotplot) and j + 1 < len(dotplot[0]) and dotplot[i + 1, j + 1] == 1:\n",
    "                i += 1\n",
    "                j += 1\n",
    "            else:\n",
    "                j += 1\n",
    "    return alignment_list\n"
   ],
   "id": "8696e5618e2d42a5",
   "outputs": [],
   "execution_count": 2
  },
  {
   "metadata": {},
   "cell_type": "markdown",
   "source": "Traduccion de la lista de alineamientos a una sintaxis mas amigable",
   "id": "90474434bdf84160"
  },
  {
   "metadata": {
    "ExecuteTime": {
     "end_time": "2024-09-05T17:28:00.445838Z",
     "start_time": "2024-09-05T17:28:00.442752Z"
    }
   },
   "cell_type": "code",
   "source": [
    "def traduce_alignment(alignment_list, seq1, seq2):\n",
    "    traduced_seq = ''\n",
    "    for i in range(len(alignment_list)):\n",
    "        if seq1[alignment_list[i][0]] == seq2[alignment_list[i][1]]:\n",
    "                traduced_seq += f\"{seq1[alignment_list[i][0]]}{i}\"\n",
    "        else:\n",
    "            # traduced_seq += f\"{seq1[alignment_list[i-1][0]]}\"\n",
    "            # Si se prefiere un guion en vez de repetir la ultima base:\n",
    "            traduced_seq += \"-\"\n",
    "    return traduced_seq\n",
    "    "
   ],
   "id": "d80aad19aefc5939",
   "outputs": [],
   "execution_count": 9
  },
  {
   "metadata": {},
   "cell_type": "markdown",
   "source": "Funcion de alineamiento de secuencias",
   "id": "be67f6e255db9347"
  },
  {
   "cell_type": "code",
   "id": "initial_id",
   "metadata": {
    "collapsed": true,
    "ExecuteTime": {
     "end_time": "2024-09-05T17:28:01.321639Z",
     "start_time": "2024-09-05T17:28:01.318189Z"
    }
   },
   "source": [
    "def alignment(seq1, seq2):\n",
    "    dotplot = make_dotplot(seq1,seq2)\n",
    "    best_alignment = obtain_best_alignment(dotplot)\n",
    "    traduced_alignment = traduce_alignment(best_alignment, seq1, seq2)\n",
    "    return traduced_alignment\n",
    "\n",
    "seq1 = 'TACG'\n",
    "seq2 = 'TATCG'\n",
    "align = alignment(seq1, seq2)\n",
    "\n",
    "print(align)"
   ],
   "outputs": [
    {
     "name": "stdout",
     "output_type": "stream",
     "text": [
      "T0A1-C3G4\n"
     ]
    }
   ],
   "execution_count": 10
  },
  {
   "metadata": {},
   "cell_type": "markdown",
   "source": "Función de alineamiento de biopython",
   "id": "afae144035c2c6e1"
  },
  {
   "metadata": {
    "ExecuteTime": {
     "end_time": "2024-09-05T17:28:21.889585Z",
     "start_time": "2024-09-05T17:28:21.885929Z"
    }
   },
   "cell_type": "code",
   "source": [
    "from Bio import pairwise2\n",
    "\n",
    "# Realizar el alineamiento\n",
    "alignments = pairwise2.align.globalxx(seq1, seq2)\n",
    "\n",
    "# Imprimir los alineamientos\n",
    "for alignment in alignments:\n",
    "    print(pairwise2.format_alignment(*alignment))"
   ],
   "id": "1c42401d88b67adc",
   "outputs": [
    {
     "name": "stdout",
     "output_type": "stream",
     "text": [
      "TA-CG\n",
      "|| ||\n",
      "TATCG\n",
      "  Score=4\n",
      "\n"
     ]
    }
   ],
   "execution_count": 11
  },
  {
   "metadata": {
    "ExecuteTime": {
     "end_time": "2024-09-05T17:26:11.610443Z",
     "start_time": "2024-09-05T17:26:11.608547Z"
    }
   },
   "cell_type": "code",
   "source": "",
   "id": "66a029887e7dc76b",
   "outputs": [],
   "execution_count": 5
  }
 ],
 "metadata": {
  "kernelspec": {
   "display_name": "Python 3",
   "language": "python",
   "name": "python3"
  },
  "language_info": {
   "codemirror_mode": {
    "name": "ipython",
    "version": 2
   },
   "file_extension": ".py",
   "mimetype": "text/x-python",
   "name": "python",
   "nbconvert_exporter": "python",
   "pygments_lexer": "ipython2",
   "version": "2.7.6"
  }
 },
 "nbformat": 4,
 "nbformat_minor": 5
}

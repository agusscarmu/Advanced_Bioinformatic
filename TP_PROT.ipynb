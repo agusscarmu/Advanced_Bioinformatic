{
 "cells": [
  {
   "cell_type": "code",
   "id": "initial_id",
   "metadata": {
    "collapsed": true,
    "ExecuteTime": {
     "end_time": "2024-10-20T22:19:34.528004Z",
     "start_time": "2024-10-20T22:19:34.340275Z"
    }
   },
   "source": [
    "from Bio.PDB.MMCIFParser import MMCIFParser\n",
    "\n",
    "parser = MMCIFParser()\n",
    "structure = parser.get_structure('5WGB', './PROT/5WGB.cif')"
   ],
   "outputs": [
    {
     "name": "stderr",
     "output_type": "stream",
     "text": [
      "/home/agustin/.local/lib/python3.10/site-packages/Bio/PDB/StructureBuilder.py:100: PDBConstructionWarning: WARNING: Chain A is discontinuous at line 3198.\n",
      "  warnings.warn(\n",
      "/home/agustin/.local/lib/python3.10/site-packages/Bio/PDB/StructureBuilder.py:100: PDBConstructionWarning: WARNING: Chain C is discontinuous at line 3213.\n",
      "  warnings.warn(\n"
     ]
    }
   ],
   "execution_count": 7
  },
  {
   "metadata": {},
   "cell_type": "markdown",
   "source": "",
   "id": "75b408d5b403c1c8"
  },
  {
   "metadata": {},
   "cell_type": "markdown",
   "source": [
    "(\"estructura\", Modelo, \"cadena\", (residuo))\n",
    "Estructura es un String con: structure_id\n",
    "Modelo es un entero empezando en 0\n",
    "Cadena, las cadenas A, B, C etc\n"
   ],
   "id": "34ea3587c0894624"
  },
  {
   "metadata": {
    "ExecuteTime": {
     "end_time": "2024-10-20T22:20:24.880860Z",
     "start_time": "2024-10-20T22:20:24.878359Z"
    }
   },
   "cell_type": "code",
   "source": [
    "model = structure[0]\n",
    "chain = model['A']\n",
    "residue = chain[100]"
   ],
   "id": "7e3ee2593ac96af6",
   "outputs": [],
   "execution_count": 10
  },
  {
   "metadata": {},
   "cell_type": "markdown",
   "source": [
    "```\n",
    "residue.get_resname()    # returns the residue name, e.g. \"ASN\"\n",
    "residue.is_disordered()  # returns 1 if the residue has disordered atoms\n",
    "residue.get_segid()      # returns the SEGID, e.g. \"CHN1\"\n",
    "```\n"
   ],
   "id": "f3f54c24ba6f77fa"
  },
  {
   "metadata": {
    "ExecuteTime": {
     "end_time": "2024-10-20T22:20:34.880651Z",
     "start_time": "2024-10-20T22:20:34.874168Z"
    }
   },
   "cell_type": "code",
   "source": "residue.get_resname()",
   "id": "da68a3c62535a70",
   "outputs": [
    {
     "data": {
      "text/plain": [
       "'GLU'"
      ]
     },
     "execution_count": 11,
     "metadata": {},
     "output_type": "execute_result"
    }
   ],
   "execution_count": 11
  },
  {
   "metadata": {},
   "cell_type": "code",
   "outputs": [],
   "execution_count": null,
   "source": "",
   "id": "79ebc3e85f882d2a"
  }
 ],
 "metadata": {
  "kernelspec": {
   "display_name": "Python 3",
   "language": "python",
   "name": "python3"
  },
  "language_info": {
   "codemirror_mode": {
    "name": "ipython",
    "version": 2
   },
   "file_extension": ".py",
   "mimetype": "text/x-python",
   "name": "python",
   "nbconvert_exporter": "python",
   "pygments_lexer": "ipython2",
   "version": "2.7.6"
  }
 },
 "nbformat": 4,
 "nbformat_minor": 5
}

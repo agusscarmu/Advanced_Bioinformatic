{
 "cells": [
  {
   "cell_type": "code",
   "id": "initial_id",
   "metadata": {
    "ExecuteTime": {
     "end_time": "2024-10-28T18:49:06.091377Z",
     "start_time": "2024-10-28T18:49:05.626464Z"
    }
   },
   "source": [
    "import matplotlib.pyplot as plt\n",
    "from Bio.PDB.MMCIFParser import MMCIFParser\n",
    "\n",
    "parser = MMCIFParser()\n",
    "structure = parser.get_structure('2dn1', 'PROT/2dn1-assembly1.cif')"
   ],
   "outputs": [
    {
     "name": "stderr",
     "output_type": "stream",
     "text": [
      "/home/agustin/.local/lib/python3.10/site-packages/Bio/PDB/StructureBuilder.py:100: PDBConstructionWarning: WARNING: Chain A is discontinuous at line 4344.\n",
      "  warnings.warn(\n",
      "/home/agustin/.local/lib/python3.10/site-packages/Bio/PDB/StructureBuilder.py:100: PDBConstructionWarning: WARNING: Chain B is discontinuous at line 4403.\n",
      "  warnings.warn(\n",
      "/home/agustin/.local/lib/python3.10/site-packages/Bio/PDB/StructureBuilder.py:100: PDBConstructionWarning: WARNING: Chain A-2 is discontinuous at line 4448.\n",
      "  warnings.warn(\n",
      "/home/agustin/.local/lib/python3.10/site-packages/Bio/PDB/StructureBuilder.py:100: PDBConstructionWarning: WARNING: Chain B-2 is discontinuous at line 4507.\n",
      "  warnings.warn(\n",
      "/home/agustin/.local/lib/python3.10/site-packages/Bio/PDB/StructureBuilder.py:100: PDBConstructionWarning: WARNING: Chain A is discontinuous at line 4552.\n",
      "  warnings.warn(\n",
      "/home/agustin/.local/lib/python3.10/site-packages/Bio/PDB/StructureBuilder.py:100: PDBConstructionWarning: WARNING: Chain B is discontinuous at line 4690.\n",
      "  warnings.warn(\n",
      "/home/agustin/.local/lib/python3.10/site-packages/Bio/PDB/StructureBuilder.py:100: PDBConstructionWarning: WARNING: Chain A-2 is discontinuous at line 4782.\n",
      "  warnings.warn(\n",
      "/home/agustin/.local/lib/python3.10/site-packages/Bio/PDB/StructureBuilder.py:100: PDBConstructionWarning: WARNING: Chain B-2 is discontinuous at line 4920.\n",
      "  warnings.warn(\n"
     ]
    }
   ],
   "execution_count": 1
  },
  {
   "cell_type": "markdown",
   "id": "75b408d5b403c1c8",
   "metadata": {},
   "source": []
  },
  {
   "cell_type": "markdown",
   "id": "9894a525fe19b57a",
   "metadata": {},
   "source": [
    "### Proteina"
   ]
  },
  {
   "cell_type": "markdown",
   "id": "34ea3587c0894624",
   "metadata": {},
   "source": [
    "(\"estructura\", Modelo, \"cadena\", (residuo))\n",
    "Estructura es un String con: structure_id\n",
    "Modelo es un entero empezando en 0\n",
    "Cadena, las cadenas A, B, C etc\n"
   ]
  },
  {
   "cell_type": "code",
   "id": "7e3ee2593ac96af6",
   "metadata": {
    "ExecuteTime": {
     "end_time": "2024-10-28T18:49:06.095282Z",
     "start_time": "2024-10-28T18:49:06.092548Z"
    }
   },
   "source": [
    "model = structure[0]\n",
    "chain = model['A']\n",
    "residue = chain[100]"
   ],
   "outputs": [],
   "execution_count": 2
  },
  {
   "cell_type": "markdown",
   "id": "f3f54c24ba6f77fa",
   "metadata": {},
   "source": [
    "```\n",
    "residue.get_resname()    # returns the residue name, e.g. \"ASN\"\n",
    "residue.is_disordered()  # returns 1 if the residue has disordered atoms\n",
    "residue.get_segid()      # returns the SEGID, e.g. \"CHN1\"\n",
    "```\n"
   ]
  },
  {
   "cell_type": "code",
   "id": "da68a3c62535a70",
   "metadata": {
    "ExecuteTime": {
     "end_time": "2024-10-28T18:49:07.105673Z",
     "start_time": "2024-10-28T18:49:07.100126Z"
    }
   },
   "source": [
    "residue.get_resname()"
   ],
   "outputs": [
    {
     "data": {
      "text/plain": [
       "'LEU'"
      ]
     },
     "execution_count": 3,
     "metadata": {},
     "output_type": "execute_result"
    }
   ],
   "execution_count": 3
  },
  {
   "cell_type": "markdown",
   "id": "b4ec9166bc7db586",
   "metadata": {},
   "source": [
    "### Atomo\n"
   ]
  },
  {
   "cell_type": "code",
   "id": "79ebc3e85f882d2a",
   "metadata": {
    "ExecuteTime": {
     "end_time": "2024-10-28T18:49:07.696485Z",
     "start_time": "2024-10-28T18:49:07.693476Z"
    }
   },
   "source": [
    "atom = structure[0][\"A\"][100][\"CA\"]\n",
    "print(atom.full_id)"
   ],
   "outputs": [
    {
     "name": "stdout",
     "output_type": "stream",
     "text": [
      "('2dn1', 0, 'A', (' ', 100, ' '), ('CA', ' '))\n"
     ]
    }
   ],
   "execution_count": 4
  },
  {
   "cell_type": "code",
   "id": "addbb4373ee1687f",
   "metadata": {
    "ExecuteTime": {
     "end_time": "2024-10-28T18:49:07.970287Z",
     "start_time": "2024-10-28T18:49:07.965806Z"
    }
   },
   "source": [
    "def atom_info(a):\n",
    "     print(f\"Name:  {a.get_name()}\")  # atom name (spaces stripped, e.g. \"CA\")\n",
    "     print(f\"ID:    {a.get_id()}\")  # id (equals atom name)\n",
    "     print(f\"Coordinates:   {a.get_coord()}\")  # atomic coordinates\n",
    "     print(f\"Coordinates as vector: {a.get_vector()}\")  # atomic coordinates as Vector object\n",
    "     print(f\"Isotropic B Factor:    {a.get_bfactor()}\")  # isotropic B factor\n",
    "     print(f\"Occupancy: {a.get_occupancy()}\")  # occupancy\n",
    "     print(f\"Alternative location:  {a.get_altloc()}\")  # alternative location specifier\n",
    "     print(f\"Std deviation of atomic parameters:    {a.get_sigatm()}\")  # standard deviation of atomic parameters\n",
    "     print(f\"Std deviation of anisotropic B factor: {a.get_siguij()}\")  # standard deviation of anisotropic B factor\n",
    "     print(f\"Anisotropic B factor:  {a.get_anisou()}\")  # anisotropic B factor\n",
    "     print(f\"Atom full name:    {a.get_fullname()}\")  # atom name (with spaces, e.g. \".CA.\")\n",
    "     \n",
    "atom_info(atom)"
   ],
   "outputs": [
    {
     "name": "stdout",
     "output_type": "stream",
     "text": [
      "Name:  CA\n",
      "ID:    CA\n",
      "Coordinates:   [29.126 28.904 10.83 ]\n",
      "Coordinates as vector: <Vector 29.13, 28.90, 10.83>\n",
      "Isotropic B Factor:    12.76\n",
      "Occupancy: 1.0\n",
      "Alternative location:   \n",
      "Std deviation of atomic parameters:    None\n",
      "Std deviation of anisotropic B factor: None\n",
      "Anisotropic B factor:  [ 0.161  -0.0323  0.0212  0.1332 -0.0115  0.1907]\n",
      "Atom full name:    CA\n"
     ]
    }
   ],
   "execution_count": 5
  },
  {
   "cell_type": "markdown",
   "id": "a3e88c6d4046ba80",
   "metadata": {},
   "source": [
    "### Recorriendo estructura"
   ]
  },
  {
   "cell_type": "code",
   "id": "f71d67fba4f91965",
   "metadata": {
    "ExecuteTime": {
     "end_time": "2024-10-28T18:49:09.018263Z",
     "start_time": "2024-10-28T18:49:08.634365Z"
    }
   },
   "source": [
    "import pandas as pd\n",
    "\n",
    "complete_structure = []\n",
    "\n",
    "chains = structure.get_chains()\n",
    "for chain in chains:\n",
    "    residues = chain.get_residues()\n",
    "    for residue in residues:\n",
    "        atoms = residue.get_atoms()\n",
    "        for atom in atoms:\n",
    "            complete_structure.append([chain, residue, atom])\n",
    "columns = [\"chain\", \"residue\", \"atom\"]\n",
    "df_structure = pd.DataFrame(complete_structure, columns=columns)\n",
    "\n",
    "df_structure.head()\n"
   ],
   "outputs": [
    {
     "data": {
      "text/plain": [
       "                                               chain  \\\n",
       "0  ((<Atom N>, <Atom CA>, <Atom C>, <Atom O>, <At...   \n",
       "1  ((<Atom N>, <Atom CA>, <Atom C>, <Atom O>, <At...   \n",
       "2  ((<Atom N>, <Atom CA>, <Atom C>, <Atom O>, <At...   \n",
       "3  ((<Atom N>, <Atom CA>, <Atom C>, <Atom O>, <At...   \n",
       "4  ((<Atom N>, <Atom CA>, <Atom C>, <Atom O>, <At...   \n",
       "\n",
       "                                             residue       atom  \n",
       "0  (<Atom N>, <Atom CA>, <Atom C>, <Atom O>, <Ato...   <Atom N>  \n",
       "1  (<Atom N>, <Atom CA>, <Atom C>, <Atom O>, <Ato...  <Atom CA>  \n",
       "2  (<Atom N>, <Atom CA>, <Atom C>, <Atom O>, <Ato...   <Atom C>  \n",
       "3  (<Atom N>, <Atom CA>, <Atom C>, <Atom O>, <Ato...   <Atom O>  \n",
       "4  (<Atom N>, <Atom CA>, <Atom C>, <Atom O>, <Ato...  <Atom CB>  "
      ],
      "text/html": [
       "<div>\n",
       "<style scoped>\n",
       "    .dataframe tbody tr th:only-of-type {\n",
       "        vertical-align: middle;\n",
       "    }\n",
       "\n",
       "    .dataframe tbody tr th {\n",
       "        vertical-align: top;\n",
       "    }\n",
       "\n",
       "    .dataframe thead th {\n",
       "        text-align: right;\n",
       "    }\n",
       "</style>\n",
       "<table border=\"1\" class=\"dataframe\">\n",
       "  <thead>\n",
       "    <tr style=\"text-align: right;\">\n",
       "      <th></th>\n",
       "      <th>chain</th>\n",
       "      <th>residue</th>\n",
       "      <th>atom</th>\n",
       "    </tr>\n",
       "  </thead>\n",
       "  <tbody>\n",
       "    <tr>\n",
       "      <th>0</th>\n",
       "      <td>((&lt;Atom N&gt;, &lt;Atom CA&gt;, &lt;Atom C&gt;, &lt;Atom O&gt;, &lt;At...</td>\n",
       "      <td>(&lt;Atom N&gt;, &lt;Atom CA&gt;, &lt;Atom C&gt;, &lt;Atom O&gt;, &lt;Ato...</td>\n",
       "      <td>&lt;Atom N&gt;</td>\n",
       "    </tr>\n",
       "    <tr>\n",
       "      <th>1</th>\n",
       "      <td>((&lt;Atom N&gt;, &lt;Atom CA&gt;, &lt;Atom C&gt;, &lt;Atom O&gt;, &lt;At...</td>\n",
       "      <td>(&lt;Atom N&gt;, &lt;Atom CA&gt;, &lt;Atom C&gt;, &lt;Atom O&gt;, &lt;Ato...</td>\n",
       "      <td>&lt;Atom CA&gt;</td>\n",
       "    </tr>\n",
       "    <tr>\n",
       "      <th>2</th>\n",
       "      <td>((&lt;Atom N&gt;, &lt;Atom CA&gt;, &lt;Atom C&gt;, &lt;Atom O&gt;, &lt;At...</td>\n",
       "      <td>(&lt;Atom N&gt;, &lt;Atom CA&gt;, &lt;Atom C&gt;, &lt;Atom O&gt;, &lt;Ato...</td>\n",
       "      <td>&lt;Atom C&gt;</td>\n",
       "    </tr>\n",
       "    <tr>\n",
       "      <th>3</th>\n",
       "      <td>((&lt;Atom N&gt;, &lt;Atom CA&gt;, &lt;Atom C&gt;, &lt;Atom O&gt;, &lt;At...</td>\n",
       "      <td>(&lt;Atom N&gt;, &lt;Atom CA&gt;, &lt;Atom C&gt;, &lt;Atom O&gt;, &lt;Ato...</td>\n",
       "      <td>&lt;Atom O&gt;</td>\n",
       "    </tr>\n",
       "    <tr>\n",
       "      <th>4</th>\n",
       "      <td>((&lt;Atom N&gt;, &lt;Atom CA&gt;, &lt;Atom C&gt;, &lt;Atom O&gt;, &lt;At...</td>\n",
       "      <td>(&lt;Atom N&gt;, &lt;Atom CA&gt;, &lt;Atom C&gt;, &lt;Atom O&gt;, &lt;Ato...</td>\n",
       "      <td>&lt;Atom CB&gt;</td>\n",
       "    </tr>\n",
       "  </tbody>\n",
       "</table>\n",
       "</div>"
      ]
     },
     "execution_count": 6,
     "metadata": {},
     "output_type": "execute_result"
    }
   ],
   "execution_count": 6
  },
  {
   "cell_type": "markdown",
   "id": "237e82c3276e84cf",
   "metadata": {},
   "source": [
    "### Visualización"
   ]
  },
  {
   "cell_type": "code",
   "id": "750603649c0869ee",
   "metadata": {
    "ExecuteTime": {
     "end_time": "2024-10-28T18:49:09.576875Z",
     "start_time": "2024-10-28T18:49:09.570077Z"
    }
   },
   "source": [
    "import py3Dmol"
   ],
   "outputs": [],
   "execution_count": 7
  },
  {
   "cell_type": "code",
   "id": "a70aba8efb46b6d5",
   "metadata": {
    "ExecuteTime": {
     "end_time": "2024-10-28T18:49:10.331097Z",
     "start_time": "2024-10-28T18:49:10.326501Z"
    }
   },
   "source": [
    "#Codigo de PDB que queremos visualizar\n",
    "pdb='2dn1'\n",
    "view=py3Dmol.view(query=f'pdb:{pdb}')\n",
    "#Zoom a la estructura\n",
    "view.zoomTo()\n",
    "#Color de fondo\n",
    "view.setBackgroundColor('white')\n",
    "#Visualizamos la cadena A con el stylo de Cartoon en un color determinado\n",
    "view.setStyle({'chain':'A'},{'cartoon': {'color':'purple'}})\n",
    "view.setStyle({'chain':'B'},{'stick': {'color':'yellow'}})\n",
    "view.setStyle({'chain':'C'},{'cartoon': {'color':'blue'}})\n",
    "#Inicializamos el visualizador\n",
    "view.show()"
   ],
   "outputs": [
    {
     "data": {
      "application/3dmoljs_load.v0": "<div id=\"3dmolviewer_173014135032866\"  style=\"position: relative; width: 640px; height: 480px;\">\n        <p id=\"3dmolwarning_173014135032866\" style=\"background-color:#ffcccc;color:black\">3Dmol.js failed to load for some reason.  Please check your browser console for error messages.<br></p>\n        </div>\n<script>\n\nvar loadScriptAsync = function(uri){\n  return new Promise((resolve, reject) => {\n    //this is to ignore the existence of requirejs amd\n    var savedexports, savedmodule;\n    if (typeof exports !== 'undefined') savedexports = exports;\n    else exports = {}\n    if (typeof module !== 'undefined') savedmodule = module;\n    else module = {}\n\n    var tag = document.createElement('script');\n    tag.src = uri;\n    tag.async = true;\n    tag.onload = () => {\n        exports = savedexports;\n        module = savedmodule;\n        resolve();\n    };\n  var firstScriptTag = document.getElementsByTagName('script')[0];\n  firstScriptTag.parentNode.insertBefore(tag, firstScriptTag);\n});\n};\n\nif(typeof $3Dmolpromise === 'undefined') {\n$3Dmolpromise = null;\n  $3Dmolpromise = loadScriptAsync('https://cdnjs.cloudflare.com/ajax/libs/3Dmol/2.4.0/3Dmol-min.js');\n}\n\nvar viewer_173014135032866 = null;\nvar warn = document.getElementById(\"3dmolwarning_173014135032866\");\nif(warn) {\n    warn.parentNode.removeChild(warn);\n}\n$3Dmolpromise.then(function() {\nviewer_173014135032866 = $3Dmol.createViewer(document.getElementById(\"3dmolviewer_173014135032866\"),{backgroundColor:\"white\"});\n$3Dmol.download(\"pdb:2dn1\", viewer_173014135032866, {}, function() {\nviewer_173014135032866.zoomTo();\n\tviewer_173014135032866.zoomTo();\n\tviewer_173014135032866.setBackgroundColor(\"white\");\n\tviewer_173014135032866.setStyle({\"chain\": \"A\"},{\"cartoon\": {\"color\": \"purple\"}});\n\tviewer_173014135032866.setStyle({\"chain\": \"B\"},{\"stick\": {\"color\": \"yellow\"}});\n\tviewer_173014135032866.setStyle({\"chain\": \"C\"},{\"cartoon\": {\"color\": \"blue\"}});\nviewer_173014135032866.render();\n})\n});\n</script>",
      "text/html": [
       "<div id=\"3dmolviewer_173014135032866\"  style=\"position: relative; width: 640px; height: 480px;\">\n",
       "        <p id=\"3dmolwarning_173014135032866\" style=\"background-color:#ffcccc;color:black\">3Dmol.js failed to load for some reason.  Please check your browser console for error messages.<br></p>\n",
       "        </div>\n",
       "<script>\n",
       "\n",
       "var loadScriptAsync = function(uri){\n",
       "  return new Promise((resolve, reject) => {\n",
       "    //this is to ignore the existence of requirejs amd\n",
       "    var savedexports, savedmodule;\n",
       "    if (typeof exports !== 'undefined') savedexports = exports;\n",
       "    else exports = {}\n",
       "    if (typeof module !== 'undefined') savedmodule = module;\n",
       "    else module = {}\n",
       "\n",
       "    var tag = document.createElement('script');\n",
       "    tag.src = uri;\n",
       "    tag.async = true;\n",
       "    tag.onload = () => {\n",
       "        exports = savedexports;\n",
       "        module = savedmodule;\n",
       "        resolve();\n",
       "    };\n",
       "  var firstScriptTag = document.getElementsByTagName('script')[0];\n",
       "  firstScriptTag.parentNode.insertBefore(tag, firstScriptTag);\n",
       "});\n",
       "};\n",
       "\n",
       "if(typeof $3Dmolpromise === 'undefined') {\n",
       "$3Dmolpromise = null;\n",
       "  $3Dmolpromise = loadScriptAsync('https://cdnjs.cloudflare.com/ajax/libs/3Dmol/2.4.0/3Dmol-min.js');\n",
       "}\n",
       "\n",
       "var viewer_173014135032866 = null;\n",
       "var warn = document.getElementById(\"3dmolwarning_173014135032866\");\n",
       "if(warn) {\n",
       "    warn.parentNode.removeChild(warn);\n",
       "}\n",
       "$3Dmolpromise.then(function() {\n",
       "viewer_173014135032866 = $3Dmol.createViewer(document.getElementById(\"3dmolviewer_173014135032866\"),{backgroundColor:\"white\"});\n",
       "$3Dmol.download(\"pdb:2dn1\", viewer_173014135032866, {}, function() {\n",
       "viewer_173014135032866.zoomTo();\n",
       "\tviewer_173014135032866.zoomTo();\n",
       "\tviewer_173014135032866.setBackgroundColor(\"white\");\n",
       "\tviewer_173014135032866.setStyle({\"chain\": \"A\"},{\"cartoon\": {\"color\": \"purple\"}});\n",
       "\tviewer_173014135032866.setStyle({\"chain\": \"B\"},{\"stick\": {\"color\": \"yellow\"}});\n",
       "\tviewer_173014135032866.setStyle({\"chain\": \"C\"},{\"cartoon\": {\"color\": \"blue\"}});\n",
       "viewer_173014135032866.render();\n",
       "})\n",
       "});\n",
       "</script>"
      ]
     },
     "metadata": {},
     "output_type": "display_data"
    }
   ],
   "execution_count": 8
  },
  {
   "cell_type": "markdown",
   "id": "51fc8de8-e5c7-4e2a-8250-fa993a04ee62",
   "metadata": {},
   "source": [
    "### Visualización específica"
   ]
  },
  {
   "cell_type": "code",
   "id": "1e58d7c5-4f3e-497a-83ae-d01d5774e679",
   "metadata": {
    "ExecuteTime": {
     "end_time": "2024-10-28T18:49:12.888472Z",
     "start_time": "2024-10-28T18:49:12.882733Z"
    }
   },
   "source": [
    "residuo = 1\n",
    "aminoacido = 'ALA'\n",
    "elem = 'Fe'\n",
    "\n",
    "view.clear()\n",
    "view=py3Dmol.view(query=f'pdb:{pdb}')\n",
    "#Zoom a la estructura\n",
    "view.zoomTo()\n",
    "#Color de fondo\n",
    "view.setBackgroundColor('white')\n",
    "# Para ver una posicion especifica vamos con el comando RESI\n",
    "view.addStyle({'chain':'A','resi':f\"{residuo}\"},{'stick':{'colorscheme':'purple'}})\n",
    "\n",
    "# Para ver todos los aminoacidos Alanina  vamos con el comando RESN\n",
    "view.addStyle({'chain':'B','resn':aminoacido},{'sphere':{'colorscheme':'greenCarbon'}})\n",
    "\n",
    "# Para ver un Atomo especifico\n",
    "view.setStyle({'elem': elem}, {'sphere': {'radius': 1, 'color': 'yellow'}})"
   ],
   "outputs": [
    {
     "data": {
      "application/3dmoljs_load.v0": "<div id=\"3dmolviewer_17301413528853588\"  style=\"position: relative; width: 640px; height: 480px;\">\n        <p id=\"3dmolwarning_17301413528853588\" style=\"background-color:#ffcccc;color:black\">3Dmol.js failed to load for some reason.  Please check your browser console for error messages.<br></p>\n        </div>\n<script>\n\nvar loadScriptAsync = function(uri){\n  return new Promise((resolve, reject) => {\n    //this is to ignore the existence of requirejs amd\n    var savedexports, savedmodule;\n    if (typeof exports !== 'undefined') savedexports = exports;\n    else exports = {}\n    if (typeof module !== 'undefined') savedmodule = module;\n    else module = {}\n\n    var tag = document.createElement('script');\n    tag.src = uri;\n    tag.async = true;\n    tag.onload = () => {\n        exports = savedexports;\n        module = savedmodule;\n        resolve();\n    };\n  var firstScriptTag = document.getElementsByTagName('script')[0];\n  firstScriptTag.parentNode.insertBefore(tag, firstScriptTag);\n});\n};\n\nif(typeof $3Dmolpromise === 'undefined') {\n$3Dmolpromise = null;\n  $3Dmolpromise = loadScriptAsync('https://cdnjs.cloudflare.com/ajax/libs/3Dmol/2.4.0/3Dmol-min.js');\n}\n\nvar viewer_17301413528853588 = null;\nvar warn = document.getElementById(\"3dmolwarning_17301413528853588\");\nif(warn) {\n    warn.parentNode.removeChild(warn);\n}\n$3Dmolpromise.then(function() {\nviewer_17301413528853588 = $3Dmol.createViewer(document.getElementById(\"3dmolviewer_17301413528853588\"),{backgroundColor:\"white\"});\n$3Dmol.download(\"pdb:2dn1\", viewer_17301413528853588, {}, function() {\nviewer_17301413528853588.zoomTo();\n\tviewer_17301413528853588.zoomTo();\n\tviewer_17301413528853588.setBackgroundColor(\"white\");\n\tviewer_17301413528853588.addStyle({\"chain\": \"A\", \"resi\": \"1\"},{\"stick\": {\"colorscheme\": \"purple\"}});\n\tviewer_17301413528853588.addStyle({\"chain\": \"B\", \"resn\": \"ALA\"},{\"sphere\": {\"colorscheme\": \"greenCarbon\"}});\n\tviewer_17301413528853588.setStyle({\"elem\": \"Fe\"},{\"sphere\": {\"radius\": 1, \"color\": \"yellow\"}});\nviewer_17301413528853588.render();\n})\n});\n</script>",
      "text/html": [
       "<div id=\"3dmolviewer_17301413528853588\"  style=\"position: relative; width: 640px; height: 480px;\">\n",
       "        <p id=\"3dmolwarning_17301413528853588\" style=\"background-color:#ffcccc;color:black\">3Dmol.js failed to load for some reason.  Please check your browser console for error messages.<br></p>\n",
       "        </div>\n",
       "<script>\n",
       "\n",
       "var loadScriptAsync = function(uri){\n",
       "  return new Promise((resolve, reject) => {\n",
       "    //this is to ignore the existence of requirejs amd\n",
       "    var savedexports, savedmodule;\n",
       "    if (typeof exports !== 'undefined') savedexports = exports;\n",
       "    else exports = {}\n",
       "    if (typeof module !== 'undefined') savedmodule = module;\n",
       "    else module = {}\n",
       "\n",
       "    var tag = document.createElement('script');\n",
       "    tag.src = uri;\n",
       "    tag.async = true;\n",
       "    tag.onload = () => {\n",
       "        exports = savedexports;\n",
       "        module = savedmodule;\n",
       "        resolve();\n",
       "    };\n",
       "  var firstScriptTag = document.getElementsByTagName('script')[0];\n",
       "  firstScriptTag.parentNode.insertBefore(tag, firstScriptTag);\n",
       "});\n",
       "};\n",
       "\n",
       "if(typeof $3Dmolpromise === 'undefined') {\n",
       "$3Dmolpromise = null;\n",
       "  $3Dmolpromise = loadScriptAsync('https://cdnjs.cloudflare.com/ajax/libs/3Dmol/2.4.0/3Dmol-min.js');\n",
       "}\n",
       "\n",
       "var viewer_17301413528853588 = null;\n",
       "var warn = document.getElementById(\"3dmolwarning_17301413528853588\");\n",
       "if(warn) {\n",
       "    warn.parentNode.removeChild(warn);\n",
       "}\n",
       "$3Dmolpromise.then(function() {\n",
       "viewer_17301413528853588 = $3Dmol.createViewer(document.getElementById(\"3dmolviewer_17301413528853588\"),{backgroundColor:\"white\"});\n",
       "$3Dmol.download(\"pdb:2dn1\", viewer_17301413528853588, {}, function() {\n",
       "viewer_17301413528853588.zoomTo();\n",
       "\tviewer_17301413528853588.zoomTo();\n",
       "\tviewer_17301413528853588.setBackgroundColor(\"white\");\n",
       "\tviewer_17301413528853588.addStyle({\"chain\": \"A\", \"resi\": \"1\"},{\"stick\": {\"colorscheme\": \"purple\"}});\n",
       "\tviewer_17301413528853588.addStyle({\"chain\": \"B\", \"resn\": \"ALA\"},{\"sphere\": {\"colorscheme\": \"greenCarbon\"}});\n",
       "\tviewer_17301413528853588.setStyle({\"elem\": \"Fe\"},{\"sphere\": {\"radius\": 1, \"color\": \"yellow\"}});\n",
       "viewer_17301413528853588.render();\n",
       "})\n",
       "});\n",
       "</script>"
      ]
     },
     "metadata": {},
     "output_type": "display_data"
    },
    {
     "data": {
      "text/plain": [
       "<py3Dmol.view at 0x7ff0bc0111e0>"
      ]
     },
     "execution_count": 9,
     "metadata": {},
     "output_type": "execute_result"
    }
   ],
   "execution_count": 9
  },
  {
   "cell_type": "markdown",
   "id": "5aeb990e-e83c-4c02-ad6b-db7ed03b5721",
   "metadata": {},
   "source": [
    "### Visualizacion estructura con labels"
   ]
  },
  {
   "cell_type": "code",
   "id": "9f840093-f0d8-450c-832d-361d2bfa8ac4",
   "metadata": {
    "ExecuteTime": {
     "end_time": "2024-10-28T18:49:15.126089Z",
     "start_time": "2024-10-28T18:49:15.108559Z"
    }
   },
   "source": [
    "view.clear()\n",
    "\n",
    "view=py3Dmol.view(query=f'pdb:{pdb}')\n",
    "\n",
    "view.addLabel('alpha subunits', {'fontColor':'orange', 'backgroundColor':'lightgray'},\n",
    "                {'chain': ['A','B']})\n",
    "view.setStyle({'chain':['A','B']},{'cartoon': {'color': 'red'}}) # alpha subunits of hemoglobin\n",
    "\n",
    "\n",
    "view.addLabel('beta subunits', {'fontColor':'blue', 'backgroundColor':'lightgray'},\n",
    "                {'chain': ['C','D']})\n",
    "view.setStyle({'chain':['C','D']},{'cartoon': {'color': 'blue'}}) # beta subunits of hemoglobin\n",
    "\n",
    "view.setStyle({'resn': 'HEM'},{'sphere': {'colorscheme': 'greenCarbon'}})\n",
    "view.show()"
   ],
   "outputs": [
    {
     "data": {
      "application/3dmoljs_load.v0": "<div id=\"3dmolviewer_17301413551149013\"  style=\"position: relative; width: 640px; height: 480px;\">\n        <p id=\"3dmolwarning_17301413551149013\" style=\"background-color:#ffcccc;color:black\">3Dmol.js failed to load for some reason.  Please check your browser console for error messages.<br></p>\n        </div>\n<script>\n\nvar loadScriptAsync = function(uri){\n  return new Promise((resolve, reject) => {\n    //this is to ignore the existence of requirejs amd\n    var savedexports, savedmodule;\n    if (typeof exports !== 'undefined') savedexports = exports;\n    else exports = {}\n    if (typeof module !== 'undefined') savedmodule = module;\n    else module = {}\n\n    var tag = document.createElement('script');\n    tag.src = uri;\n    tag.async = true;\n    tag.onload = () => {\n        exports = savedexports;\n        module = savedmodule;\n        resolve();\n    };\n  var firstScriptTag = document.getElementsByTagName('script')[0];\n  firstScriptTag.parentNode.insertBefore(tag, firstScriptTag);\n});\n};\n\nif(typeof $3Dmolpromise === 'undefined') {\n$3Dmolpromise = null;\n  $3Dmolpromise = loadScriptAsync('https://cdnjs.cloudflare.com/ajax/libs/3Dmol/2.4.0/3Dmol-min.js');\n}\n\nvar viewer_17301413551149013 = null;\nvar warn = document.getElementById(\"3dmolwarning_17301413551149013\");\nif(warn) {\n    warn.parentNode.removeChild(warn);\n}\n$3Dmolpromise.then(function() {\nviewer_17301413551149013 = $3Dmol.createViewer(document.getElementById(\"3dmolviewer_17301413551149013\"),{backgroundColor:\"white\"});\n$3Dmol.download(\"pdb:2dn1\", viewer_17301413551149013, {}, function() {\nviewer_17301413551149013.zoomTo();\n\tviewer_17301413551149013.addLabel(\"alpha subunits\",{\"fontColor\": \"orange\", \"backgroundColor\": \"lightgray\"},{\"chain\": [\"A\", \"B\"]});\n\tviewer_17301413551149013.setStyle({\"chain\": [\"A\", \"B\"]},{\"cartoon\": {\"color\": \"red\"}});\n\tviewer_17301413551149013.addLabel(\"beta subunits\",{\"fontColor\": \"blue\", \"backgroundColor\": \"lightgray\"},{\"chain\": [\"C\", \"D\"]});\n\tviewer_17301413551149013.setStyle({\"chain\": [\"C\", \"D\"]},{\"cartoon\": {\"color\": \"blue\"}});\n\tviewer_17301413551149013.setStyle({\"resn\": \"HEM\"},{\"sphere\": {\"colorscheme\": \"greenCarbon\"}});\nviewer_17301413551149013.render();\n})\n});\n</script>",
      "text/html": [
       "<div id=\"3dmolviewer_17301413551149013\"  style=\"position: relative; width: 640px; height: 480px;\">\n",
       "        <p id=\"3dmolwarning_17301413551149013\" style=\"background-color:#ffcccc;color:black\">3Dmol.js failed to load for some reason.  Please check your browser console for error messages.<br></p>\n",
       "        </div>\n",
       "<script>\n",
       "\n",
       "var loadScriptAsync = function(uri){\n",
       "  return new Promise((resolve, reject) => {\n",
       "    //this is to ignore the existence of requirejs amd\n",
       "    var savedexports, savedmodule;\n",
       "    if (typeof exports !== 'undefined') savedexports = exports;\n",
       "    else exports = {}\n",
       "    if (typeof module !== 'undefined') savedmodule = module;\n",
       "    else module = {}\n",
       "\n",
       "    var tag = document.createElement('script');\n",
       "    tag.src = uri;\n",
       "    tag.async = true;\n",
       "    tag.onload = () => {\n",
       "        exports = savedexports;\n",
       "        module = savedmodule;\n",
       "        resolve();\n",
       "    };\n",
       "  var firstScriptTag = document.getElementsByTagName('script')[0];\n",
       "  firstScriptTag.parentNode.insertBefore(tag, firstScriptTag);\n",
       "});\n",
       "};\n",
       "\n",
       "if(typeof $3Dmolpromise === 'undefined') {\n",
       "$3Dmolpromise = null;\n",
       "  $3Dmolpromise = loadScriptAsync('https://cdnjs.cloudflare.com/ajax/libs/3Dmol/2.4.0/3Dmol-min.js');\n",
       "}\n",
       "\n",
       "var viewer_17301413551149013 = null;\n",
       "var warn = document.getElementById(\"3dmolwarning_17301413551149013\");\n",
       "if(warn) {\n",
       "    warn.parentNode.removeChild(warn);\n",
       "}\n",
       "$3Dmolpromise.then(function() {\n",
       "viewer_17301413551149013 = $3Dmol.createViewer(document.getElementById(\"3dmolviewer_17301413551149013\"),{backgroundColor:\"white\"});\n",
       "$3Dmol.download(\"pdb:2dn1\", viewer_17301413551149013, {}, function() {\n",
       "viewer_17301413551149013.zoomTo();\n",
       "\tviewer_17301413551149013.addLabel(\"alpha subunits\",{\"fontColor\": \"orange\", \"backgroundColor\": \"lightgray\"},{\"chain\": [\"A\", \"B\"]});\n",
       "\tviewer_17301413551149013.setStyle({\"chain\": [\"A\", \"B\"]},{\"cartoon\": {\"color\": \"red\"}});\n",
       "\tviewer_17301413551149013.addLabel(\"beta subunits\",{\"fontColor\": \"blue\", \"backgroundColor\": \"lightgray\"},{\"chain\": [\"C\", \"D\"]});\n",
       "\tviewer_17301413551149013.setStyle({\"chain\": [\"C\", \"D\"]},{\"cartoon\": {\"color\": \"blue\"}});\n",
       "\tviewer_17301413551149013.setStyle({\"resn\": \"HEM\"},{\"sphere\": {\"colorscheme\": \"greenCarbon\"}});\n",
       "viewer_17301413551149013.render();\n",
       "})\n",
       "});\n",
       "</script>"
      ]
     },
     "metadata": {},
     "output_type": "display_data"
    }
   ],
   "execution_count": 10
  },
  {
   "cell_type": "markdown",
   "id": "8f4015cc-1732-4555-a1b6-3b52a6b2d6cd",
   "metadata": {},
   "source": [
    "### Obtener distancias\n",
    "\n",
    "Con la siguiente funcion es posible obtener las distancias de los atomos en la estructura de la proteína"
   ]
  },
  {
   "cell_type": "code",
   "id": "06d4cd27-7524-40a1-8898-a1f3bd7716c1",
   "metadata": {
    "ExecuteTime": {
     "end_time": "2024-10-28T19:56:15.829898Z",
     "start_time": "2024-10-28T19:56:15.775163Z"
    }
   },
   "source": [
    "import numpy as np\n",
    "import pandas as pd\n",
    "\n",
    "# Función para calcular la distancia entre dos átomos\n",
    "def calculate_distance(atom1, atom2):\n",
    "    coord1 = atom1.get_coord()\n",
    "    coord2 = atom2.get_coord()\n",
    "    # Se usa np.linalg.norm para calcular la distancia euclidiana entre coord1 y coord2. La distancia euclidiana entre dos puntos\n",
    "    return np.linalg.norm(coord1 - coord2)\n",
    "\n",
    "# Función para obtener las distancias entre átomos especificados\n",
    "def obtain_distance(atoms, structure):\n",
    "    # Diccionario para almacenar las distancias entre pares de átomos\n",
    "    distances = {}\n",
    "    found_atoms = []\n",
    "    \n",
    "    # Recorrer cada cadena en la estructura\n",
    "    for chain in structure.get_chains():\n",
    "        # Recorrer cada residuo en la cadena\n",
    "        for residue in chain.get_residues():\n",
    "            # Buscar los átomos especificados en el residuo\n",
    "            for atom in residue.get_atoms():\n",
    "                if atom.get_name() in atoms:\n",
    "                    found_atoms.append((atom, residue.get_id(), chain.get_id()))\n",
    "            \n",
    "    # Calcular la distancia entre cada par de átomos encontrados\n",
    "    for i in range(len(found_atoms)):\n",
    "        atom1 = found_atoms[i][0]\n",
    "        for j in range(0, len(found_atoms), i+1):\n",
    "            atom2 = found_atoms[j][0]\n",
    "            if(atom2.get_name()!=atom1.get_name()):\n",
    "                dist = calculate_distance(atom1, atom2)\n",
    "                residue1 = found_atoms[i][1][1]\n",
    "                residue2 = found_atoms[j][1][1]\n",
    "                if dist<=8 and (np.abs(residue1-residue2)>=4): # agregar salto de residuos +4\n",
    "                    # Guardar la distancia en el diccionario con el nombre de los átomos y el residuo\n",
    "                    distances[(atom1.get_name(), atom2.get_name(), residue1, residue2, \n",
    "                               found_atoms[i][2], found_atoms[j][2])] = dist\n",
    "\n",
    "    data = list(distances.keys())\n",
    "    dist = list(distances.values())\n",
    "    columns = ['ATOM1','ATOM2','ATOM1_RESIDUE_ID', 'ATOM2_RESIDUE_ID', 'ATOM1_CHAIN_ID', 'ATOM2_CHAIN_ID']\n",
    "    df_distances = pd.DataFrame(data, columns=columns)\n",
    "    df_distances['DISTANCE'] = dist\n",
    "    return df_distances\n",
    "\n",
    "distances = obtain_distance(['CA','CB'], structure)\n",
    "distances"
   ],
   "outputs": [
    {
     "data": {
      "text/plain": [
       "   ATOM1 ATOM2  ATOM1_RESIDUE_ID  ATOM2_RESIDUE_ID ATOM1_CHAIN_ID  \\\n",
       "0     CA    CB                 2                 6              A   \n",
       "1     CA    CB                 2                 7              A   \n",
       "2     CA    CB                 2                73              A   \n",
       "3     CA    CB                 2               124              A   \n",
       "4     CA    CB                 2               127              A   \n",
       "5     CA    CB                 2               128              A   \n",
       "6     CA    CB                 2               131              A   \n",
       "7     CB    CA                 2                 6              A   \n",
       "8     CB    CA                 2                 7              A   \n",
       "9     CB    CA                 3               141              A   \n",
       "10    CB    CA                 4                 8              A   \n",
       "11    CA    CB                 5               124              A   \n",
       "12    CB    CA                 6                 2              A   \n",
       "13    CB    CA                 7                 2              A   \n",
       "14    CA    CB                 9               125              A   \n",
       "15    CA    CB                10               124              A   \n",
       "16    CA    CB                29                55              A   \n",
       "17    CB    CA                31               124              A   \n",
       "18    CB    CA                35               128              A   \n",
       "19    CB    CA                73                 2              A   \n",
       "20    CB    CA               124                 2              A   \n",
       "21    CB    CA               127                 2              A   \n",
       "22    CB    CA               128                 2              A   \n",
       "23    CB    CA               131                 2              A   \n",
       "\n",
       "   ATOM2_CHAIN_ID  DISTANCE  \n",
       "0               A  4.271172  \n",
       "1               A  6.456403  \n",
       "2               A  7.655000  \n",
       "3               A  7.766718  \n",
       "4               A  5.797159  \n",
       "5               A  7.373601  \n",
       "6               A  6.873361  \n",
       "7               A  5.343513  \n",
       "8               A  5.515097  \n",
       "9             A-2  7.658355  \n",
       "10              A  7.078955  \n",
       "11              A  6.779120  \n",
       "12              A  4.271172  \n",
       "13              A  6.456403  \n",
       "14              A  7.827553  \n",
       "15              A  5.344995  \n",
       "16              A  6.662490  \n",
       "17              B  4.914456  \n",
       "18              B  4.239066  \n",
       "19              A  7.655000  \n",
       "20              A  7.766718  \n",
       "21              A  5.797159  \n",
       "22              A  7.373601  \n",
       "23              A  6.873361  "
      ],
      "text/html": [
       "<div>\n",
       "<style scoped>\n",
       "    .dataframe tbody tr th:only-of-type {\n",
       "        vertical-align: middle;\n",
       "    }\n",
       "\n",
       "    .dataframe tbody tr th {\n",
       "        vertical-align: top;\n",
       "    }\n",
       "\n",
       "    .dataframe thead th {\n",
       "        text-align: right;\n",
       "    }\n",
       "</style>\n",
       "<table border=\"1\" class=\"dataframe\">\n",
       "  <thead>\n",
       "    <tr style=\"text-align: right;\">\n",
       "      <th></th>\n",
       "      <th>ATOM1</th>\n",
       "      <th>ATOM2</th>\n",
       "      <th>ATOM1_RESIDUE_ID</th>\n",
       "      <th>ATOM2_RESIDUE_ID</th>\n",
       "      <th>ATOM1_CHAIN_ID</th>\n",
       "      <th>ATOM2_CHAIN_ID</th>\n",
       "      <th>DISTANCE</th>\n",
       "    </tr>\n",
       "  </thead>\n",
       "  <tbody>\n",
       "    <tr>\n",
       "      <th>0</th>\n",
       "      <td>CA</td>\n",
       "      <td>CB</td>\n",
       "      <td>2</td>\n",
       "      <td>6</td>\n",
       "      <td>A</td>\n",
       "      <td>A</td>\n",
       "      <td>4.271172</td>\n",
       "    </tr>\n",
       "    <tr>\n",
       "      <th>1</th>\n",
       "      <td>CA</td>\n",
       "      <td>CB</td>\n",
       "      <td>2</td>\n",
       "      <td>7</td>\n",
       "      <td>A</td>\n",
       "      <td>A</td>\n",
       "      <td>6.456403</td>\n",
       "    </tr>\n",
       "    <tr>\n",
       "      <th>2</th>\n",
       "      <td>CA</td>\n",
       "      <td>CB</td>\n",
       "      <td>2</td>\n",
       "      <td>73</td>\n",
       "      <td>A</td>\n",
       "      <td>A</td>\n",
       "      <td>7.655000</td>\n",
       "    </tr>\n",
       "    <tr>\n",
       "      <th>3</th>\n",
       "      <td>CA</td>\n",
       "      <td>CB</td>\n",
       "      <td>2</td>\n",
       "      <td>124</td>\n",
       "      <td>A</td>\n",
       "      <td>A</td>\n",
       "      <td>7.766718</td>\n",
       "    </tr>\n",
       "    <tr>\n",
       "      <th>4</th>\n",
       "      <td>CA</td>\n",
       "      <td>CB</td>\n",
       "      <td>2</td>\n",
       "      <td>127</td>\n",
       "      <td>A</td>\n",
       "      <td>A</td>\n",
       "      <td>5.797159</td>\n",
       "    </tr>\n",
       "    <tr>\n",
       "      <th>5</th>\n",
       "      <td>CA</td>\n",
       "      <td>CB</td>\n",
       "      <td>2</td>\n",
       "      <td>128</td>\n",
       "      <td>A</td>\n",
       "      <td>A</td>\n",
       "      <td>7.373601</td>\n",
       "    </tr>\n",
       "    <tr>\n",
       "      <th>6</th>\n",
       "      <td>CA</td>\n",
       "      <td>CB</td>\n",
       "      <td>2</td>\n",
       "      <td>131</td>\n",
       "      <td>A</td>\n",
       "      <td>A</td>\n",
       "      <td>6.873361</td>\n",
       "    </tr>\n",
       "    <tr>\n",
       "      <th>7</th>\n",
       "      <td>CB</td>\n",
       "      <td>CA</td>\n",
       "      <td>2</td>\n",
       "      <td>6</td>\n",
       "      <td>A</td>\n",
       "      <td>A</td>\n",
       "      <td>5.343513</td>\n",
       "    </tr>\n",
       "    <tr>\n",
       "      <th>8</th>\n",
       "      <td>CB</td>\n",
       "      <td>CA</td>\n",
       "      <td>2</td>\n",
       "      <td>7</td>\n",
       "      <td>A</td>\n",
       "      <td>A</td>\n",
       "      <td>5.515097</td>\n",
       "    </tr>\n",
       "    <tr>\n",
       "      <th>9</th>\n",
       "      <td>CB</td>\n",
       "      <td>CA</td>\n",
       "      <td>3</td>\n",
       "      <td>141</td>\n",
       "      <td>A</td>\n",
       "      <td>A-2</td>\n",
       "      <td>7.658355</td>\n",
       "    </tr>\n",
       "    <tr>\n",
       "      <th>10</th>\n",
       "      <td>CB</td>\n",
       "      <td>CA</td>\n",
       "      <td>4</td>\n",
       "      <td>8</td>\n",
       "      <td>A</td>\n",
       "      <td>A</td>\n",
       "      <td>7.078955</td>\n",
       "    </tr>\n",
       "    <tr>\n",
       "      <th>11</th>\n",
       "      <td>CA</td>\n",
       "      <td>CB</td>\n",
       "      <td>5</td>\n",
       "      <td>124</td>\n",
       "      <td>A</td>\n",
       "      <td>A</td>\n",
       "      <td>6.779120</td>\n",
       "    </tr>\n",
       "    <tr>\n",
       "      <th>12</th>\n",
       "      <td>CB</td>\n",
       "      <td>CA</td>\n",
       "      <td>6</td>\n",
       "      <td>2</td>\n",
       "      <td>A</td>\n",
       "      <td>A</td>\n",
       "      <td>4.271172</td>\n",
       "    </tr>\n",
       "    <tr>\n",
       "      <th>13</th>\n",
       "      <td>CB</td>\n",
       "      <td>CA</td>\n",
       "      <td>7</td>\n",
       "      <td>2</td>\n",
       "      <td>A</td>\n",
       "      <td>A</td>\n",
       "      <td>6.456403</td>\n",
       "    </tr>\n",
       "    <tr>\n",
       "      <th>14</th>\n",
       "      <td>CA</td>\n",
       "      <td>CB</td>\n",
       "      <td>9</td>\n",
       "      <td>125</td>\n",
       "      <td>A</td>\n",
       "      <td>A</td>\n",
       "      <td>7.827553</td>\n",
       "    </tr>\n",
       "    <tr>\n",
       "      <th>15</th>\n",
       "      <td>CA</td>\n",
       "      <td>CB</td>\n",
       "      <td>10</td>\n",
       "      <td>124</td>\n",
       "      <td>A</td>\n",
       "      <td>A</td>\n",
       "      <td>5.344995</td>\n",
       "    </tr>\n",
       "    <tr>\n",
       "      <th>16</th>\n",
       "      <td>CA</td>\n",
       "      <td>CB</td>\n",
       "      <td>29</td>\n",
       "      <td>55</td>\n",
       "      <td>A</td>\n",
       "      <td>A</td>\n",
       "      <td>6.662490</td>\n",
       "    </tr>\n",
       "    <tr>\n",
       "      <th>17</th>\n",
       "      <td>CB</td>\n",
       "      <td>CA</td>\n",
       "      <td>31</td>\n",
       "      <td>124</td>\n",
       "      <td>A</td>\n",
       "      <td>B</td>\n",
       "      <td>4.914456</td>\n",
       "    </tr>\n",
       "    <tr>\n",
       "      <th>18</th>\n",
       "      <td>CB</td>\n",
       "      <td>CA</td>\n",
       "      <td>35</td>\n",
       "      <td>128</td>\n",
       "      <td>A</td>\n",
       "      <td>B</td>\n",
       "      <td>4.239066</td>\n",
       "    </tr>\n",
       "    <tr>\n",
       "      <th>19</th>\n",
       "      <td>CB</td>\n",
       "      <td>CA</td>\n",
       "      <td>73</td>\n",
       "      <td>2</td>\n",
       "      <td>A</td>\n",
       "      <td>A</td>\n",
       "      <td>7.655000</td>\n",
       "    </tr>\n",
       "    <tr>\n",
       "      <th>20</th>\n",
       "      <td>CB</td>\n",
       "      <td>CA</td>\n",
       "      <td>124</td>\n",
       "      <td>2</td>\n",
       "      <td>A</td>\n",
       "      <td>A</td>\n",
       "      <td>7.766718</td>\n",
       "    </tr>\n",
       "    <tr>\n",
       "      <th>21</th>\n",
       "      <td>CB</td>\n",
       "      <td>CA</td>\n",
       "      <td>127</td>\n",
       "      <td>2</td>\n",
       "      <td>A</td>\n",
       "      <td>A</td>\n",
       "      <td>5.797159</td>\n",
       "    </tr>\n",
       "    <tr>\n",
       "      <th>22</th>\n",
       "      <td>CB</td>\n",
       "      <td>CA</td>\n",
       "      <td>128</td>\n",
       "      <td>2</td>\n",
       "      <td>A</td>\n",
       "      <td>A</td>\n",
       "      <td>7.373601</td>\n",
       "    </tr>\n",
       "    <tr>\n",
       "      <th>23</th>\n",
       "      <td>CB</td>\n",
       "      <td>CA</td>\n",
       "      <td>131</td>\n",
       "      <td>2</td>\n",
       "      <td>A</td>\n",
       "      <td>A</td>\n",
       "      <td>6.873361</td>\n",
       "    </tr>\n",
       "  </tbody>\n",
       "</table>\n",
       "</div>"
      ]
     },
     "execution_count": 41,
     "metadata": {},
     "output_type": "execute_result"
    }
   ],
   "execution_count": 41
  },
  {
   "metadata": {
    "ExecuteTime": {
     "end_time": "2024-10-28T19:56:16.850669Z",
     "start_time": "2024-10-28T19:56:16.764354Z"
    }
   },
   "cell_type": "code",
   "source": [
    "import matplotlib.pyplot as plt\n",
    "\n",
    "plt.scatter(distances['ATOM1_RESIDUE_ID'], distances['ATOM2_RESIDUE_ID'], s=20)\n",
    "plt.show()"
   ],
   "id": "7cb497b7cd81608c",
   "outputs": [
    {
     "data": {
      "text/plain": [
       "<Figure size 640x480 with 1 Axes>"
      ],
      "image/png": "[encoded data removed]"
     },
     "metadata": {},
     "output_type": "display_data"
    }
   ],
   "execution_count": 42
  },
  {
   "cell_type": "markdown",
   "id": "c2b11fd4-c321-4468-91d3-5b74869506d1",
   "metadata": {},
   "source": [
    "### Visualización con lineas"
   ]
  },
  {
   "cell_type": "code",
   "execution_count": 147,
   "id": "f274daa4-dd36-40c3-b84b-67029816e99c",
   "metadata": {},
   "outputs": [
    {
     "data": {
      "application/3dmoljs_load.v0": "<div id=\"3dmolviewer_1730074882883359\"  style=\"position: relative; width: 640px; height: 480px;\">\n        <p id=\"3dmolwarning_1730074882883359\" style=\"background-color:#ffcccc;color:black\">3Dmol.js failed to load for some reason.  Please check your browser console for error messages.<br></p>\n        </div>\n<script>\n\nvar loadScriptAsync = function(uri){\n  return new Promise((resolve, reject) => {\n    //this is to ignore the existence of requirejs amd\n    var savedexports, savedmodule;\n    if (typeof exports !== 'undefined') savedexports = exports;\n    else exports = {}\n    if (typeof module !== 'undefined') savedmodule = module;\n    else module = {}\n\n    var tag = document.createElement('script');\n    tag.src = uri;\n    tag.async = true;\n    tag.onload = () => {\n        exports = savedexports;\n        module = savedmodule;\n        resolve();\n    };\n  var firstScriptTag = document.getElementsByTagName('script')[0];\n  firstScriptTag.parentNode.insertBefore(tag, firstScriptTag);\n});\n};\n\nif(typeof $3Dmolpromise === 'undefined') {\n$3Dmolpromise = null;\n  $3Dmolpromise = loadScriptAsync('https://cdnjs.cloudflare.com/ajax/libs/3Dmol/2.4.0/3Dmol-min.js');\n}\n\nvar viewer_1730074882883359 = null;\nvar warn = document.getElementById(\"3dmolwarning_1730074882883359\");\nif(warn) {\n    warn.parentNode.removeChild(warn);\n}\n$3Dmolpromise.then(function() {\nviewer_1730074882883359 = $3Dmol.createViewer(document.getElementById(\"3dmolviewer_1730074882883359\"),{backgroundColor:\"white\"});\n$3Dmol.download(\"pdb:2dn1\", viewer_1730074882883359, {}, function() {\nviewer_1730074882883359.zoomTo();\n\tviewer_1730074882883359.setStyle({\"stick\": {\"color\": \"skyblue\"}});\n\tviewer_1730074882883359.addLine({\"color\": \"red\", \"linewidth\": 1000, \"start\": {\"chain\": \"B\", \"resi\": 37, \"atom\": \"O\"}, \"end\": {\"chain\": \"A-2\", \"resi\": 92, \"atom\": \"CA\"}});\nviewer_1730074882883359.render();\n})\n});\n</script>",
      "text/html": [
       "<div id=\"3dmolviewer_1730074882883359\"  style=\"position: relative; width: 640px; height: 480px;\">\n",
       "        <p id=\"3dmolwarning_1730074882883359\" style=\"background-color:#ffcccc;color:black\">3Dmol.js failed to load for some reason.  Please check your browser console for error messages.<br></p>\n",
       "        </div>\n",
       "<script>\n",
       "\n",
       "var loadScriptAsync = function(uri){\n",
       "  return new Promise((resolve, reject) => {\n",
       "    //this is to ignore the existence of requirejs amd\n",
       "    var savedexports, savedmodule;\n",
       "    if (typeof exports !== 'undefined') savedexports = exports;\n",
       "    else exports = {}\n",
       "    if (typeof module !== 'undefined') savedmodule = module;\n",
       "    else module = {}\n",
       "\n",
       "    var tag = document.createElement('script');\n",
       "    tag.src = uri;\n",
       "    tag.async = true;\n",
       "    tag.onload = () => {\n",
       "        exports = savedexports;\n",
       "        module = savedmodule;\n",
       "        resolve();\n",
       "    };\n",
       "  var firstScriptTag = document.getElementsByTagName('script')[0];\n",
       "  firstScriptTag.parentNode.insertBefore(tag, firstScriptTag);\n",
       "});\n",
       "};\n",
       "\n",
       "if(typeof $3Dmolpromise === 'undefined') {\n",
       "$3Dmolpromise = null;\n",
       "  $3Dmolpromise = loadScriptAsync('https://cdnjs.cloudflare.com/ajax/libs/3Dmol/2.4.0/3Dmol-min.js');\n",
       "}\n",
       "\n",
       "var viewer_1730074882883359 = null;\n",
       "var warn = document.getElementById(\"3dmolwarning_1730074882883359\");\n",
       "if(warn) {\n",
       "    warn.parentNode.removeChild(warn);\n",
       "}\n",
       "$3Dmolpromise.then(function() {\n",
       "viewer_1730074882883359 = $3Dmol.createViewer(document.getElementById(\"3dmolviewer_1730074882883359\"),{backgroundColor:\"white\"});\n",
       "$3Dmol.download(\"pdb:2dn1\", viewer_1730074882883359, {}, function() {\n",
       "viewer_1730074882883359.zoomTo();\n",
       "\tviewer_1730074882883359.setStyle({\"stick\": {\"color\": \"skyblue\"}});\n",
       "\tviewer_1730074882883359.addLine({\"color\": \"red\", \"linewidth\": 1000, \"start\": {\"chain\": \"B\", \"resi\": 37, \"atom\": \"O\"}, \"end\": {\"chain\": \"A-2\", \"resi\": 92, \"atom\": \"CA\"}});\n",
       "viewer_1730074882883359.render();\n",
       "})\n",
       "});\n",
       "</script>"
      ]
     },
     "metadata": {},
     "output_type": "display_data"
    }
   ],
   "source": [
    "view.clear()\n",
    "\n",
    "view=py3Dmol.view(query=f'pdb:{pdb}')\n",
    "\n",
    "# CONFIGURACION\n",
    "#=========================\n",
    "ATOM1='O'\t\n",
    "ATOM2='CA'\n",
    "ATOM1_RESIDUE_ID=37\t\n",
    "ATOM2_RESIDUE_ID=92\t\n",
    "ATOM1_CHAIN_ID='B'\t\n",
    "ATOM2_CHAIN_ID='A-2'\n",
    "#=========================\n",
    "\n",
    "# Estilo general de la estructura (por ejemplo, un estilo cartoon)\n",
    "view.setStyle({'stick': {'color':'skyblue'}})\n",
    "\n",
    "# Seleccionar dos átomos específicos (por ejemplo, atomos de residuo 50 y 100)\n",
    "# Ajusta 'resi' y 'atom' según tu estructura\n",
    "atom1 = {'chain':ATOM1_CHAIN_ID,'resi': ATOM1_RESIDUE_ID, 'atom': ATOM1}\n",
    "atom2 = {'chain':ATOM2_CHAIN_ID,'resi': ATOM2_RESIDUE_ID, 'atom': ATOM2}\n",
    "\n",
    "# Añadir una línea entre los átomos para visualizar la distancia\n",
    "view.addLine({'color':'red','linewidth': 1000,'start':atom1,'end':atom2})\n",
    "\n",
    "view.show()"
   ]
  },
  {
   "cell_type": "markdown",
   "id": "c51e8637-c937-4061-b338-dd1d26e40af1",
   "metadata": {},
   "source": [
    "### Visualización de superficie"
   ]
  },
  {
   "cell_type": "code",
   "execution_count": 56,
   "id": "8eb297d5-8222-4999-9342-b163ea94c8ab",
   "metadata": {},
   "outputs": [
    {
     "data": {
      "application/3dmoljs_load.v0": "<div id=\"3dmolviewer_1730070673886087\"  style=\"position: relative; width: 640px; height: 480px;\">\n        <p id=\"3dmolwarning_1730070673886087\" style=\"background-color:#ffcccc;color:black\">3Dmol.js failed to load for some reason.  Please check your browser console for error messages.<br></p>\n        </div>\n<script>\n\nvar loadScriptAsync = function(uri){\n  return new Promise((resolve, reject) => {\n    //this is to ignore the existence of requirejs amd\n    var savedexports, savedmodule;\n    if (typeof exports !== 'undefined') savedexports = exports;\n    else exports = {}\n    if (typeof module !== 'undefined') savedmodule = module;\n    else module = {}\n\n    var tag = document.createElement('script');\n    tag.src = uri;\n    tag.async = true;\n    tag.onload = () => {\n        exports = savedexports;\n        module = savedmodule;\n        resolve();\n    };\n  var firstScriptTag = document.getElementsByTagName('script')[0];\n  firstScriptTag.parentNode.insertBefore(tag, firstScriptTag);\n});\n};\n\nif(typeof $3Dmolpromise === 'undefined') {\n$3Dmolpromise = null;\n  $3Dmolpromise = loadScriptAsync('https://cdnjs.cloudflare.com/ajax/libs/3Dmol/2.4.0/3Dmol-min.js');\n}\n\nvar viewer_1730070673886087 = null;\nvar warn = document.getElementById(\"3dmolwarning_1730070673886087\");\nif(warn) {\n    warn.parentNode.removeChild(warn);\n}\n$3Dmolpromise.then(function() {\nviewer_1730070673886087 = $3Dmol.createViewer(document.getElementById(\"3dmolviewer_1730070673886087\"),{backgroundColor:\"white\"});\n$3Dmol.download(\"pdb:2dn1\", viewer_1730070673886087, {}, function() {\nviewer_1730070673886087.zoomTo();\n\tviewer_1730070673886087.setStyle({\"chain\": \"A\"},{\"cartoon\": {\"color\": \"blue\"}});\n\tviewer_1730070673886087.setStyle({\"chain\": \"B\"},{\"cartoon\": {\"color\": \"red\"}});\n\tviewer_1730070673886087.setStyle({\"chain\": \"C\"},{\"sphere\": {\"colorscheme\": \"orangeCarbon\"}});\n\tviewer_1730070673886087.addSurface(4,{\"opacity\": 0.9, \"color\": \"lightblue\"},{\"chain\": \"A\"});\n\tviewer_1730070673886087.addSurface(4,{\"opacity\": 0.9, \"color\": \"pink\"},{\"chain\": \"B\"});\nviewer_1730070673886087.render();\n})\n});\n</script>",
      "text/html": [
       "<div id=\"3dmolviewer_1730070673886087\"  style=\"position: relative; width: 640px; height: 480px;\">\n",
       "        <p id=\"3dmolwarning_1730070673886087\" style=\"background-color:#ffcccc;color:black\">3Dmol.js failed to load for some reason.  Please check your browser console for error messages.<br></p>\n",
       "        </div>\n",
       "<script>\n",
       "\n",
       "var loadScriptAsync = function(uri){\n",
       "  return new Promise((resolve, reject) => {\n",
       "    //this is to ignore the existence of requirejs amd\n",
       "    var savedexports, savedmodule;\n",
       "    if (typeof exports !== 'undefined') savedexports = exports;\n",
       "    else exports = {}\n",
       "    if (typeof module !== 'undefined') savedmodule = module;\n",
       "    else module = {}\n",
       "\n",
       "    var tag = document.createElement('script');\n",
       "    tag.src = uri;\n",
       "    tag.async = true;\n",
       "    tag.onload = () => {\n",
       "        exports = savedexports;\n",
       "        module = savedmodule;\n",
       "        resolve();\n",
       "    };\n",
       "  var firstScriptTag = document.getElementsByTagName('script')[0];\n",
       "  firstScriptTag.parentNode.insertBefore(tag, firstScriptTag);\n",
       "});\n",
       "};\n",
       "\n",
       "if(typeof $3Dmolpromise === 'undefined') {\n",
       "$3Dmolpromise = null;\n",
       "  $3Dmolpromise = loadScriptAsync('https://cdnjs.cloudflare.com/ajax/libs/3Dmol/2.4.0/3Dmol-min.js');\n",
       "}\n",
       "\n",
       "var viewer_1730070673886087 = null;\n",
       "var warn = document.getElementById(\"3dmolwarning_1730070673886087\");\n",
       "if(warn) {\n",
       "    warn.parentNode.removeChild(warn);\n",
       "}\n",
       "$3Dmolpromise.then(function() {\n",
       "viewer_1730070673886087 = $3Dmol.createViewer(document.getElementById(\"3dmolviewer_1730070673886087\"),{backgroundColor:\"white\"});\n",
       "$3Dmol.download(\"pdb:2dn1\", viewer_1730070673886087, {}, function() {\n",
       "viewer_1730070673886087.zoomTo();\n",
       "\tviewer_1730070673886087.setStyle({\"chain\": \"A\"},{\"cartoon\": {\"color\": \"blue\"}});\n",
       "\tviewer_1730070673886087.setStyle({\"chain\": \"B\"},{\"cartoon\": {\"color\": \"red\"}});\n",
       "\tviewer_1730070673886087.setStyle({\"chain\": \"C\"},{\"sphere\": {\"colorscheme\": \"orangeCarbon\"}});\n",
       "\tviewer_1730070673886087.addSurface(4,{\"opacity\": 0.9, \"color\": \"lightblue\"},{\"chain\": \"A\"});\n",
       "\tviewer_1730070673886087.addSurface(4,{\"opacity\": 0.9, \"color\": \"pink\"},{\"chain\": \"B\"});\n",
       "viewer_1730070673886087.render();\n",
       "})\n",
       "});\n",
       "</script>"
      ]
     },
     "metadata": {},
     "output_type": "display_data"
    }
   ],
   "source": [
    "view.clear()\n",
    "\n",
    "view=py3Dmol.view(query=f'pdb:{pdb}')\n",
    "\n",
    "heavychain = {'chain':'A'}\n",
    "lightchain = {'chain':'B'}\n",
    "antigen = {'chain':'C'}\n",
    "\n",
    "view.setStyle(heavychain,{'cartoon':{'color':'blue'}})\n",
    "view.setStyle(lightchain,{'cartoon':{'color':'red'}})\n",
    "view.setStyle(antigen,{'sphere':{'colorscheme':'orangeCarbon'}})\n",
    "\n",
    "view.addSurface(py3Dmol.SES,{'opacity':0.9,'color':'lightblue'}, heavychain) #Agrega la superficie a la cadena pesada\n",
    "view.addSurface(py3Dmol.SES,{'opacity':0.9,'color':'pink'},lightchain) #Agrega la superficie a la cadena ligera\n",
    "view.show()"
   ]
  },
  {
   "cell_type": "code",
   "execution_count": null,
   "id": "cde9dda7-5b0c-4448-9965-fcb5380afe60",
   "metadata": {},
   "outputs": [],
   "source": []
  }
 ],
 "metadata": {
  "kernelspec": {
   "display_name": "Python 3 (ipykernel)",
   "language": "python",
   "name": "python3"
  },
  "language_info": {
   "codemirror_mode": {
    "name": "ipython",
    "version": 3
   },
   "file_extension": ".py",
   "mimetype": "text/x-python",
   "name": "python",
   "nbconvert_exporter": "python",
   "pygments_lexer": "ipython3",
   "version": "3.11.5"
  }
 },
 "nbformat": 4,
 "nbformat_minor": 5
}

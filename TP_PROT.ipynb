{
 "cells": [
  {
   "cell_type": "code",
   "execution_count": 38,
   "id": "initial_id",
   "metadata": {
    "jupyter": {
     "is_executing": true
    }
   },
   "outputs": [
    {
     "name": "stderr",
     "output_type": "stream",
     "text": [
      "/Users/agustincarmusciano/Desktop/Bioinformatica/bioinformatics/lib/python3.11/site-packages/Bio/PDB/StructureBuilder.py:100: PDBConstructionWarning: WARNING: Chain A is discontinuous at line 4344.\n",
      "  warnings.warn(\n",
      "/Users/agustincarmusciano/Desktop/Bioinformatica/bioinformatics/lib/python3.11/site-packages/Bio/PDB/StructureBuilder.py:100: PDBConstructionWarning: WARNING: Chain B is discontinuous at line 4403.\n",
      "  warnings.warn(\n",
      "/Users/agustincarmusciano/Desktop/Bioinformatica/bioinformatics/lib/python3.11/site-packages/Bio/PDB/StructureBuilder.py:100: PDBConstructionWarning: WARNING: Chain A-2 is discontinuous at line 4448.\n",
      "  warnings.warn(\n",
      "/Users/agustincarmusciano/Desktop/Bioinformatica/bioinformatics/lib/python3.11/site-packages/Bio/PDB/StructureBuilder.py:100: PDBConstructionWarning: WARNING: Chain B-2 is discontinuous at line 4507.\n",
      "  warnings.warn(\n",
      "/Users/agustincarmusciano/Desktop/Bioinformatica/bioinformatics/lib/python3.11/site-packages/Bio/PDB/StructureBuilder.py:100: PDBConstructionWarning: WARNING: Chain A is discontinuous at line 4552.\n",
      "  warnings.warn(\n",
      "/Users/agustincarmusciano/Desktop/Bioinformatica/bioinformatics/lib/python3.11/site-packages/Bio/PDB/StructureBuilder.py:100: PDBConstructionWarning: WARNING: Chain B is discontinuous at line 4690.\n",
      "  warnings.warn(\n",
      "/Users/agustincarmusciano/Desktop/Bioinformatica/bioinformatics/lib/python3.11/site-packages/Bio/PDB/StructureBuilder.py:100: PDBConstructionWarning: WARNING: Chain A-2 is discontinuous at line 4782.\n",
      "  warnings.warn(\n",
      "/Users/agustincarmusciano/Desktop/Bioinformatica/bioinformatics/lib/python3.11/site-packages/Bio/PDB/StructureBuilder.py:100: PDBConstructionWarning: WARNING: Chain B-2 is discontinuous at line 4920.\n",
      "  warnings.warn(\n"
     ]
    }
   ],
   "source": [
    "from Bio.PDB.MMCIFParser import MMCIFParser\n",
    "\n",
    "parser = MMCIFParser()\n",
    "structure = parser.get_structure('2dn1', 'PROT/2dn1-assembly1.cif')"
   ]
  },
  {
   "cell_type": "markdown",
   "id": "75b408d5b403c1c8",
   "metadata": {},
   "source": []
  },
  {
   "cell_type": "markdown",
   "id": "9894a525fe19b57a",
   "metadata": {},
   "source": [
    "### Proteina"
   ]
  },
  {
   "cell_type": "markdown",
   "id": "34ea3587c0894624",
   "metadata": {},
   "source": [
    "(\"estructura\", Modelo, \"cadena\", (residuo))\n",
    "Estructura es un String con: structure_id\n",
    "Modelo es un entero empezando en 0\n",
    "Cadena, las cadenas A, B, C etc\n"
   ]
  },
  {
   "cell_type": "code",
   "execution_count": 39,
   "id": "7e3ee2593ac96af6",
   "metadata": {
    "ExecuteTime": {
     "end_time": "2024-10-26T13:01:44.446211Z",
     "start_time": "2024-10-26T13:01:44.434952Z"
    }
   },
   "outputs": [],
   "source": [
    "model = structure[0]\n",
    "chain = model['A']\n",
    "residue = chain[100]"
   ]
  },
  {
   "cell_type": "markdown",
   "id": "f3f54c24ba6f77fa",
   "metadata": {},
   "source": [
    "```\n",
    "residue.get_resname()    # returns the residue name, e.g. \"ASN\"\n",
    "residue.is_disordered()  # returns 1 if the residue has disordered atoms\n",
    "residue.get_segid()      # returns the SEGID, e.g. \"CHN1\"\n",
    "```\n"
   ]
  },
  {
   "cell_type": "code",
   "execution_count": 40,
   "id": "da68a3c62535a70",
   "metadata": {
    "ExecuteTime": {
     "end_time": "2024-10-26T13:01:47.703369Z",
     "start_time": "2024-10-26T13:01:47.694770Z"
    }
   },
   "outputs": [
    {
     "data": {
      "text/plain": [
       "'LEU'"
      ]
     },
     "execution_count": 40,
     "metadata": {},
     "output_type": "execute_result"
    }
   ],
   "source": [
    "residue.get_resname()"
   ]
  },
  {
   "cell_type": "markdown",
   "id": "b4ec9166bc7db586",
   "metadata": {},
   "source": [
    "### Atomo\n"
   ]
  },
  {
   "cell_type": "code",
   "execution_count": 41,
   "id": "79ebc3e85f882d2a",
   "metadata": {
    "ExecuteTime": {
     "end_time": "2024-10-26T13:06:53.926901Z",
     "start_time": "2024-10-26T13:06:53.906674Z"
    }
   },
   "outputs": [
    {
     "name": "stdout",
     "output_type": "stream",
     "text": [
      "('2dn1', 0, 'A', (' ', 100, ' '), ('CA', ' '))\n"
     ]
    }
   ],
   "source": [
    "atom = structure[0][\"A\"][100][\"CA\"]\n",
    "print(atom.full_id)"
   ]
  },
  {
   "cell_type": "code",
   "execution_count": 29,
   "id": "addbb4373ee1687f",
   "metadata": {
    "ExecuteTime": {
     "end_time": "2024-10-26T13:11:16.126473Z",
     "start_time": "2024-10-26T13:11:16.076089Z"
    }
   },
   "outputs": [
    {
     "name": "stdout",
     "output_type": "stream",
     "text": [
      "Name:  CA\n",
      "ID:    CA\n",
      "Coordinates:   [ 7.889 24.626 -3.368]\n",
      "Coordinates as vector: <Vector 7.89, 24.63, -3.37>\n",
      "Isotropic B Factor:    13.21\n",
      "Occupancy: 1.0\n",
      "Alternative location:   \n",
      "Std deviation of atomic parameters:    None\n",
      "Std deviation of anisotropic B factor: None\n",
      "Anisotropic B factor:  [ 0.0931  0.0417 -0.0832  0.1922 -0.0477  0.2167]\n",
      "Atom full name:    CA\n"
     ]
    }
   ],
   "source": [
    "def atom_info(a):\n",
    "     print(f\"Name:  {a.get_name()}\")  # atom name (spaces stripped, e.g. \"CA\")\n",
    "     print(f\"ID:    {a.get_id()}\")  # id (equals atom name)\n",
    "     print(f\"Coordinates:   {a.get_coord()}\")  # atomic coordinates\n",
    "     print(f\"Coordinates as vector: {a.get_vector()}\")  # atomic coordinates as Vector object\n",
    "     print(f\"Isotropic B Factor:    {a.get_bfactor()}\")  # isotropic B factor\n",
    "     print(f\"Occupancy: {a.get_occupancy()}\")  # occupancy\n",
    "     print(f\"Alternative location:  {a.get_altloc()}\")  # alternative location specifier\n",
    "     print(f\"Std deviation of atomic parameters:    {a.get_sigatm()}\")  # standard deviation of atomic parameters\n",
    "     print(f\"Std deviation of anisotropic B factor: {a.get_siguij()}\")  # standard deviation of anisotropic B factor\n",
    "     print(f\"Anisotropic B factor:  {a.get_anisou()}\")  # anisotropic B factor\n",
    "     print(f\"Atom full name:    {a.get_fullname()}\")  # atom name (with spaces, e.g. \".CA.\")\n",
    "     \n",
    "atom_info(atom)"
   ]
  },
  {
   "cell_type": "markdown",
   "id": "a3e88c6d4046ba80",
   "metadata": {},
   "source": [
    "### Recorriendo estructura"
   ]
  },
  {
   "cell_type": "code",
   "execution_count": 43,
   "id": "f71d67fba4f91965",
   "metadata": {
    "ExecuteTime": {
     "end_time": "2024-10-26T13:21:12.372316Z",
     "start_time": "2024-10-26T13:21:12.342267Z"
    }
   },
   "outputs": [
    {
     "data": {
      "text/html": [
       "<div>\n",
       "<style scoped>\n",
       "    .dataframe tbody tr th:only-of-type {\n",
       "        vertical-align: middle;\n",
       "    }\n",
       "\n",
       "    .dataframe tbody tr th {\n",
       "        vertical-align: top;\n",
       "    }\n",
       "\n",
       "    .dataframe thead th {\n",
       "        text-align: right;\n",
       "    }\n",
       "</style>\n",
       "<table border=\"1\" class=\"dataframe\">\n",
       "  <thead>\n",
       "    <tr style=\"text-align: right;\">\n",
       "      <th></th>\n",
       "      <th>chain</th>\n",
       "      <th>residue</th>\n",
       "      <th>atom</th>\n",
       "    </tr>\n",
       "  </thead>\n",
       "  <tbody>\n",
       "    <tr>\n",
       "      <th>0</th>\n",
       "      <td>((&lt;Atom N&gt;, &lt;Atom CA&gt;, &lt;Atom C&gt;, &lt;Atom O&gt;, &lt;At...</td>\n",
       "      <td>(&lt;Atom N&gt;, &lt;Atom CA&gt;, &lt;Atom C&gt;, &lt;Atom O&gt;, &lt;Ato...</td>\n",
       "      <td>&lt;Atom N&gt;</td>\n",
       "    </tr>\n",
       "    <tr>\n",
       "      <th>1</th>\n",
       "      <td>((&lt;Atom N&gt;, &lt;Atom CA&gt;, &lt;Atom C&gt;, &lt;Atom O&gt;, &lt;At...</td>\n",
       "      <td>(&lt;Atom N&gt;, &lt;Atom CA&gt;, &lt;Atom C&gt;, &lt;Atom O&gt;, &lt;Ato...</td>\n",
       "      <td>&lt;Atom CA&gt;</td>\n",
       "    </tr>\n",
       "    <tr>\n",
       "      <th>2</th>\n",
       "      <td>((&lt;Atom N&gt;, &lt;Atom CA&gt;, &lt;Atom C&gt;, &lt;Atom O&gt;, &lt;At...</td>\n",
       "      <td>(&lt;Atom N&gt;, &lt;Atom CA&gt;, &lt;Atom C&gt;, &lt;Atom O&gt;, &lt;Ato...</td>\n",
       "      <td>&lt;Atom C&gt;</td>\n",
       "    </tr>\n",
       "    <tr>\n",
       "      <th>3</th>\n",
       "      <td>((&lt;Atom N&gt;, &lt;Atom CA&gt;, &lt;Atom C&gt;, &lt;Atom O&gt;, &lt;At...</td>\n",
       "      <td>(&lt;Atom N&gt;, &lt;Atom CA&gt;, &lt;Atom C&gt;, &lt;Atom O&gt;, &lt;Ato...</td>\n",
       "      <td>&lt;Atom O&gt;</td>\n",
       "    </tr>\n",
       "    <tr>\n",
       "      <th>4</th>\n",
       "      <td>((&lt;Atom N&gt;, &lt;Atom CA&gt;, &lt;Atom C&gt;, &lt;Atom O&gt;, &lt;At...</td>\n",
       "      <td>(&lt;Atom N&gt;, &lt;Atom CA&gt;, &lt;Atom C&gt;, &lt;Atom O&gt;, &lt;Ato...</td>\n",
       "      <td>&lt;Atom CB&gt;</td>\n",
       "    </tr>\n",
       "  </tbody>\n",
       "</table>\n",
       "</div>"
      ],
      "text/plain": [
       "                                               chain  \\\n",
       "0  ((<Atom N>, <Atom CA>, <Atom C>, <Atom O>, <At...   \n",
       "1  ((<Atom N>, <Atom CA>, <Atom C>, <Atom O>, <At...   \n",
       "2  ((<Atom N>, <Atom CA>, <Atom C>, <Atom O>, <At...   \n",
       "3  ((<Atom N>, <Atom CA>, <Atom C>, <Atom O>, <At...   \n",
       "4  ((<Atom N>, <Atom CA>, <Atom C>, <Atom O>, <At...   \n",
       "\n",
       "                                             residue       atom  \n",
       "0  (<Atom N>, <Atom CA>, <Atom C>, <Atom O>, <Ato...   <Atom N>  \n",
       "1  (<Atom N>, <Atom CA>, <Atom C>, <Atom O>, <Ato...  <Atom CA>  \n",
       "2  (<Atom N>, <Atom CA>, <Atom C>, <Atom O>, <Ato...   <Atom C>  \n",
       "3  (<Atom N>, <Atom CA>, <Atom C>, <Atom O>, <Ato...   <Atom O>  \n",
       "4  (<Atom N>, <Atom CA>, <Atom C>, <Atom O>, <Ato...  <Atom CB>  "
      ]
     },
     "execution_count": 43,
     "metadata": {},
     "output_type": "execute_result"
    }
   ],
   "source": [
    "import pandas as pd\n",
    "\n",
    "complete_structure = []\n",
    "\n",
    "chains = structure.get_chains()\n",
    "for chain in chains:\n",
    "    residues = chain.get_residues()\n",
    "    for residue in residues:\n",
    "        atoms = residue.get_atoms()\n",
    "        for atom in atoms:\n",
    "            complete_structure.append([chain, residue, atom])\n",
    "columns = [\"chain\", \"residue\", \"atom\"]\n",
    "df_structure = pd.DataFrame(complete_structure, columns=columns)\n",
    "\n",
    "df_structure.head()\n"
   ]
  },
  {
   "cell_type": "markdown",
   "id": "237e82c3276e84cf",
   "metadata": {},
   "source": [
    "### Visualización"
   ]
  },
  {
   "cell_type": "code",
   "execution_count": 44,
   "id": "750603649c0869ee",
   "metadata": {
    "ExecuteTime": {
     "end_time": "2024-10-26T13:37:26.930160Z",
     "start_time": "2024-10-26T13:37:26.921568Z"
    }
   },
   "outputs": [],
   "source": [
    "import py3Dmol"
   ]
  },
  {
   "cell_type": "code",
   "execution_count": 45,
   "id": "a70aba8efb46b6d5",
   "metadata": {
    "ExecuteTime": {
     "end_time": "2024-10-26T13:37:28.566833Z",
     "start_time": "2024-10-26T13:37:28.552952Z"
    }
   },
   "outputs": [
    {
     "data": {
      "application/3dmoljs_load.v0": "<div id=\"3dmolviewer_17300703917361689\"  style=\"position: relative; width: 640px; height: 480px;\">\n        <p id=\"3dmolwarning_17300703917361689\" style=\"background-color:#ffcccc;color:black\">3Dmol.js failed to load for some reason.  Please check your browser console for error messages.<br></p>\n        </div>\n<script>\n\nvar loadScriptAsync = function(uri){\n  return new Promise((resolve, reject) => {\n    //this is to ignore the existence of requirejs amd\n    var savedexports, savedmodule;\n    if (typeof exports !== 'undefined') savedexports = exports;\n    else exports = {}\n    if (typeof module !== 'undefined') savedmodule = module;\n    else module = {}\n\n    var tag = document.createElement('script');\n    tag.src = uri;\n    tag.async = true;\n    tag.onload = () => {\n        exports = savedexports;\n        module = savedmodule;\n        resolve();\n    };\n  var firstScriptTag = document.getElementsByTagName('script')[0];\n  firstScriptTag.parentNode.insertBefore(tag, firstScriptTag);\n});\n};\n\nif(typeof $3Dmolpromise === 'undefined') {\n$3Dmolpromise = null;\n  $3Dmolpromise = loadScriptAsync('https://cdnjs.cloudflare.com/ajax/libs/3Dmol/2.4.0/3Dmol-min.js');\n}\n\nvar viewer_17300703917361689 = null;\nvar warn = document.getElementById(\"3dmolwarning_17300703917361689\");\nif(warn) {\n    warn.parentNode.removeChild(warn);\n}\n$3Dmolpromise.then(function() {\nviewer_17300703917361689 = $3Dmol.createViewer(document.getElementById(\"3dmolviewer_17300703917361689\"),{backgroundColor:\"white\"});\n$3Dmol.download(\"pdb:2dn1\", viewer_17300703917361689, {}, function() {\nviewer_17300703917361689.zoomTo();\n\tviewer_17300703917361689.zoomTo();\n\tviewer_17300703917361689.setBackgroundColor(\"white\");\n\tviewer_17300703917361689.setStyle({\"chain\": \"A\"},{\"cartoon\": {\"color\": \"purple\"}});\n\tviewer_17300703917361689.setStyle({\"chain\": \"B\"},{\"stick\": {\"color\": \"yellow\"}});\n\tviewer_17300703917361689.setStyle({\"chain\": \"C\"},{\"cartoon\": {\"color\": \"blue\"}});\nviewer_17300703917361689.render();\n})\n});\n</script>",
      "text/html": [
       "<div id=\"3dmolviewer_17300703917361689\"  style=\"position: relative; width: 640px; height: 480px;\">\n",
       "        <p id=\"3dmolwarning_17300703917361689\" style=\"background-color:#ffcccc;color:black\">3Dmol.js failed to load for some reason.  Please check your browser console for error messages.<br></p>\n",
       "        </div>\n",
       "<script>\n",
       "\n",
       "var loadScriptAsync = function(uri){\n",
       "  return new Promise((resolve, reject) => {\n",
       "    //this is to ignore the existence of requirejs amd\n",
       "    var savedexports, savedmodule;\n",
       "    if (typeof exports !== 'undefined') savedexports = exports;\n",
       "    else exports = {}\n",
       "    if (typeof module !== 'undefined') savedmodule = module;\n",
       "    else module = {}\n",
       "\n",
       "    var tag = document.createElement('script');\n",
       "    tag.src = uri;\n",
       "    tag.async = true;\n",
       "    tag.onload = () => {\n",
       "        exports = savedexports;\n",
       "        module = savedmodule;\n",
       "        resolve();\n",
       "    };\n",
       "  var firstScriptTag = document.getElementsByTagName('script')[0];\n",
       "  firstScriptTag.parentNode.insertBefore(tag, firstScriptTag);\n",
       "});\n",
       "};\n",
       "\n",
       "if(typeof $3Dmolpromise === 'undefined') {\n",
       "$3Dmolpromise = null;\n",
       "  $3Dmolpromise = loadScriptAsync('https://cdnjs.cloudflare.com/ajax/libs/3Dmol/2.4.0/3Dmol-min.js');\n",
       "}\n",
       "\n",
       "var viewer_17300703917361689 = null;\n",
       "var warn = document.getElementById(\"3dmolwarning_17300703917361689\");\n",
       "if(warn) {\n",
       "    warn.parentNode.removeChild(warn);\n",
       "}\n",
       "$3Dmolpromise.then(function() {\n",
       "viewer_17300703917361689 = $3Dmol.createViewer(document.getElementById(\"3dmolviewer_17300703917361689\"),{backgroundColor:\"white\"});\n",
       "$3Dmol.download(\"pdb:2dn1\", viewer_17300703917361689, {}, function() {\n",
       "viewer_17300703917361689.zoomTo();\n",
       "\tviewer_17300703917361689.zoomTo();\n",
       "\tviewer_17300703917361689.setBackgroundColor(\"white\");\n",
       "\tviewer_17300703917361689.setStyle({\"chain\": \"A\"},{\"cartoon\": {\"color\": \"purple\"}});\n",
       "\tviewer_17300703917361689.setStyle({\"chain\": \"B\"},{\"stick\": {\"color\": \"yellow\"}});\n",
       "\tviewer_17300703917361689.setStyle({\"chain\": \"C\"},{\"cartoon\": {\"color\": \"blue\"}});\n",
       "viewer_17300703917361689.render();\n",
       "})\n",
       "});\n",
       "</script>"
      ]
     },
     "metadata": {},
     "output_type": "display_data"
    }
   ],
   "source": [
    "#Codigo de PDB que queremos visualizar\n",
    "pdb='2dn1'\n",
    "view=py3Dmol.view(query=f'pdb:{pdb}')\n",
    "#Zoom a la estructura\n",
    "view.zoomTo()\n",
    "#Color de fondo\n",
    "view.setBackgroundColor('white')\n",
    "#Visualizamos la cadena A con el stylo de Cartoon en un color determinado\n",
    "view.setStyle({'chain':'A'},{'cartoon': {'color':'purple'}})\n",
    "view.setStyle({'chain':'B'},{'stick': {'color':'yellow'}})\n",
    "view.setStyle({'chain':'C'},{'cartoon': {'color':'blue'}})\n",
    "#Inicializamos el visualizador\n",
    "view.show()"
   ]
  },
  {
   "cell_type": "markdown",
   "id": "51fc8de8-e5c7-4e2a-8250-fa993a04ee62",
   "metadata": {},
   "source": [
    "### Visualización específica"
   ]
  },
  {
   "cell_type": "code",
   "execution_count": 58,
   "id": "1e58d7c5-4f3e-497a-83ae-d01d5774e679",
   "metadata": {},
   "outputs": [
    {
     "data": {
      "application/3dmoljs_load.v0": "<div id=\"3dmolviewer_1730070821708572\"  style=\"position: relative; width: 640px; height: 480px;\">\n        <p id=\"3dmolwarning_1730070821708572\" style=\"background-color:#ffcccc;color:black\">3Dmol.js failed to load for some reason.  Please check your browser console for error messages.<br></p>\n        </div>\n<script>\n\nvar loadScriptAsync = function(uri){\n  return new Promise((resolve, reject) => {\n    //this is to ignore the existence of requirejs amd\n    var savedexports, savedmodule;\n    if (typeof exports !== 'undefined') savedexports = exports;\n    else exports = {}\n    if (typeof module !== 'undefined') savedmodule = module;\n    else module = {}\n\n    var tag = document.createElement('script');\n    tag.src = uri;\n    tag.async = true;\n    tag.onload = () => {\n        exports = savedexports;\n        module = savedmodule;\n        resolve();\n    };\n  var firstScriptTag = document.getElementsByTagName('script')[0];\n  firstScriptTag.parentNode.insertBefore(tag, firstScriptTag);\n});\n};\n\nif(typeof $3Dmolpromise === 'undefined') {\n$3Dmolpromise = null;\n  $3Dmolpromise = loadScriptAsync('https://cdnjs.cloudflare.com/ajax/libs/3Dmol/2.4.0/3Dmol-min.js');\n}\n\nvar viewer_1730070821708572 = null;\nvar warn = document.getElementById(\"3dmolwarning_1730070821708572\");\nif(warn) {\n    warn.parentNode.removeChild(warn);\n}\n$3Dmolpromise.then(function() {\nviewer_1730070821708572 = $3Dmol.createViewer(document.getElementById(\"3dmolviewer_1730070821708572\"),{backgroundColor:\"white\"});\n$3Dmol.download(\"pdb:2dn1\", viewer_1730070821708572, {}, function() {\nviewer_1730070821708572.zoomTo();\n\tviewer_1730070821708572.zoomTo();\n\tviewer_1730070821708572.setBackgroundColor(\"white\");\n\tviewer_1730070821708572.addStyle({\"chain\": \"A\", \"resi\": \"1\"},{\"stick\": {\"colorscheme\": \"purple\"}});\n\tviewer_1730070821708572.addStyle({\"chain\": \"B\", \"resn\": \"ALA\"},{\"sphere\": {\"colorscheme\": \"greenCarbon\"}});\n\tviewer_1730070821708572.setStyle({\"elem\": \"Fe\"},{\"sphere\": {\"radius\": 1, \"color\": \"yellow\"}});\nviewer_1730070821708572.render();\n})\n});\n</script>",
      "text/html": [
       "<div id=\"3dmolviewer_1730070821708572\"  style=\"position: relative; width: 640px; height: 480px;\">\n",
       "        <p id=\"3dmolwarning_1730070821708572\" style=\"background-color:#ffcccc;color:black\">3Dmol.js failed to load for some reason.  Please check your browser console for error messages.<br></p>\n",
       "        </div>\n",
       "<script>\n",
       "\n",
       "var loadScriptAsync = function(uri){\n",
       "  return new Promise((resolve, reject) => {\n",
       "    //this is to ignore the existence of requirejs amd\n",
       "    var savedexports, savedmodule;\n",
       "    if (typeof exports !== 'undefined') savedexports = exports;\n",
       "    else exports = {}\n",
       "    if (typeof module !== 'undefined') savedmodule = module;\n",
       "    else module = {}\n",
       "\n",
       "    var tag = document.createElement('script');\n",
       "    tag.src = uri;\n",
       "    tag.async = true;\n",
       "    tag.onload = () => {\n",
       "        exports = savedexports;\n",
       "        module = savedmodule;\n",
       "        resolve();\n",
       "    };\n",
       "  var firstScriptTag = document.getElementsByTagName('script')[0];\n",
       "  firstScriptTag.parentNode.insertBefore(tag, firstScriptTag);\n",
       "});\n",
       "};\n",
       "\n",
       "if(typeof $3Dmolpromise === 'undefined') {\n",
       "$3Dmolpromise = null;\n",
       "  $3Dmolpromise = loadScriptAsync('https://cdnjs.cloudflare.com/ajax/libs/3Dmol/2.4.0/3Dmol-min.js');\n",
       "}\n",
       "\n",
       "var viewer_1730070821708572 = null;\n",
       "var warn = document.getElementById(\"3dmolwarning_1730070821708572\");\n",
       "if(warn) {\n",
       "    warn.parentNode.removeChild(warn);\n",
       "}\n",
       "$3Dmolpromise.then(function() {\n",
       "viewer_1730070821708572 = $3Dmol.createViewer(document.getElementById(\"3dmolviewer_1730070821708572\"),{backgroundColor:\"white\"});\n",
       "$3Dmol.download(\"pdb:2dn1\", viewer_1730070821708572, {}, function() {\n",
       "viewer_1730070821708572.zoomTo();\n",
       "\tviewer_1730070821708572.zoomTo();\n",
       "\tviewer_1730070821708572.setBackgroundColor(\"white\");\n",
       "\tviewer_1730070821708572.addStyle({\"chain\": \"A\", \"resi\": \"1\"},{\"stick\": {\"colorscheme\": \"purple\"}});\n",
       "\tviewer_1730070821708572.addStyle({\"chain\": \"B\", \"resn\": \"ALA\"},{\"sphere\": {\"colorscheme\": \"greenCarbon\"}});\n",
       "\tviewer_1730070821708572.setStyle({\"elem\": \"Fe\"},{\"sphere\": {\"radius\": 1, \"color\": \"yellow\"}});\n",
       "viewer_1730070821708572.render();\n",
       "})\n",
       "});\n",
       "</script>"
      ]
     },
     "metadata": {},
     "output_type": "display_data"
    },
    {
     "data": {
      "text/plain": [
       "<py3Dmol.view at 0x112a1e650>"
      ]
     },
     "execution_count": 58,
     "metadata": {},
     "output_type": "execute_result"
    }
   ],
   "source": [
    "residuo = 1\n",
    "aminoacido = 'ALA'\n",
    "elem = 'Fe'\n",
    "\n",
    "view.clear()\n",
    "view=py3Dmol.view(query=f'pdb:{pdb}')\n",
    "#Zoom a la estructura\n",
    "view.zoomTo()\n",
    "#Color de fondo\n",
    "view.setBackgroundColor('white')\n",
    "# Para ver una posicion especifica vamos con el comando RESI\n",
    "view.addStyle({'chain':'A','resi':f\"{residuo}\"},{'stick':{'colorscheme':'purple'}})\n",
    "\n",
    "# Para ver todos los aminoacidos Alanina  vamos con el comando RESN\n",
    "view.addStyle({'chain':'B','resn':aminoacido},{'sphere':{'colorscheme':'greenCarbon'}})\n",
    "\n",
    "# Para ver un Atomo especifico\n",
    "view.setStyle({'elem': elem}, {'sphere': {'radius': 1, 'color': 'yellow'}})"
   ]
  },
  {
   "cell_type": "markdown",
   "id": "5aeb990e-e83c-4c02-ad6b-db7ed03b5721",
   "metadata": {},
   "source": [
    "### Visualizacion estructura con labels"
   ]
  },
  {
   "cell_type": "code",
   "execution_count": 48,
   "id": "9f840093-f0d8-450c-832d-361d2bfa8ac4",
   "metadata": {},
   "outputs": [
    {
     "data": {
      "application/3dmoljs_load.v0": "<div id=\"3dmolviewer_1730070426511853\"  style=\"position: relative; width: 640px; height: 480px;\">\n        <p id=\"3dmolwarning_1730070426511853\" style=\"background-color:#ffcccc;color:black\">3Dmol.js failed to load for some reason.  Please check your browser console for error messages.<br></p>\n        </div>\n<script>\n\nvar loadScriptAsync = function(uri){\n  return new Promise((resolve, reject) => {\n    //this is to ignore the existence of requirejs amd\n    var savedexports, savedmodule;\n    if (typeof exports !== 'undefined') savedexports = exports;\n    else exports = {}\n    if (typeof module !== 'undefined') savedmodule = module;\n    else module = {}\n\n    var tag = document.createElement('script');\n    tag.src = uri;\n    tag.async = true;\n    tag.onload = () => {\n        exports = savedexports;\n        module = savedmodule;\n        resolve();\n    };\n  var firstScriptTag = document.getElementsByTagName('script')[0];\n  firstScriptTag.parentNode.insertBefore(tag, firstScriptTag);\n});\n};\n\nif(typeof $3Dmolpromise === 'undefined') {\n$3Dmolpromise = null;\n  $3Dmolpromise = loadScriptAsync('https://cdnjs.cloudflare.com/ajax/libs/3Dmol/2.4.0/3Dmol-min.js');\n}\n\nvar viewer_1730070426511853 = null;\nvar warn = document.getElementById(\"3dmolwarning_1730070426511853\");\nif(warn) {\n    warn.parentNode.removeChild(warn);\n}\n$3Dmolpromise.then(function() {\nviewer_1730070426511853 = $3Dmol.createViewer(document.getElementById(\"3dmolviewer_1730070426511853\"),{backgroundColor:\"white\"});\n$3Dmol.download(\"pdb:2dn1\", viewer_1730070426511853, {}, function() {\nviewer_1730070426511853.zoomTo();\n\tviewer_1730070426511853.addLabel(\"alpha subunits\",{\"fontColor\": \"orange\", \"backgroundColor\": \"lightgray\"},{\"chain\": [\"A\", \"B\"]});\n\tviewer_1730070426511853.setStyle({\"chain\": [\"A\", \"B\"]},{\"cartoon\": {\"color\": \"red\"}});\n\tviewer_1730070426511853.addLabel(\"beta subunits\",{\"fontColor\": \"blue\", \"backgroundColor\": \"lightgray\"},{\"chain\": [\"C\", \"D\"]});\n\tviewer_1730070426511853.setStyle({\"chain\": [\"C\", \"D\"]},{\"cartoon\": {\"color\": \"blue\"}});\n\tviewer_1730070426511853.setStyle({\"resn\": \"HEM\"},{\"sphere\": {\"colorscheme\": \"greenCarbon\"}});\nviewer_1730070426511853.render();\n})\n});\n</script>",
      "text/html": [
       "<div id=\"3dmolviewer_1730070426511853\"  style=\"position: relative; width: 640px; height: 480px;\">\n",
       "        <p id=\"3dmolwarning_1730070426511853\" style=\"background-color:#ffcccc;color:black\">3Dmol.js failed to load for some reason.  Please check your browser console for error messages.<br></p>\n",
       "        </div>\n",
       "<script>\n",
       "\n",
       "var loadScriptAsync = function(uri){\n",
       "  return new Promise((resolve, reject) => {\n",
       "    //this is to ignore the existence of requirejs amd\n",
       "    var savedexports, savedmodule;\n",
       "    if (typeof exports !== 'undefined') savedexports = exports;\n",
       "    else exports = {}\n",
       "    if (typeof module !== 'undefined') savedmodule = module;\n",
       "    else module = {}\n",
       "\n",
       "    var tag = document.createElement('script');\n",
       "    tag.src = uri;\n",
       "    tag.async = true;\n",
       "    tag.onload = () => {\n",
       "        exports = savedexports;\n",
       "        module = savedmodule;\n",
       "        resolve();\n",
       "    };\n",
       "  var firstScriptTag = document.getElementsByTagName('script')[0];\n",
       "  firstScriptTag.parentNode.insertBefore(tag, firstScriptTag);\n",
       "});\n",
       "};\n",
       "\n",
       "if(typeof $3Dmolpromise === 'undefined') {\n",
       "$3Dmolpromise = null;\n",
       "  $3Dmolpromise = loadScriptAsync('https://cdnjs.cloudflare.com/ajax/libs/3Dmol/2.4.0/3Dmol-min.js');\n",
       "}\n",
       "\n",
       "var viewer_1730070426511853 = null;\n",
       "var warn = document.getElementById(\"3dmolwarning_1730070426511853\");\n",
       "if(warn) {\n",
       "    warn.parentNode.removeChild(warn);\n",
       "}\n",
       "$3Dmolpromise.then(function() {\n",
       "viewer_1730070426511853 = $3Dmol.createViewer(document.getElementById(\"3dmolviewer_1730070426511853\"),{backgroundColor:\"white\"});\n",
       "$3Dmol.download(\"pdb:2dn1\", viewer_1730070426511853, {}, function() {\n",
       "viewer_1730070426511853.zoomTo();\n",
       "\tviewer_1730070426511853.addLabel(\"alpha subunits\",{\"fontColor\": \"orange\", \"backgroundColor\": \"lightgray\"},{\"chain\": [\"A\", \"B\"]});\n",
       "\tviewer_1730070426511853.setStyle({\"chain\": [\"A\", \"B\"]},{\"cartoon\": {\"color\": \"red\"}});\n",
       "\tviewer_1730070426511853.addLabel(\"beta subunits\",{\"fontColor\": \"blue\", \"backgroundColor\": \"lightgray\"},{\"chain\": [\"C\", \"D\"]});\n",
       "\tviewer_1730070426511853.setStyle({\"chain\": [\"C\", \"D\"]},{\"cartoon\": {\"color\": \"blue\"}});\n",
       "\tviewer_1730070426511853.setStyle({\"resn\": \"HEM\"},{\"sphere\": {\"colorscheme\": \"greenCarbon\"}});\n",
       "viewer_1730070426511853.render();\n",
       "})\n",
       "});\n",
       "</script>"
      ]
     },
     "metadata": {},
     "output_type": "display_data"
    }
   ],
   "source": [
    "view.clear()\n",
    "\n",
    "view=py3Dmol.view(query=f'pdb:{pdb}')\n",
    "\n",
    "view.addLabel('alpha subunits', {'fontColor':'orange', 'backgroundColor':'lightgray'},\n",
    "                {'chain': ['A','B']})\n",
    "view.setStyle({'chain':['A','B']},{'cartoon': {'color': 'red'}}) # alpha subunits of hemoglobin\n",
    "\n",
    "\n",
    "view.addLabel('beta subunits', {'fontColor':'blue', 'backgroundColor':'lightgray'},\n",
    "                {'chain': ['C','D']})\n",
    "view.setStyle({'chain':['C','D']},{'cartoon': {'color': 'blue'}}) # beta subunits of hemoglobin\n",
    "\n",
    "view.setStyle({'resn': 'HEM'},{'sphere': {'colorscheme': 'greenCarbon'}})\n",
    "view.show()"
   ]
  },
  {
   "cell_type": "markdown",
   "id": "8f4015cc-1732-4555-a1b6-3b52a6b2d6cd",
   "metadata": {},
   "source": [
    "### Obtener distancias\n",
    "\n",
    "Con la siguiente funcion es posible obtener las distancias de los atomos en la estructura de la proteína"
   ]
  },
  {
   "cell_type": "code",
   "execution_count": 146,
   "id": "06d4cd27-7524-40a1-8898-a1f3bd7716c1",
   "metadata": {},
   "outputs": [
    {
     "data": {
      "text/html": [
       "<div>\n",
       "<style scoped>\n",
       "    .dataframe tbody tr th:only-of-type {\n",
       "        vertical-align: middle;\n",
       "    }\n",
       "\n",
       "    .dataframe tbody tr th {\n",
       "        vertical-align: top;\n",
       "    }\n",
       "\n",
       "    .dataframe thead th {\n",
       "        text-align: right;\n",
       "    }\n",
       "</style>\n",
       "<table border=\"1\" class=\"dataframe\">\n",
       "  <thead>\n",
       "    <tr style=\"text-align: right;\">\n",
       "      <th></th>\n",
       "      <th>ATOM1</th>\n",
       "      <th>ATOM2</th>\n",
       "      <th>ATOM1_RESIDUE_ID</th>\n",
       "      <th>ATOM2_RESIDUE_ID</th>\n",
       "      <th>ATOM1_CHAIN_ID</th>\n",
       "      <th>ATOM2_CHAIN_ID</th>\n",
       "      <th>DISTANCE</th>\n",
       "    </tr>\n",
       "  </thead>\n",
       "  <tbody>\n",
       "    <tr>\n",
       "      <th>7348</th>\n",
       "      <td>O</td>\n",
       "      <td>CA</td>\n",
       "      <td>( , 37,  )</td>\n",
       "      <td>( , 92,  )</td>\n",
       "      <td>B</td>\n",
       "      <td>A-2</td>\n",
       "      <td>4.907291</td>\n",
       "    </tr>\n",
       "  </tbody>\n",
       "</table>\n",
       "</div>"
      ],
      "text/plain": [
       "     ATOM1 ATOM2 ATOM1_RESIDUE_ID ATOM2_RESIDUE_ID ATOM1_CHAIN_ID  \\\n",
       "7348     O    CA       ( , 37,  )       ( , 92,  )              B   \n",
       "\n",
       "     ATOM2_CHAIN_ID  DISTANCE  \n",
       "7348            A-2  4.907291  "
      ]
     },
     "execution_count": 146,
     "metadata": {},
     "output_type": "execute_result"
    }
   ],
   "source": [
    "import numpy as np\n",
    "import pandas as pd\n",
    "\n",
    "# Función para calcular la distancia entre dos átomos\n",
    "def calculate_distance(atom1, atom2):\n",
    "    coord1 = atom1.get_coord()\n",
    "    coord2 = atom2.get_coord()\n",
    "    return np.linalg.norm(coord1 - coord2)\n",
    "\n",
    "# Función para obtener las distancias entre átomos especificados\n",
    "def obtain_distance(atoms, structure):\n",
    "    # Diccionario para almacenar las distancias entre pares de átomos\n",
    "    distances = {}\n",
    "    found_atoms = []\n",
    "    \n",
    "    # Recorrer cada cadena en la estructura\n",
    "    for chain in structure.get_chains():\n",
    "        # Recorrer cada residuo en la cadena\n",
    "        for residue in chain.get_residues():\n",
    "            # Buscar los átomos especificados en el residuo\n",
    "            for atom in residue.get_atoms():\n",
    "                if atom.get_name() in atoms:\n",
    "                    found_atoms.append((atom, residue.get_id(), chain.get_id()))\n",
    "            \n",
    "    # Calcular la distancia entre cada par de átomos encontrados\n",
    "    for i in range(len(found_atoms)):\n",
    "        atom1 = found_atoms[i][0]\n",
    "        for j in range(0, len(found_atoms), i + 1):\n",
    "            atom2 = found_atoms[j][0]\n",
    "            if(atom2.get_name()!=atom1.get_name()):\n",
    "                dist = calculate_distance(atom1, atom2)\n",
    "                # Guardar la distancia en el diccionario con el nombre de los átomos y el residuo\n",
    "                distances[(atom1.get_name(), atom2.get_name(), found_atoms[i][1], found_atoms[j][1], \n",
    "                           found_atoms[i][2], found_atoms[j][2])] = dist\n",
    "\n",
    "    data = list(distances.keys())\n",
    "    dist = list(distances.values())\n",
    "    columns = ['ATOM1','ATOM2','ATOM1_RESIDUE_ID', 'ATOM2_RESIDUE_ID', 'ATOM1_CHAIN_ID', 'ATOM2_CHAIN_ID']\n",
    "    df_distances = pd.DataFrame(data, columns=columns)\n",
    "    df_distances['DISTANCE'] = dist\n",
    "    return df_distances\n",
    "\n",
    "distances = obtain_distance(['CA','O'], structure)\n",
    "distances[(distances.DISTANCE<5) & (distances.ATOM1_CHAIN_ID!=distances.ATOM2_CHAIN_ID)]"
   ]
  },
  {
   "cell_type": "markdown",
   "id": "c2b11fd4-c321-4468-91d3-5b74869506d1",
   "metadata": {},
   "source": [
    "### Visualización con lineas"
   ]
  },
  {
   "cell_type": "code",
   "execution_count": 147,
   "id": "f274daa4-dd36-40c3-b84b-67029816e99c",
   "metadata": {},
   "outputs": [
    {
     "data": {
      "application/3dmoljs_load.v0": "<div id=\"3dmolviewer_1730074882883359\"  style=\"position: relative; width: 640px; height: 480px;\">\n        <p id=\"3dmolwarning_1730074882883359\" style=\"background-color:#ffcccc;color:black\">3Dmol.js failed to load for some reason.  Please check your browser console for error messages.<br></p>\n        </div>\n<script>\n\nvar loadScriptAsync = function(uri){\n  return new Promise((resolve, reject) => {\n    //this is to ignore the existence of requirejs amd\n    var savedexports, savedmodule;\n    if (typeof exports !== 'undefined') savedexports = exports;\n    else exports = {}\n    if (typeof module !== 'undefined') savedmodule = module;\n    else module = {}\n\n    var tag = document.createElement('script');\n    tag.src = uri;\n    tag.async = true;\n    tag.onload = () => {\n        exports = savedexports;\n        module = savedmodule;\n        resolve();\n    };\n  var firstScriptTag = document.getElementsByTagName('script')[0];\n  firstScriptTag.parentNode.insertBefore(tag, firstScriptTag);\n});\n};\n\nif(typeof $3Dmolpromise === 'undefined') {\n$3Dmolpromise = null;\n  $3Dmolpromise = loadScriptAsync('https://cdnjs.cloudflare.com/ajax/libs/3Dmol/2.4.0/3Dmol-min.js');\n}\n\nvar viewer_1730074882883359 = null;\nvar warn = document.getElementById(\"3dmolwarning_1730074882883359\");\nif(warn) {\n    warn.parentNode.removeChild(warn);\n}\n$3Dmolpromise.then(function() {\nviewer_1730074882883359 = $3Dmol.createViewer(document.getElementById(\"3dmolviewer_1730074882883359\"),{backgroundColor:\"white\"});\n$3Dmol.download(\"pdb:2dn1\", viewer_1730074882883359, {}, function() {\nviewer_1730074882883359.zoomTo();\n\tviewer_1730074882883359.setStyle({\"stick\": {\"color\": \"skyblue\"}});\n\tviewer_1730074882883359.addLine({\"color\": \"red\", \"linewidth\": 1000, \"start\": {\"chain\": \"B\", \"resi\": 37, \"atom\": \"O\"}, \"end\": {\"chain\": \"A-2\", \"resi\": 92, \"atom\": \"CA\"}});\nviewer_1730074882883359.render();\n})\n});\n</script>",
      "text/html": [
       "<div id=\"3dmolviewer_1730074882883359\"  style=\"position: relative; width: 640px; height: 480px;\">\n",
       "        <p id=\"3dmolwarning_1730074882883359\" style=\"background-color:#ffcccc;color:black\">3Dmol.js failed to load for some reason.  Please check your browser console for error messages.<br></p>\n",
       "        </div>\n",
       "<script>\n",
       "\n",
       "var loadScriptAsync = function(uri){\n",
       "  return new Promise((resolve, reject) => {\n",
       "    //this is to ignore the existence of requirejs amd\n",
       "    var savedexports, savedmodule;\n",
       "    if (typeof exports !== 'undefined') savedexports = exports;\n",
       "    else exports = {}\n",
       "    if (typeof module !== 'undefined') savedmodule = module;\n",
       "    else module = {}\n",
       "\n",
       "    var tag = document.createElement('script');\n",
       "    tag.src = uri;\n",
       "    tag.async = true;\n",
       "    tag.onload = () => {\n",
       "        exports = savedexports;\n",
       "        module = savedmodule;\n",
       "        resolve();\n",
       "    };\n",
       "  var firstScriptTag = document.getElementsByTagName('script')[0];\n",
       "  firstScriptTag.parentNode.insertBefore(tag, firstScriptTag);\n",
       "});\n",
       "};\n",
       "\n",
       "if(typeof $3Dmolpromise === 'undefined') {\n",
       "$3Dmolpromise = null;\n",
       "  $3Dmolpromise = loadScriptAsync('https://cdnjs.cloudflare.com/ajax/libs/3Dmol/2.4.0/3Dmol-min.js');\n",
       "}\n",
       "\n",
       "var viewer_1730074882883359 = null;\n",
       "var warn = document.getElementById(\"3dmolwarning_1730074882883359\");\n",
       "if(warn) {\n",
       "    warn.parentNode.removeChild(warn);\n",
       "}\n",
       "$3Dmolpromise.then(function() {\n",
       "viewer_1730074882883359 = $3Dmol.createViewer(document.getElementById(\"3dmolviewer_1730074882883359\"),{backgroundColor:\"white\"});\n",
       "$3Dmol.download(\"pdb:2dn1\", viewer_1730074882883359, {}, function() {\n",
       "viewer_1730074882883359.zoomTo();\n",
       "\tviewer_1730074882883359.setStyle({\"stick\": {\"color\": \"skyblue\"}});\n",
       "\tviewer_1730074882883359.addLine({\"color\": \"red\", \"linewidth\": 1000, \"start\": {\"chain\": \"B\", \"resi\": 37, \"atom\": \"O\"}, \"end\": {\"chain\": \"A-2\", \"resi\": 92, \"atom\": \"CA\"}});\n",
       "viewer_1730074882883359.render();\n",
       "})\n",
       "});\n",
       "</script>"
      ]
     },
     "metadata": {},
     "output_type": "display_data"
    }
   ],
   "source": [
    "view.clear()\n",
    "\n",
    "view=py3Dmol.view(query=f'pdb:{pdb}')\n",
    "\n",
    "# CONFIGURACION\n",
    "#=========================\n",
    "ATOM1='O'\t\n",
    "ATOM2='CA'\n",
    "ATOM1_RESIDUE_ID=37\t\n",
    "ATOM2_RESIDUE_ID=92\t\n",
    "ATOM1_CHAIN_ID='B'\t\n",
    "ATOM2_CHAIN_ID='A-2'\n",
    "#=========================\n",
    "\n",
    "# Estilo general de la estructura (por ejemplo, un estilo cartoon)\n",
    "view.setStyle({'stick': {'color':'skyblue'}})\n",
    "\n",
    "# Seleccionar dos átomos específicos (por ejemplo, atomos de residuo 50 y 100)\n",
    "# Ajusta 'resi' y 'atom' según tu estructura\n",
    "atom1 = {'chain':ATOM1_CHAIN_ID,'resi': ATOM1_RESIDUE_ID, 'atom': ATOM1}\n",
    "atom2 = {'chain':ATOM2_CHAIN_ID,'resi': ATOM2_RESIDUE_ID, 'atom': ATOM2}\n",
    "\n",
    "# Añadir una línea entre los átomos para visualizar la distancia\n",
    "view.addLine({'color':'red','linewidth': 1000,'start':atom1,'end':atom2})\n",
    "\n",
    "view.show()"
   ]
  },
  {
   "cell_type": "markdown",
   "id": "c51e8637-c937-4061-b338-dd1d26e40af1",
   "metadata": {},
   "source": [
    "### Visualización de superficie"
   ]
  },
  {
   "cell_type": "code",
   "execution_count": 56,
   "id": "8eb297d5-8222-4999-9342-b163ea94c8ab",
   "metadata": {},
   "outputs": [
    {
     "data": {
      "application/3dmoljs_load.v0": "<div id=\"3dmolviewer_1730070673886087\"  style=\"position: relative; width: 640px; height: 480px;\">\n        <p id=\"3dmolwarning_1730070673886087\" style=\"background-color:#ffcccc;color:black\">3Dmol.js failed to load for some reason.  Please check your browser console for error messages.<br></p>\n        </div>\n<script>\n\nvar loadScriptAsync = function(uri){\n  return new Promise((resolve, reject) => {\n    //this is to ignore the existence of requirejs amd\n    var savedexports, savedmodule;\n    if (typeof exports !== 'undefined') savedexports = exports;\n    else exports = {}\n    if (typeof module !== 'undefined') savedmodule = module;\n    else module = {}\n\n    var tag = document.createElement('script');\n    tag.src = uri;\n    tag.async = true;\n    tag.onload = () => {\n        exports = savedexports;\n        module = savedmodule;\n        resolve();\n    };\n  var firstScriptTag = document.getElementsByTagName('script')[0];\n  firstScriptTag.parentNode.insertBefore(tag, firstScriptTag);\n});\n};\n\nif(typeof $3Dmolpromise === 'undefined') {\n$3Dmolpromise = null;\n  $3Dmolpromise = loadScriptAsync('https://cdnjs.cloudflare.com/ajax/libs/3Dmol/2.4.0/3Dmol-min.js');\n}\n\nvar viewer_1730070673886087 = null;\nvar warn = document.getElementById(\"3dmolwarning_1730070673886087\");\nif(warn) {\n    warn.parentNode.removeChild(warn);\n}\n$3Dmolpromise.then(function() {\nviewer_1730070673886087 = $3Dmol.createViewer(document.getElementById(\"3dmolviewer_1730070673886087\"),{backgroundColor:\"white\"});\n$3Dmol.download(\"pdb:2dn1\", viewer_1730070673886087, {}, function() {\nviewer_1730070673886087.zoomTo();\n\tviewer_1730070673886087.setStyle({\"chain\": \"A\"},{\"cartoon\": {\"color\": \"blue\"}});\n\tviewer_1730070673886087.setStyle({\"chain\": \"B\"},{\"cartoon\": {\"color\": \"red\"}});\n\tviewer_1730070673886087.setStyle({\"chain\": \"C\"},{\"sphere\": {\"colorscheme\": \"orangeCarbon\"}});\n\tviewer_1730070673886087.addSurface(4,{\"opacity\": 0.9, \"color\": \"lightblue\"},{\"chain\": \"A\"});\n\tviewer_1730070673886087.addSurface(4,{\"opacity\": 0.9, \"color\": \"pink\"},{\"chain\": \"B\"});\nviewer_1730070673886087.render();\n})\n});\n</script>",
      "text/html": [
       "<div id=\"3dmolviewer_1730070673886087\"  style=\"position: relative; width: 640px; height: 480px;\">\n",
       "        <p id=\"3dmolwarning_1730070673886087\" style=\"background-color:#ffcccc;color:black\">3Dmol.js failed to load for some reason.  Please check your browser console for error messages.<br></p>\n",
       "        </div>\n",
       "<script>\n",
       "\n",
       "var loadScriptAsync = function(uri){\n",
       "  return new Promise((resolve, reject) => {\n",
       "    //this is to ignore the existence of requirejs amd\n",
       "    var savedexports, savedmodule;\n",
       "    if (typeof exports !== 'undefined') savedexports = exports;\n",
       "    else exports = {}\n",
       "    if (typeof module !== 'undefined') savedmodule = module;\n",
       "    else module = {}\n",
       "\n",
       "    var tag = document.createElement('script');\n",
       "    tag.src = uri;\n",
       "    tag.async = true;\n",
       "    tag.onload = () => {\n",
       "        exports = savedexports;\n",
       "        module = savedmodule;\n",
       "        resolve();\n",
       "    };\n",
       "  var firstScriptTag = document.getElementsByTagName('script')[0];\n",
       "  firstScriptTag.parentNode.insertBefore(tag, firstScriptTag);\n",
       "});\n",
       "};\n",
       "\n",
       "if(typeof $3Dmolpromise === 'undefined') {\n",
       "$3Dmolpromise = null;\n",
       "  $3Dmolpromise = loadScriptAsync('https://cdnjs.cloudflare.com/ajax/libs/3Dmol/2.4.0/3Dmol-min.js');\n",
       "}\n",
       "\n",
       "var viewer_1730070673886087 = null;\n",
       "var warn = document.getElementById(\"3dmolwarning_1730070673886087\");\n",
       "if(warn) {\n",
       "    warn.parentNode.removeChild(warn);\n",
       "}\n",
       "$3Dmolpromise.then(function() {\n",
       "viewer_1730070673886087 = $3Dmol.createViewer(document.getElementById(\"3dmolviewer_1730070673886087\"),{backgroundColor:\"white\"});\n",
       "$3Dmol.download(\"pdb:2dn1\", viewer_1730070673886087, {}, function() {\n",
       "viewer_1730070673886087.zoomTo();\n",
       "\tviewer_1730070673886087.setStyle({\"chain\": \"A\"},{\"cartoon\": {\"color\": \"blue\"}});\n",
       "\tviewer_1730070673886087.setStyle({\"chain\": \"B\"},{\"cartoon\": {\"color\": \"red\"}});\n",
       "\tviewer_1730070673886087.setStyle({\"chain\": \"C\"},{\"sphere\": {\"colorscheme\": \"orangeCarbon\"}});\n",
       "\tviewer_1730070673886087.addSurface(4,{\"opacity\": 0.9, \"color\": \"lightblue\"},{\"chain\": \"A\"});\n",
       "\tviewer_1730070673886087.addSurface(4,{\"opacity\": 0.9, \"color\": \"pink\"},{\"chain\": \"B\"});\n",
       "viewer_1730070673886087.render();\n",
       "})\n",
       "});\n",
       "</script>"
      ]
     },
     "metadata": {},
     "output_type": "display_data"
    }
   ],
   "source": [
    "view.clear()\n",
    "\n",
    "view=py3Dmol.view(query=f'pdb:{pdb}')\n",
    "\n",
    "heavychain = {'chain':'A'}\n",
    "lightchain = {'chain':'B'}\n",
    "antigen = {'chain':'C'}\n",
    "\n",
    "view.setStyle(heavychain,{'cartoon':{'color':'blue'}})\n",
    "view.setStyle(lightchain,{'cartoon':{'color':'red'}})\n",
    "view.setStyle(antigen,{'sphere':{'colorscheme':'orangeCarbon'}})\n",
    "\n",
    "view.addSurface(py3Dmol.SES,{'opacity':0.9,'color':'lightblue'}, heavychain) #Agrega la superficie a la cadena pesada\n",
    "view.addSurface(py3Dmol.SES,{'opacity':0.9,'color':'pink'},lightchain) #Agrega la superficie a la cadena ligera\n",
    "view.show()"
   ]
  },
  {
   "cell_type": "code",
   "execution_count": null,
   "id": "cde9dda7-5b0c-4448-9965-fcb5380afe60",
   "metadata": {},
   "outputs": [],
   "source": []
  }
 ],
 "metadata": {
  "kernelspec": {
   "display_name": "Python 3 (ipykernel)",
   "language": "python",
   "name": "python3"
  },
  "language_info": {
   "codemirror_mode": {
    "name": "ipython",
    "version": 3
   },
   "file_extension": ".py",
   "mimetype": "text/x-python",
   "name": "python",
   "nbconvert_exporter": "python",
   "pygments_lexer": "ipython3",
   "version": "3.11.5"
  }
 },
 "nbformat": 4,
 "nbformat_minor": 5
}
